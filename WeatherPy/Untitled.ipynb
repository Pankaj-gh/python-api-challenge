{
 "cells": [
  {
   "cell_type": "code",
   "execution_count": 1,
   "metadata": {},
   "outputs": [],
   "source": [
    "from citipy import citipy\n",
    "import pandas as pd\n",
    "import numpy as np\n",
    "import matplotlib.pyplot as plt\n",
    "import requests\n",
    "from config import weather_api_key,g_key\n",
    "import scipy.stats as sts\n",
    "from scipy.stats import linregress\n",
    "import time"
   ]
  },
  {
   "cell_type": "code",
   "execution_count": 2,
   "metadata": {},
   "outputs": [],
   "source": [
    "lat=np.random.uniform(-90.00,90.00,10000)"
   ]
  },
  {
   "cell_type": "code",
   "execution_count": 3,
   "metadata": {},
   "outputs": [],
   "source": [
    "lon=np.random.uniform(-180,180.00,10000)"
   ]
  },
  {
   "cell_type": "code",
   "execution_count": 4,
   "metadata": {},
   "outputs": [],
   "source": [
    "coordinates=list(zip(lat,lon))"
   ]
  },
  {
   "cell_type": "code",
   "execution_count": 5,
   "metadata": {},
   "outputs": [],
   "source": [
    "cities=set()"
   ]
  },
  {
   "cell_type": "code",
   "execution_count": 6,
   "metadata": {},
   "outputs": [],
   "source": [
    "\n",
    "for nos in coordinates:\n",
    "    citi=citipy.nearest_city(nos[0],nos[1])\n",
    "    city=citi.city_name\n",
    "    cities.add(city)\n",
    "    if len(cities)==600:\n",
    "        break"
   ]
  },
  {
   "cell_type": "code",
   "execution_count": 7,
   "metadata": {},
   "outputs": [
    {
     "data": {
      "text/plain": [
       "600"
      ]
     },
     "execution_count": 7,
     "metadata": {},
     "output_type": "execute_result"
    }
   ],
   "source": [
    "len(cities)"
   ]
  },
  {
   "cell_type": "code",
   "execution_count": 8,
   "metadata": {},
   "outputs": [],
   "source": [
    "cities=list(cities)"
   ]
  },
  {
   "cell_type": "code",
   "execution_count": 9,
   "metadata": {},
   "outputs": [
    {
     "data": {
      "text/plain": [
       "list"
      ]
     },
     "execution_count": 9,
     "metadata": {},
     "output_type": "execute_result"
    }
   ],
   "source": [
    "type(cities)"
   ]
  },
  {
   "cell_type": "code",
   "execution_count": 10,
   "metadata": {},
   "outputs": [
    {
     "data": {
      "text/html": [
       "<div>\n",
       "<style scoped>\n",
       "    .dataframe tbody tr th:only-of-type {\n",
       "        vertical-align: middle;\n",
       "    }\n",
       "\n",
       "    .dataframe tbody tr th {\n",
       "        vertical-align: top;\n",
       "    }\n",
       "\n",
       "    .dataframe thead th {\n",
       "        text-align: right;\n",
       "    }\n",
       "</style>\n",
       "<table border=\"1\" class=\"dataframe\">\n",
       "  <thead>\n",
       "    <tr style=\"text-align: right;\">\n",
       "      <th></th>\n",
       "      <th>Cities</th>\n",
       "    </tr>\n",
       "  </thead>\n",
       "  <tbody>\n",
       "    <tr>\n",
       "      <th>0</th>\n",
       "      <td>rancho palos verdes</td>\n",
       "    </tr>\n",
       "    <tr>\n",
       "      <th>1</th>\n",
       "      <td>sitka</td>\n",
       "    </tr>\n",
       "    <tr>\n",
       "      <th>2</th>\n",
       "      <td>port elizabeth</td>\n",
       "    </tr>\n",
       "    <tr>\n",
       "      <th>3</th>\n",
       "      <td>coihaique</td>\n",
       "    </tr>\n",
       "    <tr>\n",
       "      <th>4</th>\n",
       "      <td>dolores</td>\n",
       "    </tr>\n",
       "  </tbody>\n",
       "</table>\n",
       "</div>"
      ],
      "text/plain": [
       "                Cities\n",
       "0  rancho palos verdes\n",
       "1                sitka\n",
       "2       port elizabeth\n",
       "3            coihaique\n",
       "4              dolores"
      ]
     },
     "execution_count": 10,
     "metadata": {},
     "output_type": "execute_result"
    }
   ],
   "source": [
    "cities=pd.DataFrame({'Cities':cities})\n",
    "cities.head()"
   ]
  },
  {
   "cell_type": "code",
   "execution_count": 11,
   "metadata": {},
   "outputs": [],
   "source": [
    "cities['Latitude']=0\n",
    "cities['Longitude']=0\n",
    "cities['Cloudiness']=0\n",
    "cities['Date']=\"\"\n",
    "cities['Humidity']=0\n",
    "cities['Max_Temp']=0\n",
    "cities['Wind Speed']=0"
   ]
  },
  {
   "cell_type": "code",
   "execution_count": 12,
   "metadata": {},
   "outputs": [
    {
     "data": {
      "text/html": [
       "<div>\n",
       "<style scoped>\n",
       "    .dataframe tbody tr th:only-of-type {\n",
       "        vertical-align: middle;\n",
       "    }\n",
       "\n",
       "    .dataframe tbody tr th {\n",
       "        vertical-align: top;\n",
       "    }\n",
       "\n",
       "    .dataframe thead th {\n",
       "        text-align: right;\n",
       "    }\n",
       "</style>\n",
       "<table border=\"1\" class=\"dataframe\">\n",
       "  <thead>\n",
       "    <tr style=\"text-align: right;\">\n",
       "      <th></th>\n",
       "      <th>Cities</th>\n",
       "      <th>Latitude</th>\n",
       "      <th>Longitude</th>\n",
       "      <th>Cloudiness</th>\n",
       "      <th>Date</th>\n",
       "      <th>Humidity</th>\n",
       "      <th>Max_Temp</th>\n",
       "      <th>Wind Speed</th>\n",
       "    </tr>\n",
       "  </thead>\n",
       "  <tbody>\n",
       "    <tr>\n",
       "      <th>0</th>\n",
       "      <td>rancho palos verdes</td>\n",
       "      <td>0</td>\n",
       "      <td>0</td>\n",
       "      <td>0</td>\n",
       "      <td></td>\n",
       "      <td>0</td>\n",
       "      <td>0</td>\n",
       "      <td>0</td>\n",
       "    </tr>\n",
       "    <tr>\n",
       "      <th>1</th>\n",
       "      <td>sitka</td>\n",
       "      <td>0</td>\n",
       "      <td>0</td>\n",
       "      <td>0</td>\n",
       "      <td></td>\n",
       "      <td>0</td>\n",
       "      <td>0</td>\n",
       "      <td>0</td>\n",
       "    </tr>\n",
       "    <tr>\n",
       "      <th>2</th>\n",
       "      <td>port elizabeth</td>\n",
       "      <td>0</td>\n",
       "      <td>0</td>\n",
       "      <td>0</td>\n",
       "      <td></td>\n",
       "      <td>0</td>\n",
       "      <td>0</td>\n",
       "      <td>0</td>\n",
       "    </tr>\n",
       "    <tr>\n",
       "      <th>3</th>\n",
       "      <td>coihaique</td>\n",
       "      <td>0</td>\n",
       "      <td>0</td>\n",
       "      <td>0</td>\n",
       "      <td></td>\n",
       "      <td>0</td>\n",
       "      <td>0</td>\n",
       "      <td>0</td>\n",
       "    </tr>\n",
       "    <tr>\n",
       "      <th>4</th>\n",
       "      <td>dolores</td>\n",
       "      <td>0</td>\n",
       "      <td>0</td>\n",
       "      <td>0</td>\n",
       "      <td></td>\n",
       "      <td>0</td>\n",
       "      <td>0</td>\n",
       "      <td>0</td>\n",
       "    </tr>\n",
       "  </tbody>\n",
       "</table>\n",
       "</div>"
      ],
      "text/plain": [
       "                Cities  Latitude  Longitude  Cloudiness Date  Humidity  \\\n",
       "0  rancho palos verdes         0          0           0              0   \n",
       "1                sitka         0          0           0              0   \n",
       "2       port elizabeth         0          0           0              0   \n",
       "3            coihaique         0          0           0              0   \n",
       "4              dolores         0          0           0              0   \n",
       "\n",
       "   Max_Temp  Wind Speed  \n",
       "0         0           0  \n",
       "1         0           0  \n",
       "2         0           0  \n",
       "3         0           0  \n",
       "4         0           0  "
      ]
     },
     "execution_count": 12,
     "metadata": {},
     "output_type": "execute_result"
    }
   ],
   "source": [
    "cities.head()"
   ]
  },
  {
   "cell_type": "code",
   "execution_count": 13,
   "metadata": {},
   "outputs": [],
   "source": [
    "# url='http://api.openweathermap.org/data/2.5/weather?'"
   ]
  },
  {
   "cell_type": "code",
   "execution_count": 14,
   "metadata": {},
   "outputs": [],
   "source": [
    "# lat=response['coord']['lat']\n",
    "# lon=response['coord']['lon']\n",
    "# cloudiness=response['clouds']['all']\n",
    "# date=response['dt']\n",
    "# humidity=response['main']['humidity']\n",
    "# max_temp=response['main']['temp_max']\n",
    "# wind=response['wind']['speed']\n"
   ]
  },
  {
   "cell_type": "code",
   "execution_count": 15,
   "metadata": {},
   "outputs": [
    {
     "name": "stdout",
     "output_type": "stream",
     "text": [
      "==============================\n",
      "Begining Data Retrieval\n",
      "==============================\n",
      "\n",
      "Searching record 1 of set 1  | rancho palos verdes\n",
      "Searching record 2 of set 1  | sitka\n",
      "Searching record 3 of set 1  | port elizabeth\n",
      "Searching record 4 of set 1  | coihaique\n",
      "Searching record 5 of set 1  | dolores\n",
      "Searching record 6 of set 1  | qitaihe\n",
      "Searching record 7 of set 1  | kamenka\n",
      "Searching record 8 of set 1  | nome\n",
      "Searching record 9 of set 1  | carnarvon\n",
      "Searching record 10 of set 1  | moengo\n",
      "Searching record 11 of set 1  | arraial do cabo\n",
      "Searching record 12 of set 1  | faanui\n",
      "Searching record 13 of set 1  | sumbawa\n",
      "******************************\n",
      "Sorry couldn't find sumbawa\n",
      "******************************\n",
      "Searching record 14 of set 1  | promyshlennyy\n",
      "Searching record 15 of set 1  | yar-sale\n",
      "Searching record 16 of set 1  | ahipara\n",
      "Searching record 17 of set 1  | guangyuan\n",
      "Searching record 18 of set 1  | batticaloa\n",
      "Searching record 19 of set 1  | marystown\n",
      "Searching record 20 of set 1  | saint albans\n",
      "Searching record 21 of set 1  | praia da vitoria\n",
      "Searching record 22 of set 1  | terrace\n",
      "Searching record 23 of set 1  | quixada\n",
      "Searching record 24 of set 1  | el cope\n",
      "Searching record 25 of set 1  | imbituva\n",
      "Searching record 26 of set 1  | athni\n",
      "Searching record 27 of set 1  | kenai\n",
      "Searching record 28 of set 1  | evensk\n",
      "Searching record 29 of set 1  | manadhoo\n",
      "Searching record 30 of set 1  | mahebourg\n",
      "Searching record 31 of set 1  | riaba\n",
      "******************************\n",
      "Sorry couldn't find riaba\n",
      "******************************\n",
      "Searching record 32 of set 1  | nicoya\n",
      "Searching record 33 of set 1  | valparaiso\n",
      "Searching record 34 of set 1  | gravdal\n",
      "Searching record 35 of set 1  | mataura\n",
      "Searching record 36 of set 1  | megion\n",
      "Searching record 37 of set 1  | ribeira grande\n",
      "Searching record 38 of set 1  | ilulissat\n",
      "Searching record 39 of set 1  | cabo san lucas\n",
      "Searching record 40 of set 1  | olinda\n",
      "Searching record 41 of set 1  | batman\n",
      "Searching record 42 of set 1  | coquimbo\n",
      "Searching record 43 of set 1  | merauke\n",
      "Searching record 44 of set 1  | hrodna\n",
      "Searching record 45 of set 1  | khatanga\n",
      "Searching record 46 of set 1  | nikolskoye\n",
      "Searching record 47 of set 1  | codrington\n",
      "Searching record 48 of set 1  | boyolangu\n",
      "Searching record 49 of set 1  | albany\n",
      "Searching record 50 of set 1  | saldanha\n",
      "---------------------------------------------------------------------------\n",
      "Counter has reached 50, program will pause for 1 second before resuming\n",
      "---------------------------------------------------------------------------\n",
      "Searching record 1 of set 2  | laguna\n",
      "Searching record 2 of set 2  | cururupu\n",
      "Searching record 3 of set 2  | kedgwick\n",
      "Searching record 4 of set 2  | madingou\n",
      "Searching record 5 of set 2  | khandyga\n",
      "Searching record 6 of set 2  | hobyo\n",
      "Searching record 7 of set 2  | borda da mata\n",
      "Searching record 8 of set 2  | port macquarie\n",
      "Searching record 9 of set 2  | porto seguro\n",
      "Searching record 10 of set 2  | castro\n",
      "Searching record 11 of set 2  | ivaipora\n",
      "Searching record 12 of set 2  | talcahuano\n",
      "Searching record 13 of set 2  | port lincoln\n",
      "Searching record 14 of set 2  | borovoy\n",
      "Searching record 15 of set 2  | norman wells\n",
      "Searching record 16 of set 2  | wanderlandia\n",
      "******************************\n",
      "Sorry couldn't find wanderlandia\n",
      "******************************\n",
      "Searching record 17 of set 2  | makakilo city\n",
      "Searching record 18 of set 2  | la ronge\n",
      "Searching record 19 of set 2  | mahibadhoo\n",
      "Searching record 20 of set 2  | svetlyy\n",
      "Searching record 21 of set 2  | broome\n",
      "Searching record 22 of set 2  | seoul\n",
      "Searching record 23 of set 2  | kahului\n",
      "Searching record 24 of set 2  | sinnamary\n",
      "Searching record 25 of set 2  | iquitos\n",
      "Searching record 26 of set 2  | tumannyy\n",
      "******************************\n",
      "Sorry couldn't find tumannyy\n",
      "******************************\n",
      "Searching record 27 of set 2  | hamilton\n",
      "Searching record 28 of set 2  | cayenne\n",
      "Searching record 29 of set 2  | klyuchevskiy\n",
      "Searching record 30 of set 2  | ugoofaaru\n",
      "Searching record 31 of set 2  | shitanjing\n",
      "Searching record 32 of set 2  | pimenta bueno\n",
      "Searching record 33 of set 2  | zheleznodorozhnyy\n",
      "Searching record 34 of set 2  | itarema\n",
      "Searching record 35 of set 2  | rajo khanani\n",
      "Searching record 36 of set 2  | ulaanbaatar\n",
      "Searching record 37 of set 2  | maryborough\n",
      "Searching record 38 of set 2  | punta arenas\n",
      "Searching record 39 of set 2  | cecina\n",
      "Searching record 40 of set 2  | ranot\n",
      "Searching record 41 of set 2  | chipaque\n",
      "Searching record 42 of set 2  | chisec\n",
      "Searching record 43 of set 2  | mao\n",
      "Searching record 44 of set 2  | hilo\n",
      "Searching record 45 of set 2  | corpus christi\n",
      "Searching record 46 of set 2  | umm kaddadah\n",
      "Searching record 47 of set 2  | nueve de julio\n",
      "Searching record 48 of set 2  | namibe\n",
      "Searching record 49 of set 2  | atikokan\n",
      "Searching record 50 of set 2  | rikitea\n",
      "---------------------------------------------------------------------------\n",
      "Counter has reached 50, program will pause for 1 second before resuming\n",
      "---------------------------------------------------------------------------\n",
      "Searching record 1 of set 3  | padang\n",
      "Searching record 2 of set 3  | cherskiy\n",
      "Searching record 3 of set 3  | walvis bay\n",
      "Searching record 4 of set 3  | rio gallegos\n",
      "Searching record 5 of set 3  | fortuna\n",
      "Searching record 6 of set 3  | dalby\n",
      "Searching record 7 of set 3  | korla\n",
      "Searching record 8 of set 3  | lasa\n",
      "Searching record 9 of set 3  | skegness\n",
      "Searching record 10 of set 3  | erode\n",
      "Searching record 11 of set 3  | sataua\n",
      "******************************\n",
      "Sorry couldn't find sataua\n",
      "******************************\n",
      "Searching record 12 of set 3  | kot diji\n",
      "Searching record 13 of set 3  | clyde river\n",
      "Searching record 14 of set 3  | yulara\n",
      "Searching record 15 of set 3  | havre-saint-pierre\n",
      "Searching record 16 of set 3  | requena\n",
      "Searching record 17 of set 3  | tambovka\n",
      "Searching record 18 of set 3  | vilyuysk\n",
      "Searching record 19 of set 3  | ixtapa\n",
      "Searching record 20 of set 3  | naze\n",
      "Searching record 21 of set 3  | mar del plata\n",
      "Searching record 22 of set 3  | ouagadougou\n",
      "Searching record 23 of set 3  | gobabis\n",
      "Searching record 24 of set 3  | qaanaaq\n",
      "Searching record 25 of set 3  | tautira\n",
      "Searching record 26 of set 3  | jacareacanga\n",
      "Searching record 27 of set 3  | tommot\n",
      "Searching record 28 of set 3  | mountain home\n",
      "Searching record 29 of set 3  | okandja\n",
      "******************************\n",
      "Sorry couldn't find okandja\n",
      "******************************\n",
      "Searching record 30 of set 3  | rocha\n",
      "Searching record 31 of set 3  | cape town\n",
      "Searching record 32 of set 3  | khorixas\n",
      "Searching record 33 of set 3  | bousse\n",
      "Searching record 34 of set 3  | palu\n",
      "Searching record 35 of set 3  | yoichi\n",
      "Searching record 36 of set 3  | barrow\n",
      "Searching record 37 of set 3  | blythe\n",
      "Searching record 38 of set 3  | hope\n",
      "Searching record 39 of set 3  | mocambique\n",
      "******************************\n",
      "Sorry couldn't find mocambique\n",
      "******************************\n",
      "Searching record 40 of set 3  | kuldur\n",
      "Searching record 41 of set 3  | shenjiamen\n",
      "Searching record 42 of set 3  | dakar\n",
      "Searching record 43 of set 3  | cacador\n",
      "Searching record 44 of set 3  | ulladulla\n",
      "Searching record 45 of set 3  | siavonga\n",
      "Searching record 46 of set 3  | san cristobal\n",
      "Searching record 47 of set 3  | atasu\n",
      "Searching record 48 of set 3  | new norfolk\n",
      "Searching record 49 of set 3  | tessalit\n",
      "Searching record 50 of set 3  | anadyr\n",
      "---------------------------------------------------------------------------\n",
      "Counter has reached 50, program will pause for 1 second before resuming\n",
      "---------------------------------------------------------------------------\n",
      "Searching record 1 of set 4  | iqaluit\n",
      "Searching record 2 of set 4  | gat\n",
      "Searching record 3 of set 4  | yamada\n",
      "Searching record 4 of set 4  | caravelas\n",
      "Searching record 5 of set 4  | amderma\n",
      "******************************\n",
      "Sorry couldn't find amderma\n",
      "******************************\n",
      "Searching record 6 of set 4  | karlskoga\n",
      "Searching record 7 of set 4  | sena madureira\n",
      "Searching record 8 of set 4  | saint george\n",
      "Searching record 9 of set 4  | poum\n",
      "Searching record 10 of set 4  | angoram\n",
      "Searching record 11 of set 4  | bethel\n",
      "Searching record 12 of set 4  | kuito\n",
      "Searching record 13 of set 4  | tiksi\n",
      "Searching record 14 of set 4  | saint-pierre\n"
     ]
    },
    {
     "name": "stdout",
     "output_type": "stream",
     "text": [
      "Searching record 15 of set 4  | newberry\n",
      "Searching record 16 of set 4  | teresopolis\n",
      "Searching record 17 of set 4  | karla\n",
      "Searching record 18 of set 4  | hobart\n",
      "Searching record 19 of set 4  | morvi\n",
      "Searching record 20 of set 4  | taoudenni\n",
      "Searching record 21 of set 4  | faya\n",
      "Searching record 22 of set 4  | meulaboh\n",
      "Searching record 23 of set 4  | avera\n",
      "Searching record 24 of set 4  | vila franca do campo\n",
      "Searching record 25 of set 4  | goderich\n",
      "Searching record 26 of set 4  | lethem\n",
      "Searching record 27 of set 4  | hofn\n",
      "Searching record 28 of set 4  | bambous virieux\n",
      "Searching record 29 of set 4  | kribi\n",
      "Searching record 30 of set 4  | erandio\n",
      "Searching record 31 of set 4  | stornoway\n",
      "Searching record 32 of set 4  | pevek\n",
      "Searching record 33 of set 4  | qaqortoq\n",
      "Searching record 34 of set 4  | porto torres\n",
      "Searching record 35 of set 4  | yellowknife\n",
      "Searching record 36 of set 4  | lyubar\n",
      "Searching record 37 of set 4  | port alfred\n",
      "Searching record 38 of set 4  | dzerzhinsk\n",
      "Searching record 39 of set 4  | sambava\n",
      "Searching record 40 of set 4  | nantucket\n",
      "Searching record 41 of set 4  | butaritari\n",
      "Searching record 42 of set 4  | kutum\n",
      "Searching record 43 of set 4  | payson\n",
      "Searching record 44 of set 4  | vila velha\n",
      "Searching record 45 of set 4  | jiddah\n",
      "******************************\n",
      "Sorry couldn't find jiddah\n",
      "******************************\n",
      "Searching record 46 of set 4  | anzio\n",
      "Searching record 47 of set 4  | grindavik\n",
      "Searching record 48 of set 4  | carira\n",
      "Searching record 49 of set 4  | ariquemes\n",
      "Searching record 50 of set 4  | touros\n",
      "---------------------------------------------------------------------------\n",
      "Counter has reached 50, program will pause for 1 second before resuming\n",
      "---------------------------------------------------------------------------\n",
      "Searching record 1 of set 5  | khromtau\n",
      "Searching record 2 of set 5  | louisbourg\n",
      "******************************\n",
      "Sorry couldn't find louisbourg\n",
      "******************************\n",
      "Searching record 3 of set 5  | eureka\n",
      "Searching record 4 of set 5  | ponta do sol\n",
      "Searching record 5 of set 5  | bengkulu\n",
      "Searching record 6 of set 5  | shache\n",
      "Searching record 7 of set 5  | bilibino\n",
      "Searching record 8 of set 5  | crab hill\n",
      "******************************\n",
      "Sorry couldn't find crab hill\n",
      "******************************\n",
      "Searching record 9 of set 5  | tornio\n",
      "Searching record 10 of set 5  | chongqing\n",
      "Searching record 11 of set 5  | pombia\n",
      "Searching record 12 of set 5  | mangrol\n",
      "Searching record 13 of set 5  | rungata\n",
      "******************************\n",
      "Sorry couldn't find rungata\n",
      "******************************\n",
      "Searching record 14 of set 5  | brazzaville\n",
      "Searching record 15 of set 5  | pamekasan\n",
      "Searching record 16 of set 5  | don benito\n",
      "Searching record 17 of set 5  | sentyabrskiy\n",
      "******************************\n",
      "Sorry couldn't find sentyabrskiy\n",
      "******************************\n",
      "Searching record 18 of set 5  | surt\n",
      "Searching record 19 of set 5  | sorland\n",
      "Searching record 20 of set 5  | eyl\n",
      "Searching record 21 of set 5  | stege\n",
      "Searching record 22 of set 5  | ormara\n",
      "Searching record 23 of set 5  | jiangyou\n",
      "Searching record 24 of set 5  | dawlatabad\n",
      "Searching record 25 of set 5  | morondava\n",
      "Searching record 26 of set 5  | pires do rio\n",
      "Searching record 27 of set 5  | kaka\n",
      "Searching record 28 of set 5  | fomboni\n",
      "Searching record 29 of set 5  | gitarama\n",
      "Searching record 30 of set 5  | changde\n",
      "Searching record 31 of set 5  | gezing\n",
      "Searching record 32 of set 5  | bandar-e torkaman\n",
      "******************************\n",
      "Sorry couldn't find bandar-e torkaman\n",
      "******************************\n",
      "Searching record 33 of set 5  | wielun\n",
      "Searching record 34 of set 5  | rincon\n",
      "Searching record 35 of set 5  | taltal\n",
      "Searching record 36 of set 5  | bolungarvik\n",
      "******************************\n",
      "Sorry couldn't find bolungarvik\n",
      "******************************\n",
      "Searching record 37 of set 5  | bardiyah\n",
      "Searching record 38 of set 5  | marcona\n",
      "******************************\n",
      "Sorry couldn't find marcona\n",
      "******************************\n",
      "Searching record 39 of set 5  | tuatapere\n",
      "Searching record 40 of set 5  | lolua\n",
      "******************************\n",
      "Sorry couldn't find lolua\n",
      "******************************\n",
      "Searching record 41 of set 5  | ivangorod\n",
      "Searching record 42 of set 5  | ajaccio\n",
      "Searching record 43 of set 5  | bereda\n",
      "Searching record 44 of set 5  | hanchuan\n",
      "Searching record 45 of set 5  | natchitoches\n",
      "Searching record 46 of set 5  | lerwick\n",
      "Searching record 47 of set 5  | manta\n",
      "Searching record 48 of set 5  | buariki\n",
      "******************************\n",
      "Sorry couldn't find buariki\n",
      "******************************\n",
      "Searching record 49 of set 5  | brun\n",
      "Searching record 50 of set 5  | portoferraio\n",
      "---------------------------------------------------------------------------\n",
      "Counter has reached 50, program will pause for 1 second before resuming\n",
      "---------------------------------------------------------------------------\n",
      "Searching record 1 of set 6  | illoqqortoormiut\n",
      "******************************\n",
      "Sorry couldn't find illoqqortoormiut\n",
      "******************************\n",
      "Searching record 2 of set 6  | nam tha\n",
      "******************************\n",
      "Sorry couldn't find nam tha\n",
      "******************************\n",
      "Searching record 3 of set 6  | lunenburg\n",
      "Searching record 4 of set 6  | mopipi\n",
      "Searching record 5 of set 6  | copiapo\n",
      "Searching record 6 of set 6  | sur\n",
      "Searching record 7 of set 6  | vaini\n",
      "Searching record 8 of set 6  | constantine\n",
      "Searching record 9 of set 6  | waipawa\n",
      "Searching record 10 of set 6  | maple creek\n",
      "Searching record 11 of set 6  | sao paulo de olivenca\n",
      "Searching record 12 of set 6  | oudtshoorn\n",
      "Searching record 13 of set 6  | xinzhi\n",
      "Searching record 14 of set 6  | hithadhoo\n",
      "Searching record 15 of set 6  | balkanabat\n",
      "Searching record 16 of set 6  | kieta\n",
      "Searching record 17 of set 6  | jamestown\n",
      "Searching record 18 of set 6  | ostrovnoy\n",
      "Searching record 19 of set 6  | ullapool\n",
      "Searching record 20 of set 6  | port hedland\n",
      "Searching record 21 of set 6  | taolanaro\n",
      "******************************\n",
      "Sorry couldn't find taolanaro\n",
      "******************************\n",
      "Searching record 22 of set 6  | diamantino\n",
      "Searching record 23 of set 6  | adiwerna\n",
      "Searching record 24 of set 6  | dzhusaly\n",
      "******************************\n",
      "Sorry couldn't find dzhusaly\n",
      "******************************\n",
      "Searching record 25 of set 6  | honningsvag\n",
      "Searching record 26 of set 6  | hovd\n",
      "Searching record 27 of set 6  | tawang\n",
      "Searching record 28 of set 6  | kaitangata\n",
      "Searching record 29 of set 6  | komarikhinskiy\n",
      "Searching record 30 of set 6  | sisophon\n",
      "Searching record 31 of set 6  | bell ville\n",
      "Searching record 32 of set 6  | ascension\n",
      "Searching record 33 of set 6  | matara\n",
      "Searching record 34 of set 6  | svetlaya\n",
      "Searching record 35 of set 6  | tevriz\n",
      "Searching record 36 of set 6  | beringovskiy\n",
      "Searching record 37 of set 6  | burnie\n",
      "Searching record 38 of set 6  | tura\n",
      "Searching record 39 of set 6  | esperance\n",
      "Searching record 40 of set 6  | torbay\n",
      "Searching record 41 of set 6  | farnham\n",
      "Searching record 42 of set 6  | acapulco\n",
      "Searching record 43 of set 6  | xining\n",
      "Searching record 44 of set 6  | sapele\n",
      "Searching record 45 of set 6  | hami\n",
      "Searching record 46 of set 6  | fort nelson\n",
      "Searching record 47 of set 6  | coolum beach\n",
      "Searching record 48 of set 6  | axim\n",
      "Searching record 49 of set 6  | georgetown\n",
      "Searching record 50 of set 6  | road town\n",
      "---------------------------------------------------------------------------\n",
      "Counter has reached 50, program will pause for 1 second before resuming\n",
      "---------------------------------------------------------------------------\n",
      "Searching record 1 of set 7  | coihueco\n",
      "Searching record 2 of set 7  | tabiauea\n",
      "******************************\n",
      "Sorry couldn't find tabiauea\n",
      "******************************\n",
      "Searching record 3 of set 7  | srednekolymsk\n",
      "Searching record 4 of set 7  | maloye kozino\n",
      "******************************\n",
      "Sorry couldn't find maloye kozino\n",
      "******************************\n",
      "Searching record 5 of set 7  | carolina\n",
      "Searching record 6 of set 7  | saleaula\n",
      "******************************\n",
      "Sorry couldn't find saleaula\n",
      "******************************\n",
      "Searching record 7 of set 7  | marmande\n",
      "Searching record 8 of set 7  | kaeo\n",
      "Searching record 9 of set 7  | mehamn\n",
      "Searching record 10 of set 7  | tatarsk\n"
     ]
    },
    {
     "name": "stdout",
     "output_type": "stream",
     "text": [
      "Searching record 11 of set 7  | poretskoye\n",
      "Searching record 12 of set 7  | vaitupu\n",
      "******************************\n",
      "Sorry couldn't find vaitupu\n",
      "******************************\n",
      "Searching record 13 of set 7  | chuy\n",
      "Searching record 14 of set 7  | broken hill\n",
      "Searching record 15 of set 7  | hambantota\n",
      "Searching record 16 of set 7  | saskylakh\n",
      "Searching record 17 of set 7  | campo verde\n",
      "Searching record 18 of set 7  | atuona\n",
      "Searching record 19 of set 7  | phek\n",
      "Searching record 20 of set 7  | bredasdorp\n",
      "Searching record 21 of set 7  | airai\n",
      "Searching record 22 of set 7  | kodiak\n",
      "Searching record 23 of set 7  | ruatoria\n",
      "******************************\n",
      "Sorry couldn't find ruatoria\n",
      "******************************\n",
      "Searching record 24 of set 7  | pochutla\n",
      "Searching record 25 of set 7  | tukrah\n",
      "Searching record 26 of set 7  | shimoda\n",
      "Searching record 27 of set 7  | ancud\n",
      "Searching record 28 of set 7  | severo-kurilsk\n",
      "Searching record 29 of set 7  | chokurdakh\n",
      "Searching record 30 of set 7  | redlands\n",
      "Searching record 31 of set 7  | vallenar\n",
      "Searching record 32 of set 7  | swan river\n",
      "Searching record 33 of set 7  | puerto ayora\n",
      "Searching record 34 of set 7  | busselton\n",
      "Searching record 35 of set 7  | kloulklubed\n",
      "Searching record 36 of set 7  | torrevieja\n",
      "Searching record 37 of set 7  | north bend\n",
      "Searching record 38 of set 7  | suslovo\n",
      "Searching record 39 of set 7  | chyhyryn\n",
      "Searching record 40 of set 7  | vilhena\n",
      "Searching record 41 of set 7  | tsihombe\n",
      "******************************\n",
      "Sorry couldn't find tsihombe\n",
      "******************************\n",
      "Searching record 42 of set 7  | gemena\n",
      "Searching record 43 of set 7  | bolpur\n",
      "Searching record 44 of set 7  | maracaju\n",
      "Searching record 45 of set 7  | fereydun kenar\n",
      "Searching record 46 of set 7  | kaniama\n",
      "Searching record 47 of set 7  | manicore\n",
      "Searching record 48 of set 7  | shahr-e babak\n",
      "Searching record 49 of set 7  | mogadishu\n",
      "Searching record 50 of set 7  | niimi\n",
      "---------------------------------------------------------------------------\n",
      "Counter has reached 50, program will pause for 1 second before resuming\n",
      "---------------------------------------------------------------------------\n",
      "Searching record 1 of set 8  | bueno brandao\n",
      "Searching record 2 of set 8  | zhangye\n",
      "Searching record 3 of set 8  | shelburne\n",
      "Searching record 4 of set 8  | saint-louis\n",
      "Searching record 5 of set 8  | kysyl-syr\n",
      "Searching record 6 of set 8  | port hardy\n",
      "Searching record 7 of set 8  | barentsburg\n",
      "******************************\n",
      "Sorry couldn't find barentsburg\n",
      "******************************\n",
      "Searching record 8 of set 8  | coruripe\n",
      "Searching record 9 of set 8  | tutoia\n",
      "Searching record 10 of set 8  | daru\n",
      "Searching record 11 of set 8  | sobolevo\n",
      "Searching record 12 of set 8  | east london\n",
      "Searching record 13 of set 8  | kapaa\n",
      "Searching record 14 of set 8  | viedma\n",
      "Searching record 15 of set 8  | melle\n",
      "Searching record 16 of set 8  | peterhead\n",
      "Searching record 17 of set 8  | noumea\n",
      "Searching record 18 of set 8  | peleduy\n",
      "Searching record 19 of set 8  | kibre mengist\n",
      "Searching record 20 of set 8  | saint-augustin\n",
      "Searching record 21 of set 8  | katsuura\n",
      "Searching record 22 of set 8  | ozernovskiy\n",
      "Searching record 23 of set 8  | nizhneyansk\n",
      "******************************\n",
      "Sorry couldn't find nizhneyansk\n",
      "******************************\n",
      "Searching record 24 of set 8  | challans\n",
      "Searching record 25 of set 8  | tasiilaq\n",
      "Searching record 26 of set 8  | kargil\n",
      "Searching record 27 of set 8  | anahuac\n",
      "Searching record 28 of set 8  | baykit\n",
      "Searching record 29 of set 8  | funabashi\n",
      "Searching record 30 of set 8  | chapais\n",
      "Searching record 31 of set 8  | sao joao del rei\n",
      "Searching record 32 of set 8  | mayo\n",
      "Searching record 33 of set 8  | marsabit\n",
      "Searching record 34 of set 8  | tezu\n",
      "Searching record 35 of set 8  | hays\n",
      "Searching record 36 of set 8  | salima\n",
      "Searching record 37 of set 8  | todos santos\n",
      "Searching record 38 of set 8  | dunedin\n",
      "Searching record 39 of set 8  | kasama\n",
      "Searching record 40 of set 8  | bandrele\n",
      "Searching record 41 of set 8  | kibaha\n",
      "Searching record 42 of set 8  | grand gaube\n",
      "Searching record 43 of set 8  | lompoc\n",
      "Searching record 44 of set 8  | fevralsk\n",
      "******************************\n",
      "Sorry couldn't find fevralsk\n",
      "******************************\n",
      "Searching record 45 of set 8  | constitucion\n",
      "Searching record 46 of set 8  | alpena\n",
      "Searching record 47 of set 8  | praia\n",
      "Searching record 48 of set 8  | masvingo\n",
      "Searching record 49 of set 8  | kollam\n",
      "Searching record 50 of set 8  | mangai\n",
      "---------------------------------------------------------------------------\n",
      "Counter has reached 50, program will pause for 1 second before resuming\n",
      "---------------------------------------------------------------------------\n",
      "Searching record 1 of set 9  | urdzhar\n",
      "******************************\n",
      "Sorry couldn't find urdzhar\n",
      "******************************\n",
      "Searching record 2 of set 9  | imbituba\n",
      "Searching record 3 of set 9  | mega\n",
      "Searching record 4 of set 9  | daito\n",
      "Searching record 5 of set 9  | vardo\n",
      "Searching record 6 of set 9  | grand river south east\n",
      "******************************\n",
      "Sorry couldn't find grand river south east\n",
      "******************************\n",
      "Searching record 7 of set 9  | kumbo\n",
      "Searching record 8 of set 9  | havoysund\n",
      "Searching record 9 of set 9  | robertsport\n",
      "Searching record 10 of set 9  | mackay\n",
      "Searching record 11 of set 9  | ouesso\n",
      "Searching record 12 of set 9  | aklavik\n",
      "Searching record 13 of set 9  | inverness\n",
      "Searching record 14 of set 9  | lebu\n",
      "Searching record 15 of set 9  | tiarei\n",
      "Searching record 16 of set 9  | okha\n",
      "Searching record 17 of set 9  | tarudant\n",
      "******************************\n",
      "Sorry couldn't find tarudant\n",
      "******************************\n",
      "Searching record 18 of set 9  | chastoozerye\n",
      "******************************\n",
      "Sorry couldn't find chastoozerye\n",
      "******************************\n",
      "Searching record 19 of set 9  | dikson\n",
      "Searching record 20 of set 9  | turukhansk\n",
      "Searching record 21 of set 9  | komsomolskiy\n",
      "Searching record 22 of set 9  | kungurtug\n",
      "Searching record 23 of set 9  | casa nova\n",
      "Searching record 24 of set 9  | damietta\n",
      "Searching record 25 of set 9  | chumphon\n",
      "Searching record 26 of set 9  | vostok\n",
      "Searching record 27 of set 9  | margate\n",
      "Searching record 28 of set 9  | asfi\n",
      "Searching record 29 of set 9  | upernavik\n",
      "Searching record 30 of set 9  | thunder bay\n",
      "Searching record 31 of set 9  | saint-cyr-sur-loire\n",
      "Searching record 32 of set 9  | san patricio\n",
      "Searching record 33 of set 9  | bacolod\n",
      "Searching record 34 of set 9  | emerald\n",
      "Searching record 35 of set 9  | cabedelo\n",
      "Searching record 36 of set 9  | socorro\n",
      "Searching record 37 of set 9  | auki\n",
      "Searching record 38 of set 9  | magaria\n",
      "Searching record 39 of set 9  | grojdibodu\n",
      "Searching record 40 of set 9  | lavrentiya\n",
      "Searching record 41 of set 9  | geraldton\n",
      "Searching record 42 of set 9  | mys shmidta\n",
      "******************************\n",
      "Sorry couldn't find mys shmidta\n",
      "******************************\n",
      "Searching record 43 of set 9  | avarua\n",
      "Searching record 44 of set 9  | vao\n",
      "Searching record 45 of set 9  | tatsinskaya\n",
      "******************************\n",
      "Sorry couldn't find tatsinskaya\n",
      "******************************\n",
      "Searching record 46 of set 9  | carora\n",
      "Searching record 47 of set 9  | cidreira\n",
      "Searching record 48 of set 9  | gurgan\n",
      "******************************\n",
      "Sorry couldn't find gurgan\n",
      "******************************\n",
      "Searching record 49 of set 9  | pangkalanbuun\n",
      "Searching record 50 of set 9  | puerto escondido\n",
      "---------------------------------------------------------------------------\n",
      "Counter has reached 50, program will pause for 1 second before resuming\n",
      "---------------------------------------------------------------------------\n",
      "Searching record 1 of set 10  | pontianak\n",
      "Searching record 2 of set 10  | moussoro\n",
      "Searching record 3 of set 10  | lons-le-saunier\n",
      "Searching record 4 of set 10  | polunochnoye\n",
      "Searching record 5 of set 10  | nanortalik\n",
      "Searching record 6 of set 10  | paita\n",
      "Searching record 7 of set 10  | shingu\n",
      "Searching record 8 of set 10  | klaksvik\n",
      "Searching record 9 of set 10  | victoria\n",
      "Searching record 10 of set 10  | micheweni\n",
      "Searching record 11 of set 10  | pundaguitan\n",
      "Searching record 12 of set 10  | kalmunai\n",
      "Searching record 13 of set 10  | aripuana\n",
      "Searching record 14 of set 10  | davila\n",
      "Searching record 15 of set 10  | bayir\n"
     ]
    },
    {
     "name": "stdout",
     "output_type": "stream",
     "text": [
      "Searching record 16 of set 10  | samalaeulu\n",
      "******************************\n",
      "Sorry couldn't find samalaeulu\n",
      "******************************\n",
      "Searching record 17 of set 10  | zhanatas\n",
      "******************************\n",
      "Sorry couldn't find zhanatas\n",
      "******************************\n",
      "Searching record 18 of set 10  | heihe\n",
      "Searching record 19 of set 10  | lorengau\n",
      "Searching record 20 of set 10  | mabaruma\n",
      "Searching record 21 of set 10  | oropesa\n",
      "Searching record 22 of set 10  | harpanahalli\n",
      "Searching record 23 of set 10  | prince rupert\n",
      "Searching record 24 of set 10  | te anau\n",
      "Searching record 25 of set 10  | kruisfontein\n",
      "Searching record 26 of set 10  | hay river\n",
      "Searching record 27 of set 10  | matata\n",
      "Searching record 28 of set 10  | humboldt\n",
      "Searching record 29 of set 10  | mount gambier\n",
      "Searching record 30 of set 10  | kahone\n",
      "Searching record 31 of set 10  | patrocinio\n",
      "Searching record 32 of set 10  | havelock\n",
      "Searching record 33 of set 10  | houma\n",
      "Searching record 34 of set 10  | aktash\n",
      "Searching record 35 of set 10  | los llanos de aridane\n",
      "Searching record 36 of set 10  | lermontovka\n",
      "Searching record 37 of set 10  | izumo\n",
      "Searching record 38 of set 10  | provideniya\n",
      "Searching record 39 of set 10  | rjukan\n",
      "Searching record 40 of set 10  | portland\n",
      "Searching record 41 of set 10  | dera ghazi khan\n",
      "Searching record 42 of set 10  | newport\n",
      "Searching record 43 of set 10  | fare\n",
      "Searching record 44 of set 10  | yashan\n",
      "Searching record 45 of set 10  | san bartolome de tirajana\n",
      "Searching record 46 of set 10  | kashi\n",
      "Searching record 47 of set 10  | oistins\n",
      "Searching record 48 of set 10  | nouakchott\n",
      "Searching record 49 of set 10  | samusu\n",
      "******************************\n",
      "Sorry couldn't find samusu\n",
      "******************************\n",
      "Searching record 50 of set 10  | hualmay\n",
      "---------------------------------------------------------------------------\n",
      "Counter has reached 50, program will pause for 1 second before resuming\n",
      "---------------------------------------------------------------------------\n",
      "Searching record 1 of set 11  | ocos\n",
      "Searching record 2 of set 11  | riga\n",
      "Searching record 3 of set 11  | brae\n",
      "Searching record 4 of set 11  | lagoa\n",
      "Searching record 5 of set 11  | kununurra\n",
      "Searching record 6 of set 11  | ushuaia\n",
      "Searching record 7 of set 11  | gardez\n",
      "Searching record 8 of set 11  | kavieng\n",
      "Searching record 9 of set 11  | san jose\n",
      "Searching record 10 of set 11  | hermanus\n",
      "Searching record 11 of set 11  | ngukurr\n",
      "******************************\n",
      "Sorry couldn't find ngukurr\n",
      "******************************\n",
      "Searching record 12 of set 11  | bluff\n",
      "Searching record 13 of set 11  | mopti\n",
      "Searching record 14 of set 11  | whitecourt\n",
      "Searching record 15 of set 11  | oktyabrskoye\n",
      "Searching record 16 of set 11  | dingle\n",
      "Searching record 17 of set 11  | miranda\n",
      "Searching record 18 of set 11  | bilma\n",
      "Searching record 19 of set 11  | attawapiskat\n",
      "******************************\n",
      "Sorry couldn't find attawapiskat\n",
      "******************************\n",
      "Searching record 20 of set 11  | barawe\n",
      "******************************\n",
      "Sorry couldn't find barawe\n",
      "******************************\n",
      "Searching record 21 of set 11  | sao filipe\n",
      "Searching record 22 of set 11  | barra do garcas\n",
      "Searching record 23 of set 11  | palabuhanratu\n",
      "******************************\n",
      "Sorry couldn't find palabuhanratu\n",
      "******************************\n",
      "Searching record 24 of set 11  | asau\n",
      "Searching record 25 of set 11  | kailua\n",
      "Searching record 26 of set 11  | lovozero\n",
      "Searching record 27 of set 11  | voyvozh\n",
      "Searching record 28 of set 11  | isla pucu\n",
      "Searching record 29 of set 11  | berea\n",
      "Searching record 30 of set 11  | unye\n",
      "******************************\n",
      "Sorry couldn't find unye\n",
      "******************************\n",
      "Searching record 31 of set 11  | necochea\n",
      "Searching record 32 of set 11  | durango\n",
      "Searching record 33 of set 11  | susehri\n",
      "Searching record 34 of set 11  | porosozero\n",
      "Searching record 35 of set 11  | colesberg\n",
      "Searching record 36 of set 11  | souillac\n",
      "Searching record 37 of set 11  | tuktoyaktuk\n",
      "Searching record 38 of set 11  | gazanjyk\n",
      "Searching record 39 of set 11  | kurumkan\n",
      "Searching record 40 of set 11  | taylor\n",
      "Searching record 41 of set 11  | arlit\n",
      "Searching record 42 of set 11  | kampong chhnang\n",
      "Searching record 43 of set 11  | belushya guba\n",
      "******************************\n",
      "Sorry couldn't find belushya guba\n",
      "******************************\n",
      "Searching record 44 of set 11  | vanimo\n",
      "Searching record 45 of set 11  | honiara\n",
      "Searching record 46 of set 11  | katangli\n",
      "Searching record 47 of set 11  | coxim\n",
      "Searching record 48 of set 11  | talnakh\n",
      "Searching record 49 of set 11  | kibala\n",
      "Searching record 50 of set 11  | thinadhoo\n",
      "---------------------------------------------------------------------------\n",
      "Counter has reached 50, program will pause for 1 second before resuming\n",
      "---------------------------------------------------------------------------\n",
      "Searching record 1 of set 12  | sola\n",
      "Searching record 2 of set 12  | batagay-alyta\n",
      "Searching record 3 of set 12  | panguna\n",
      "Searching record 4 of set 12  | rawson\n",
      "Searching record 5 of set 12  | isangel\n",
      "Searching record 6 of set 12  | zhezkazgan\n",
      "Searching record 7 of set 12  | saint-philippe\n",
      "Searching record 8 of set 12  | pisco\n",
      "Searching record 9 of set 12  | albanel\n",
      "Searching record 10 of set 12  | virginia beach\n",
      "Searching record 11 of set 12  | ayan\n",
      "Searching record 12 of set 12  | booue\n",
      "Searching record 13 of set 12  | nambour\n",
      "Searching record 14 of set 12  | bulawayo\n",
      "Searching record 15 of set 12  | college\n",
      "Searching record 16 of set 12  | sherlovaya gora\n",
      "Searching record 17 of set 12  | nishihara\n",
      "Searching record 18 of set 12  | taguatinga\n",
      "Searching record 19 of set 12  | longyearbyen\n",
      "Searching record 20 of set 12  | banavar\n",
      "Searching record 21 of set 12  | sompeta\n",
      "Searching record 22 of set 12  | nouadhibou\n",
      "Searching record 23 of set 12  | haines junction\n",
      "Searching record 24 of set 12  | hasaki\n",
      "Searching record 25 of set 12  | sudbury\n",
      "Searching record 26 of set 12  | sept-iles\n",
      "Searching record 27 of set 12  | glenwood springs\n",
      "Searching record 28 of set 12  | luderitz\n",
      "Searching record 29 of set 12  | husavik\n",
      "Searching record 30 of set 12  | solovetskiy\n",
      "******************************\n",
      "Sorry couldn't find solovetskiy\n",
      "******************************\n",
      "Searching record 31 of set 12  | angoche\n",
      "Searching record 32 of set 12  | thompson\n",
      "Searching record 33 of set 12  | san quintin\n",
      "Searching record 34 of set 12  | dourbali\n",
      "Searching record 35 of set 12  | victor harbor\n",
      "Searching record 36 of set 12  | huarmey\n",
      "Searching record 37 of set 12  | araouane\n",
      "Searching record 38 of set 12  | luanda\n",
      "Searching record 39 of set 12  | port blair\n",
      "Searching record 40 of set 12  | alofi\n",
      "Searching record 41 of set 12  | iraan\n",
      "Searching record 42 of set 12  | onda\n",
      "Searching record 43 of set 12  | bad freienwalde\n",
      "Searching record 44 of set 12  | heiligenhafen\n",
      "Searching record 45 of set 12  | griffith\n",
      "Searching record 46 of set 12  | taber\n",
      "Searching record 47 of set 12  | hervey bay\n",
      "Searching record 48 of set 12  | lebanon\n",
      "Searching record 49 of set 12  | montrose\n",
      "Searching record 50 of set 12  | petropavlovsk-kamchatskiy\n",
      "---------------------------------------------------------------------------\n",
      "Counter has reached 50, program will pause for 1 second before resuming\n",
      "---------------------------------------------------------------------------\n",
      "\n",
      "==============================\n",
      "Data Retrieval Complete\n",
      "==============================\n"
     ]
    }
   ],
   "source": [
    "counter=0\n",
    "record=1\n",
    "sets=1\n",
    "print(\"=\"*30)\n",
    "print(\"Begining Data Retrieval\")\n",
    "print(\"=\"*30)\n",
    "print()\n",
    "\n",
    "for index,row in cities.iterrows():\n",
    "    print(\"Searching record {} of set {}  | {}\".format(record,sets,row['Cities']))\n",
    "    #print(\"Searching for {}\".format(row['Cities']))\n",
    "    url='http://api.openweathermap.org/data/2.5/weather?'\n",
    "    q=row['Cities']\n",
    "    params={'q':q, 'appid': weather_api_key,'units':'Imperial'}\n",
    "    response=requests.get(url,params=params).json()\n",
    "    try:\n",
    "        cities.loc[index,'Latitude'] = response['coord']['lat']\n",
    "        cities.loc[index,'Longitude'] = response['coord']['lon']\n",
    "        cities.loc[index,'Cloudiness'] = response['clouds']['all']\n",
    "        cities.loc[index,'Date'] = response['dt']\n",
    "        cities.loc[index,'Humidity'] = response['main']['humidity']  \n",
    "        cities.loc[index,'Max_Temp'] = response['main']['temp_max']\n",
    "        cities.loc[index,'Wind Speed'] = response['wind']['speed']\n",
    "    except KeyError:\n",
    "        print(\"*\"*30)\n",
    "        print(\"Sorry couldn't find {}\".format(row['Cities']))\n",
    "        print(\"*\"*30)\n",
    "        \n",
    "            \n",
    "    record+=1\n",
    "    if record ==51:\n",
    "        print(\"-\"*75)\n",
    "        print(\"Counter has reached 50, program will pause for 1 second before resuming\")\n",
    "        print(\"-\"*75)\n",
    "        record=1\n",
    "        sets+=1 \n",
    "        time.sleep(1)\n",
    "\n",
    "print()\n",
    "print(\"=\"*30)\n",
    "print(\"Data Retrieval Complete\")\n",
    "print(\"=\"*30)"
   ]
  },
  {
   "cell_type": "code",
   "execution_count": 16,
   "metadata": {},
   "outputs": [
    {
     "data": {
      "text/plain": [
       "(600, 8)"
      ]
     },
     "execution_count": 16,
     "metadata": {},
     "output_type": "execute_result"
    }
   ],
   "source": [
    "cities.shape"
   ]
  },
  {
   "cell_type": "code",
   "execution_count": 71,
   "metadata": {},
   "outputs": [],
   "source": [
    "df_cities=(cities[cities['Latitude']!=0])"
   ]
  },
  {
   "cell_type": "code",
   "execution_count": 72,
   "metadata": {},
   "outputs": [
    {
     "data": {
      "text/html": [
       "<div>\n",
       "<style scoped>\n",
       "    .dataframe tbody tr th:only-of-type {\n",
       "        vertical-align: middle;\n",
       "    }\n",
       "\n",
       "    .dataframe tbody tr th {\n",
       "        vertical-align: top;\n",
       "    }\n",
       "\n",
       "    .dataframe thead th {\n",
       "        text-align: right;\n",
       "    }\n",
       "</style>\n",
       "<table border=\"1\" class=\"dataframe\">\n",
       "  <thead>\n",
       "    <tr style=\"text-align: right;\">\n",
       "      <th></th>\n",
       "      <th>Cities</th>\n",
       "      <th>Latitude</th>\n",
       "      <th>Longitude</th>\n",
       "      <th>Cloudiness</th>\n",
       "      <th>Date</th>\n",
       "      <th>Humidity</th>\n",
       "      <th>Max_Temp</th>\n",
       "      <th>Wind Speed</th>\n",
       "    </tr>\n",
       "  </thead>\n",
       "  <tbody>\n",
       "    <tr>\n",
       "      <th>0</th>\n",
       "      <td>rancho palos verdes</td>\n",
       "      <td>33.74</td>\n",
       "      <td>-118.39</td>\n",
       "      <td>40</td>\n",
       "      <td>1600018654</td>\n",
       "      <td>77</td>\n",
       "      <td>72.00</td>\n",
       "      <td>7.83</td>\n",
       "    </tr>\n",
       "    <tr>\n",
       "      <th>1</th>\n",
       "      <td>sitka</td>\n",
       "      <td>57.05</td>\n",
       "      <td>-135.33</td>\n",
       "      <td>1</td>\n",
       "      <td>1600018660</td>\n",
       "      <td>71</td>\n",
       "      <td>51.80</td>\n",
       "      <td>4.05</td>\n",
       "    </tr>\n",
       "    <tr>\n",
       "      <th>2</th>\n",
       "      <td>port elizabeth</td>\n",
       "      <td>-33.92</td>\n",
       "      <td>25.57</td>\n",
       "      <td>20</td>\n",
       "      <td>1600018661</td>\n",
       "      <td>72</td>\n",
       "      <td>59.00</td>\n",
       "      <td>17.22</td>\n",
       "    </tr>\n",
       "    <tr>\n",
       "      <th>3</th>\n",
       "      <td>coihaique</td>\n",
       "      <td>-45.58</td>\n",
       "      <td>-72.07</td>\n",
       "      <td>40</td>\n",
       "      <td>1600018661</td>\n",
       "      <td>72</td>\n",
       "      <td>50.00</td>\n",
       "      <td>6.93</td>\n",
       "    </tr>\n",
       "    <tr>\n",
       "      <th>4</th>\n",
       "      <td>dolores</td>\n",
       "      <td>-36.31</td>\n",
       "      <td>-57.68</td>\n",
       "      <td>51</td>\n",
       "      <td>1600018661</td>\n",
       "      <td>51</td>\n",
       "      <td>66.42</td>\n",
       "      <td>9.86</td>\n",
       "    </tr>\n",
       "  </tbody>\n",
       "</table>\n",
       "</div>"
      ],
      "text/plain": [
       "                Cities  Latitude  Longitude  Cloudiness        Date  Humidity  \\\n",
       "0  rancho palos verdes     33.74    -118.39          40  1600018654        77   \n",
       "1                sitka     57.05    -135.33           1  1600018660        71   \n",
       "2       port elizabeth    -33.92      25.57          20  1600018661        72   \n",
       "3            coihaique    -45.58     -72.07          40  1600018661        72   \n",
       "4              dolores    -36.31     -57.68          51  1600018661        51   \n",
       "\n",
       "   Max_Temp  Wind Speed  \n",
       "0     72.00        7.83  \n",
       "1     51.80        4.05  \n",
       "2     59.00       17.22  \n",
       "3     50.00        6.93  \n",
       "4     66.42        9.86  "
      ]
     },
     "execution_count": 72,
     "metadata": {},
     "output_type": "execute_result"
    }
   ],
   "source": [
    "df_cities.head()"
   ]
  },
  {
   "cell_type": "code",
   "execution_count": 73,
   "metadata": {},
   "outputs": [
    {
     "data": {
      "text/plain": [
       "(552, 8)"
      ]
     },
     "execution_count": 73,
     "metadata": {},
     "output_type": "execute_result"
    }
   ],
   "source": [
    "df_cities.shape"
   ]
  },
  {
   "cell_type": "code",
   "execution_count": 74,
   "metadata": {},
   "outputs": [],
   "source": [
    "#Creating Variables for Scatter Plots\n",
    "lat=df_cities['Latitude']\n",
    "humidity=df_cities['Humidity']\n",
    "cloudiness=df_cities['Cloudiness']\n",
    "wind_speed=df_cities['Wind Speed']\n",
    "temp=df_cities['Max_Temp']"
   ]
  },
  {
   "cell_type": "markdown",
   "metadata": {},
   "source": [
    "### LATITUDE VS TEMPERATURE"
   ]
  },
  {
   "cell_type": "code",
   "execution_count": 133,
   "metadata": {},
   "outputs": [
    {
     "data": {
      "text/plain": [
       "(-0.3188640978685947, 1.6427133493239305e-14)"
      ]
     },
     "execution_count": 133,
     "metadata": {},
     "output_type": "execute_result"
    },
    {
     "data": {
      "image/png": "[encoded data removed]",
      "text/plain": [
       "<Figure size 432x288 with 1 Axes>"
      ]
     },
     "metadata": {
      "needs_background": "light"
     },
     "output_type": "display_data"
    }
   ],
   "source": [
    "plt.scatter(lat,temp)\n",
    "plt.ylabel('Max TEMPERATURE (F)')\n",
    "plt.xlabel('LATITUDE')\n",
    "plt.ylim(20,100)\n",
    "plt.title('Latitude vs Temperature Plot')\n",
    "corr=sts.pearsonr(temp,lat);\n",
    "corr"
   ]
  },
  {
   "cell_type": "markdown",
   "metadata": {},
   "source": [
    "### We can see that temperature rises as we move towards the equator and goes down as we move away"
   ]
  },
  {
   "cell_type": "markdown",
   "metadata": {},
   "source": [
    "### LATITUDE VS HUMIDITY"
   ]
  },
  {
   "cell_type": "code",
   "execution_count": 134,
   "metadata": {},
   "outputs": [
    {
     "data": {
      "text/plain": [
       "(0.17191489937137616, 4.90314488102486e-05)"
      ]
     },
     "execution_count": 134,
     "metadata": {},
     "output_type": "execute_result"
    },
    {
     "data": {
      "image/png": "[encoded data removed]",
      "text/plain": [
       "<Figure size 432x288 with 1 Axes>"
      ]
     },
     "metadata": {
      "needs_background": "light"
     },
     "output_type": "display_data"
    }
   ],
   "source": [
    "plt.scatter(lat,humidity)\n",
    "plt.ylabel('HUMIDITY (%)')\n",
    "plt.xlabel('LATITUDE')\n",
    "plt.title('LATITUDE vs HUMIDITY Plot')\n",
    "corr=sts.pearsonr(humidity,lat);\n",
    "corr"
   ]
  },
  {
   "cell_type": "markdown",
   "metadata": {},
   "source": [
    "### Since p-value <<< , results are statistically significant, therfore it is difficult to determine relationship between latitude and humidity"
   ]
  },
  {
   "cell_type": "markdown",
   "metadata": {},
   "source": [
    "### LATITUDE VS CLOUDINESS"
   ]
  },
  {
   "cell_type": "code",
   "execution_count": 80,
   "metadata": {},
   "outputs": [
    {
     "data": {
      "text/plain": [
       "(0.19651036044812617, 3.288657894502744e-06)"
      ]
     },
     "execution_count": 80,
     "metadata": {},
     "output_type": "execute_result"
    },
    {
     "data": {
      "image/png": "[encoded data removed]",
      "text/plain": [
       "<Figure size 432x288 with 1 Axes>"
      ]
     },
     "metadata": {
      "needs_background": "light"
     },
     "output_type": "display_data"
    }
   ],
   "source": [
    "plt.scatter(lat,cloudiness)\n",
    "plt.ylabel('CLOUDINESS (%)')\n",
    "plt.xlabel('LATITUDE')\n",
    "plt.title('LATTITUDE vs CLOUDINESS Plot')\n",
    "corr=sts.pearsonr(cloudiness,lat);\n",
    "corr"
   ]
  },
  {
   "cell_type": "markdown",
   "metadata": {},
   "source": [
    "### Cloudiness is evenly spread and symmetrical in patterns in the northen and southern hemisphere"
   ]
  },
  {
   "cell_type": "markdown",
   "metadata": {},
   "source": [
    "### LATITUDE VS WIND SPEED"
   ]
  },
  {
   "cell_type": "code",
   "execution_count": 81,
   "metadata": {},
   "outputs": [
    {
     "data": {
      "text/plain": [
       "(-0.10887177194735152, 0.01047560022620967)"
      ]
     },
     "execution_count": 81,
     "metadata": {},
     "output_type": "execute_result"
    },
    {
     "data": {
      "image/png": "[encoded data removed]",
      "text/plain": [
       "<Figure size 432x288 with 1 Axes>"
      ]
     },
     "metadata": {
      "needs_background": "light"
     },
     "output_type": "display_data"
    }
   ],
   "source": [
    "plt.scatter(lat,wind_speed)\n",
    "plt.xlabel('LATITUDE')\n",
    "plt.ylabel('WIND SPEED (MPH)')\n",
    "plt.title('LATITUDE vs WIND SPEED')\n",
    "corr=sts.pearsonr(wind_speed,lat);\n",
    "corr"
   ]
  },
  {
   "cell_type": "markdown",
   "metadata": {},
   "source": [
    "###  Above code is analyzing wind speed across the northen and southern hemisphere"
   ]
  },
  {
   "cell_type": "code",
   "execution_count": 82,
   "metadata": {},
   "outputs": [],
   "source": [
    "#Separating NORTHEN AND SOUTHERN HEMISPHERES\n",
    "df_south=df_cities[df_cities['Latitude'] < 0]\n",
    "df_north=df_cities[df_cities['Latitude'] >= 0]"
   ]
  },
  {
   "cell_type": "code",
   "execution_count": 83,
   "metadata": {},
   "outputs": [],
   "source": [
    "#Generating variables for latitdues\n",
    "lat_s=df_south['Latitude']\n",
    "lat_n=df_north['Latitude']"
   ]
  },
  {
   "cell_type": "code",
   "execution_count": 85,
   "metadata": {},
   "outputs": [],
   "source": [
    "#Generating variables for required entities for regression\n",
    "temp_n=df_north['Max_Temp']\n",
    "temp_s=df_south['Max_Temp']\n",
    "hum_n=df_north['Humidity']\n",
    "hum_s=df_south['Humidity']\n",
    "cloud_n=df_north['Cloudiness']\n",
    "cloud_s=df_south['Cloudiness']\n",
    "wind_n=df_north['Wind Speed']\n",
    "wind_s=df_south['Wind Speed']"
   ]
  },
  {
   "cell_type": "markdown",
   "metadata": {},
   "source": [
    "### Regression Analysis"
   ]
  },
  {
   "cell_type": "markdown",
   "metadata": {},
   "source": [
    "### Latitude (N) vs Max Temp"
   ]
  },
  {
   "cell_type": "code",
   "execution_count": 102,
   "metadata": {},
   "outputs": [
    {
     "data": {
      "text/plain": [
       "'y = -0.66x + 93.16'"
      ]
     },
     "execution_count": 102,
     "metadata": {},
     "output_type": "execute_result"
    }
   ],
   "source": [
    "(slope,intercept,rvalue,pvalue,stderr)=linregress(lat_n.astype(float),temp_n.astype(float))\n",
    "\n",
    "regress_values = lat_n*slope +intercept\n",
    "\n",
    "line_eq= \"y = \" + str(round(slope,2)) + \"x + \"+ str(round(intercept,2))\n",
    "\n",
    "line_eq"
   ]
  },
  {
   "cell_type": "code",
   "execution_count": 103,
   "metadata": {},
   "outputs": [
    {
     "data": {
      "text/plain": [
       "Text(0, 0.5, 'Max Temp (F)')"
      ]
     },
     "execution_count": 103,
     "metadata": {},
     "output_type": "execute_result"
    },
    {
     "data": {
      "image/png": "[encoded data removed]",
      "text/plain": [
       "<Figure size 432x288 with 1 Axes>"
      ]
     },
     "metadata": {
      "needs_background": "light"
     },
     "output_type": "display_data"
    }
   ],
   "source": [
    "plt.scatter(lat_n,temp_n)\n",
    "plt.plot(lat_n,regress_values,\"red\")\n",
    "plt.annotate(line_eq,(7,42),color=\"green\",fontsize=15)\n",
    "plt.annotate(f\"R2 = {round(rvalue**2,3)}\",(7,35),fontsize=14,color=\"black\")\n",
    "plt.xlabel('Latitude')\n",
    "plt.ylabel('Max Temp (F)')"
   ]
  },
  {
   "cell_type": "markdown",
   "metadata": {},
   "source": [
    "### Temperature drops as we move away from the equator"
   ]
  },
  {
   "cell_type": "markdown",
   "metadata": {},
   "source": [
    "### Latitude (S) vs Max Temp"
   ]
  },
  {
   "cell_type": "code",
   "execution_count": 136,
   "metadata": {},
   "outputs": [
    {
     "data": {
      "text/plain": [
       "'y = 0.79x + 87.97'"
      ]
     },
     "execution_count": 136,
     "metadata": {},
     "output_type": "execute_result"
    }
   ],
   "source": [
    "(slope,intercept,rvalue,pvalue,stderr)=linregress(lat_s.astype(float),temp_s.astype(float))\n",
    "\n",
    "regress_values = lat_s*slope +intercept\n",
    "\n",
    "line_eq= \"y = \" + str(round(slope,2)) + \"x + \"+ str(round(intercept,2))\n",
    "\n",
    "line_eq"
   ]
  },
  {
   "cell_type": "code",
   "execution_count": 137,
   "metadata": {},
   "outputs": [
    {
     "data": {
      "text/plain": [
       "0.703693072991822"
      ]
     },
     "execution_count": 137,
     "metadata": {},
     "output_type": "execute_result"
    }
   ],
   "source": [
    "rvalue"
   ]
  },
  {
   "cell_type": "code",
   "execution_count": 138,
   "metadata": {},
   "outputs": [
    {
     "data": {
      "text/plain": [
       "Text(0, 0.5, 'Max Temp (F)')"
      ]
     },
     "execution_count": 138,
     "metadata": {},
     "output_type": "execute_result"
    },
    {
     "data": {
      "image/png": "[encoded data removed]",
      "text/plain": [
       "<Figure size 432x288 with 1 Axes>"
      ]
     },
     "metadata": {
      "needs_background": "light"
     },
     "output_type": "display_data"
    }
   ],
   "source": [
    "plt.scatter(lat_s,temp_s)\n",
    "plt.plot(lat_s,regress_values,\"red\")\n",
    "plt.annotate(line_eq,(-25,52),color=\"green\",fontsize=15)\n",
    "plt.annotate(f\"R2 = {round(rvalue**2,3)}\",(-25,45),fontsize=14,color=\"black\")\n",
    "plt.xlabel('Latitude')\n",
    "plt.ylabel('Max Temp (F)')"
   ]
  },
  {
   "cell_type": "markdown",
   "metadata": {},
   "source": [
    "### Temperature rises as we move towards the equator"
   ]
  },
  {
   "cell_type": "markdown",
   "metadata": {},
   "source": [
    "### Latitude (N) vs Humidity"
   ]
  },
  {
   "cell_type": "code",
   "execution_count": 141,
   "metadata": {},
   "outputs": [
    {
     "data": {
      "text/plain": [
       "'y = 0.15x + 64.24'"
      ]
     },
     "execution_count": 141,
     "metadata": {},
     "output_type": "execute_result"
    }
   ],
   "source": [
    "(slope,intercept,rvalue,pvalue,stderr)=linregress(lat_n.astype(float),hum_n.astype(float))\n",
    "\n",
    "regress_values = lat_n*slope +intercept\n",
    "\n",
    "line_eq= \"y = \" + str(round(slope,2)) + \"x + \"+ str(round(intercept,2))\n",
    "\n",
    "line_eq"
   ]
  },
  {
   "cell_type": "code",
   "execution_count": 142,
   "metadata": {},
   "outputs": [
    {
     "data": {
      "text/plain": [
       "Text(0, 0.5, 'Humidity')"
      ]
     },
     "execution_count": 142,
     "metadata": {},
     "output_type": "execute_result"
    },
    {
     "data": {
      "image/png": "[encoded data removed]",
      "text/plain": [
       "<Figure size 432x288 with 1 Axes>"
      ]
     },
     "metadata": {
      "needs_background": "light"
     },
     "output_type": "display_data"
    }
   ],
   "source": [
    "plt.scatter(lat_n,hum_n)\n",
    "plt.plot(lat_n,regress_values,\"red\")\n",
    "plt.annotate(line_eq,(1,25),color=\"green\",fontsize=15)\n",
    "plt.annotate(f\"R2 = {round(rvalue**2,3)}\",(1,18),fontsize=14,color=\"black\")\n",
    "plt.xlabel('Latitude')\n",
    "plt.ylabel('Humidity')"
   ]
  },
  {
   "cell_type": "markdown",
   "metadata": {},
   "source": [
    "### Humidity very slightly rises or remains constant as we move away from the equator based on line equation"
   ]
  },
  {
   "cell_type": "markdown",
   "metadata": {},
   "source": [
    "### Latitude (S) vs Humidity"
   ]
  },
  {
   "cell_type": "code",
   "execution_count": 110,
   "metadata": {},
   "outputs": [
    {
     "data": {
      "text/plain": [
       "'y = -0.15x + 59.5'"
      ]
     },
     "execution_count": 110,
     "metadata": {},
     "output_type": "execute_result"
    }
   ],
   "source": [
    "(slope,intercept,rvalue,pvalue,stderr)=linregress(lat_s.astype(float),hum_s.astype(float))\n",
    "\n",
    "regress_values = lat_s*slope +intercept\n",
    "\n",
    "line_eq= \"y = \" + str(round(slope,2)) + \"x + \"+ str(round(intercept,2))\n",
    "\n",
    "line_eq"
   ]
  },
  {
   "cell_type": "code",
   "execution_count": 114,
   "metadata": {},
   "outputs": [
    {
     "data": {
      "text/plain": [
       "Text(0, 0.5, 'Humidity')"
      ]
     },
     "execution_count": 114,
     "metadata": {},
     "output_type": "execute_result"
    },
    {
     "data": {
      "image/png": "[encoded data removed]",
      "text/plain": [
       "<Figure size 432x288 with 1 Axes>"
      ]
     },
     "metadata": {
      "needs_background": "light"
     },
     "output_type": "display_data"
    }
   ],
   "source": [
    "plt.scatter(lat_s,hum_s)\n",
    "plt.plot(lat_s,regress_values,\"red\")\n",
    "plt.annotate(line_eq,(-55,20),color=\"green\",fontsize=15)\n",
    "plt.annotate(f\"R2 = {round(rvalue**2,3)}\",(-55,12),fontsize=14,color=\"black\")\n",
    "plt.xlabel('Latitude')\n",
    "plt.ylabel('Humidity')"
   ]
  },
  {
   "cell_type": "markdown",
   "metadata": {},
   "source": [
    "### Humidty reduces based on line equaiton as we move towards equator"
   ]
  },
  {
   "cell_type": "markdown",
   "metadata": {},
   "source": [
    "### Latitude(N) vs Cloudiness"
   ]
  },
  {
   "cell_type": "code",
   "execution_count": 115,
   "metadata": {},
   "outputs": [
    {
     "data": {
      "text/plain": [
       "'y = 0.0x + 55.25'"
      ]
     },
     "execution_count": 115,
     "metadata": {},
     "output_type": "execute_result"
    }
   ],
   "source": [
    "(slope,intercept,rvalue,pvalue,stderr)=linregress(lat_n.astype(float),cloud_n.astype(float))\n",
    "\n",
    "regress_values = lat_n*slope +intercept\n",
    "\n",
    "line_eq= \"y = \" + str(round(slope,2)) + \"x + \"+ str(round(intercept,2))\n",
    "\n",
    "line_eq"
   ]
  },
  {
   "cell_type": "code",
   "execution_count": 120,
   "metadata": {},
   "outputs": [
    {
     "data": {
      "text/plain": [
       "Text(0, 0.5, 'Cloudiness')"
      ]
     },
     "execution_count": 120,
     "metadata": {},
     "output_type": "execute_result"
    },
    {
     "data": {
      "image/png": "[encoded data removed]",
      "text/plain": [
       "<Figure size 432x288 with 1 Axes>"
      ]
     },
     "metadata": {
      "needs_background": "light"
     },
     "output_type": "display_data"
    }
   ],
   "source": [
    "plt.scatter(lat_n,cloud_n)\n",
    "plt.plot(lat_n,regress_values,\"red\")\n",
    "plt.annotate(line_eq,(20,63),color=\"green\",fontsize=15)\n",
    "plt.annotate(f\"R2 = {round(rvalue**2,3)}\",(20,59),fontsize=14,color=\"black\")\n",
    "plt.xlabel('Latitude')\n",
    "plt.ylabel('Cloudiness')"
   ]
  },
  {
   "cell_type": "markdown",
   "metadata": {},
   "source": [
    "### Cloudiness more or less remains constant, latitude has very little affect on it in the northen hemisphere"
   ]
  },
  {
   "cell_type": "markdown",
   "metadata": {},
   "source": [
    "### Latitude (S) vs Cloudiness"
   ]
  },
  {
   "cell_type": "code",
   "execution_count": 121,
   "metadata": {},
   "outputs": [
    {
     "data": {
      "text/plain": [
       "'y = 0.34x + 45.55'"
      ]
     },
     "execution_count": 121,
     "metadata": {},
     "output_type": "execute_result"
    }
   ],
   "source": [
    "(slope,intercept,rvalue,pvalue,stderr)=linregress(lat_s.astype(float),cloud_s.astype(float))\n",
    "\n",
    "regress_values = lat_s*slope +intercept\n",
    "\n",
    "line_eq= \"y = \" + str(round(slope,2)) + \"x + \"+ str(round(intercept,2))\n",
    "\n",
    "line_eq"
   ]
  },
  {
   "cell_type": "code",
   "execution_count": 124,
   "metadata": {},
   "outputs": [
    {
     "data": {
      "text/plain": [
       "Text(0, 0.5, 'Cloudiness')"
      ]
     },
     "execution_count": 124,
     "metadata": {},
     "output_type": "execute_result"
    },
    {
     "data": {
      "image/png": "[encoded data removed]",
      "text/plain": [
       "<Figure size 432x288 with 1 Axes>"
      ]
     },
     "metadata": {
      "needs_background": "light"
     },
     "output_type": "display_data"
    }
   ],
   "source": [
    "plt.scatter(lat_s,cloud_s)\n",
    "plt.plot(lat_s,regress_values,\"red\")\n",
    "plt.annotate(line_eq,(-50,45),color=\"green\",fontsize=15)\n",
    "plt.annotate(f\"R2 = {round(rvalue**2,3)}\",(-50,38),fontsize=14,color=\"black\")\n",
    "plt.xlabel('Latitude')\n",
    "plt.ylabel('Cloudiness')"
   ]
  },
  {
   "cell_type": "markdown",
   "metadata": {},
   "source": [
    "### Cloudiness tends to rise as we move towrards equator from the Southern Hemisphere"
   ]
  },
  {
   "cell_type": "markdown",
   "metadata": {},
   "source": [
    "### Latitude (N) vs Wind Speed"
   ]
  },
  {
   "cell_type": "code",
   "execution_count": 125,
   "metadata": {},
   "outputs": [
    {
     "data": {
      "text/plain": [
       "'y = 0.01x + 7.53'"
      ]
     },
     "execution_count": 125,
     "metadata": {},
     "output_type": "execute_result"
    }
   ],
   "source": [
    "(slope,intercept,rvalue,pvalue,stderr)=linregress(lat_n.astype(float),wind_n.astype(float))\n",
    "\n",
    "regress_values = lat_n*slope +intercept\n",
    "\n",
    "line_eq= \"y = \" + str(round(slope,2)) + \"x + \"+ str(round(intercept,2))\n",
    "\n",
    "line_eq"
   ]
  },
  {
   "cell_type": "code",
   "execution_count": 128,
   "metadata": {},
   "outputs": [
    {
     "data": {
      "text/plain": [
       "Text(0, 0.5, 'Wind Speed mph')"
      ]
     },
     "execution_count": 128,
     "metadata": {},
     "output_type": "execute_result"
    },
    {
     "data": {
      "image/png": "[encoded data removed]",
      "text/plain": [
       "<Figure size 432x288 with 1 Axes>"
      ]
     },
     "metadata": {
      "needs_background": "light"
     },
     "output_type": "display_data"
    }
   ],
   "source": [
    "plt.scatter(lat_n,wind_n)\n",
    "plt.plot(lat_n,regress_values,\"red\")\n",
    "plt.annotate(line_eq,(30,26),color=\"green\",fontsize=15)\n",
    "plt.annotate(f\"R2 = {round(rvalue**2,3)}\",(30,24),fontsize=14,color=\"black\")\n",
    "plt.xlabel('Latitude')\n",
    "plt.ylabel('Wind Speed mph')"
   ]
  },
  {
   "cell_type": "markdown",
   "metadata": {},
   "source": [
    "### As per the line eq- latitude hardly contributes to the wind speed in the northen hemisphere"
   ]
  },
  {
   "cell_type": "markdown",
   "metadata": {},
   "source": [
    "### Latitude (S) vs Wind Speed"
   ]
  },
  {
   "cell_type": "code",
   "execution_count": 129,
   "metadata": {},
   "outputs": [
    {
     "data": {
      "text/plain": [
       "'y = -0.07x + 7.74'"
      ]
     },
     "execution_count": 129,
     "metadata": {},
     "output_type": "execute_result"
    }
   ],
   "source": [
    "(slope,intercept,rvalue,pvalue,stderr)=linregress(lat_s.astype(float),wind_s.astype(float))\n",
    "\n",
    "regress_values = lat_s*slope +intercept\n",
    "\n",
    "line_eq= \"y = \" + str(round(slope,2)) + \"x + \"+ str(round(intercept,2))\n",
    "\n",
    "line_eq"
   ]
  },
  {
   "cell_type": "code",
   "execution_count": 132,
   "metadata": {},
   "outputs": [
    {
     "data": {
      "text/plain": [
       "Text(0, 0.5, 'Wind Speed mph')"
      ]
     },
     "execution_count": 132,
     "metadata": {},
     "output_type": "execute_result"
    },
    {
     "data": {
      "image/png": "[encoded data removed]",
      "text/plain": [
       "<Figure size 432x288 with 1 Axes>"
      ]
     },
     "metadata": {
      "needs_background": "light"
     },
     "output_type": "display_data"
    }
   ],
   "source": [
    "plt.scatter(lat_s,wind_s)\n",
    "plt.plot(lat_s,regress_values,\"red\")\n",
    "plt.annotate(line_eq,(-50,25),color=\"green\",fontsize=15)\n",
    "plt.annotate(f\"R2 = {round(rvalue**2,3)}\",(-50,22),fontsize=14,color=\"black\")\n",
    "plt.xlabel('Latitude')\n",
    "plt.ylabel('Wind Speed mph')"
   ]
  },
  {
   "cell_type": "markdown",
   "metadata": {},
   "source": [
    "### Wind speed is greater away from the equator in the southern hemisphere"
   ]
  },
  {
   "cell_type": "code",
   "execution_count": null,
   "metadata": {},
   "outputs": [],
   "source": []
  }
 ],
 "metadata": {
  "kernelspec": {
   "display_name": "Python 3",
   "language": "python",
   "name": "python3"
  },
  "language_info": {
   "codemirror_mode": {
    "name": "ipython",
    "version": 3
   },
   "file_extension": ".py",
   "mimetype": "text/x-python",
   "name": "python",
   "nbconvert_exporter": "python",
   "pygments_lexer": "ipython3",
   "version": "3.7.3"
  }
 },
 "nbformat": 4,
 "nbformat_minor": 2
}
