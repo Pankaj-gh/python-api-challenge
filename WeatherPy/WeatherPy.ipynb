{
 "cells": [
  {
   "cell_type": "code",
   "execution_count": 1,
   "metadata": {},
   "outputs": [],
   "source": [
    "from citipy import citipy\n",
    "import pandas as pd\n",
    "import numpy as np\n",
    "import matplotlib.pyplot as plt\n",
    "import requests\n",
    "from config import weather_api_key,g_key\n",
    "import scipy.stats as sts\n",
    "from scipy.stats import linregress\n",
    "import time\n",
    "import os"
   ]
  },
  {
   "cell_type": "code",
   "execution_count": 2,
   "metadata": {},
   "outputs": [],
   "source": [
    "lat=np.random.uniform(-90.00,90.00,10000)"
   ]
  },
  {
   "cell_type": "code",
   "execution_count": 3,
   "metadata": {},
   "outputs": [],
   "source": [
    "lon=np.random.uniform(-180,180.00,10000)"
   ]
  },
  {
   "cell_type": "code",
   "execution_count": 4,
   "metadata": {},
   "outputs": [],
   "source": [
    "coordinates=list(zip(lat,lon))"
   ]
  },
  {
   "cell_type": "code",
   "execution_count": 5,
   "metadata": {},
   "outputs": [],
   "source": [
    "cities=set()"
   ]
  },
  {
   "cell_type": "code",
   "execution_count": 6,
   "metadata": {},
   "outputs": [],
   "source": [
    "\n",
    "for nos in coordinates:\n",
    "    citi=citipy.nearest_city(nos[0],nos[1])\n",
    "    city=citi.city_name\n",
    "    cities.add(city)\n",
    "    if len(cities)==600:\n",
    "        break"
   ]
  },
  {
   "cell_type": "code",
   "execution_count": 7,
   "metadata": {},
   "outputs": [
    {
     "data": {
      "text/plain": [
       "600"
      ]
     },
     "execution_count": 7,
     "metadata": {},
     "output_type": "execute_result"
    }
   ],
   "source": [
    "len(cities)"
   ]
  },
  {
   "cell_type": "code",
   "execution_count": 8,
   "metadata": {},
   "outputs": [],
   "source": [
    "cities=list(cities)"
   ]
  },
  {
   "cell_type": "code",
   "execution_count": 9,
   "metadata": {},
   "outputs": [
    {
     "data": {
      "text/plain": [
       "list"
      ]
     },
     "execution_count": 9,
     "metadata": {},
     "output_type": "execute_result"
    }
   ],
   "source": [
    "type(cities)"
   ]
  },
  {
   "cell_type": "code",
   "execution_count": 10,
   "metadata": {},
   "outputs": [
    {
     "data": {
      "text/html": [
       "<div>\n",
       "<style scoped>\n",
       "    .dataframe tbody tr th:only-of-type {\n",
       "        vertical-align: middle;\n",
       "    }\n",
       "\n",
       "    .dataframe tbody tr th {\n",
       "        vertical-align: top;\n",
       "    }\n",
       "\n",
       "    .dataframe thead th {\n",
       "        text-align: right;\n",
       "    }\n",
       "</style>\n",
       "<table border=\"1\" class=\"dataframe\">\n",
       "  <thead>\n",
       "    <tr style=\"text-align: right;\">\n",
       "      <th></th>\n",
       "      <th>Cities</th>\n",
       "    </tr>\n",
       "  </thead>\n",
       "  <tbody>\n",
       "    <tr>\n",
       "      <th>0</th>\n",
       "      <td>takoradi</td>\n",
       "    </tr>\n",
       "    <tr>\n",
       "      <th>1</th>\n",
       "      <td>ulladulla</td>\n",
       "    </tr>\n",
       "    <tr>\n",
       "      <th>2</th>\n",
       "      <td>caravelas</td>\n",
       "    </tr>\n",
       "    <tr>\n",
       "      <th>3</th>\n",
       "      <td>ngukurr</td>\n",
       "    </tr>\n",
       "    <tr>\n",
       "      <th>4</th>\n",
       "      <td>kaitangata</td>\n",
       "    </tr>\n",
       "  </tbody>\n",
       "</table>\n",
       "</div>"
      ],
      "text/plain": [
       "       Cities\n",
       "0    takoradi\n",
       "1   ulladulla\n",
       "2   caravelas\n",
       "3     ngukurr\n",
       "4  kaitangata"
      ]
     },
     "execution_count": 10,
     "metadata": {},
     "output_type": "execute_result"
    }
   ],
   "source": [
    "cities=pd.DataFrame({'Cities':cities})\n",
    "cities.head()"
   ]
  },
  {
   "cell_type": "code",
   "execution_count": 11,
   "metadata": {},
   "outputs": [],
   "source": [
    "cities['Country']=\"\"\n",
    "cities['Latitude']=0\n",
    "cities['Longitude']=0\n",
    "cities['Cloudiness']=0\n",
    "cities['Date']=\"\"\n",
    "cities['Humidity']=0\n",
    "cities['Max_Temp']=0\n",
    "cities['Wind Speed']=0"
   ]
  },
  {
   "cell_type": "code",
   "execution_count": 12,
   "metadata": {},
   "outputs": [
    {
     "data": {
      "text/html": [
       "<div>\n",
       "<style scoped>\n",
       "    .dataframe tbody tr th:only-of-type {\n",
       "        vertical-align: middle;\n",
       "    }\n",
       "\n",
       "    .dataframe tbody tr th {\n",
       "        vertical-align: top;\n",
       "    }\n",
       "\n",
       "    .dataframe thead th {\n",
       "        text-align: right;\n",
       "    }\n",
       "</style>\n",
       "<table border=\"1\" class=\"dataframe\">\n",
       "  <thead>\n",
       "    <tr style=\"text-align: right;\">\n",
       "      <th></th>\n",
       "      <th>Cities</th>\n",
       "      <th>Country</th>\n",
       "      <th>Latitude</th>\n",
       "      <th>Longitude</th>\n",
       "      <th>Cloudiness</th>\n",
       "      <th>Date</th>\n",
       "      <th>Humidity</th>\n",
       "      <th>Max_Temp</th>\n",
       "      <th>Wind Speed</th>\n",
       "    </tr>\n",
       "  </thead>\n",
       "  <tbody>\n",
       "    <tr>\n",
       "      <th>0</th>\n",
       "      <td>takoradi</td>\n",
       "      <td></td>\n",
       "      <td>0</td>\n",
       "      <td>0</td>\n",
       "      <td>0</td>\n",
       "      <td></td>\n",
       "      <td>0</td>\n",
       "      <td>0</td>\n",
       "      <td>0</td>\n",
       "    </tr>\n",
       "    <tr>\n",
       "      <th>1</th>\n",
       "      <td>ulladulla</td>\n",
       "      <td></td>\n",
       "      <td>0</td>\n",
       "      <td>0</td>\n",
       "      <td>0</td>\n",
       "      <td></td>\n",
       "      <td>0</td>\n",
       "      <td>0</td>\n",
       "      <td>0</td>\n",
       "    </tr>\n",
       "    <tr>\n",
       "      <th>2</th>\n",
       "      <td>caravelas</td>\n",
       "      <td></td>\n",
       "      <td>0</td>\n",
       "      <td>0</td>\n",
       "      <td>0</td>\n",
       "      <td></td>\n",
       "      <td>0</td>\n",
       "      <td>0</td>\n",
       "      <td>0</td>\n",
       "    </tr>\n",
       "    <tr>\n",
       "      <th>3</th>\n",
       "      <td>ngukurr</td>\n",
       "      <td></td>\n",
       "      <td>0</td>\n",
       "      <td>0</td>\n",
       "      <td>0</td>\n",
       "      <td></td>\n",
       "      <td>0</td>\n",
       "      <td>0</td>\n",
       "      <td>0</td>\n",
       "    </tr>\n",
       "    <tr>\n",
       "      <th>4</th>\n",
       "      <td>kaitangata</td>\n",
       "      <td></td>\n",
       "      <td>0</td>\n",
       "      <td>0</td>\n",
       "      <td>0</td>\n",
       "      <td></td>\n",
       "      <td>0</td>\n",
       "      <td>0</td>\n",
       "      <td>0</td>\n",
       "    </tr>\n",
       "  </tbody>\n",
       "</table>\n",
       "</div>"
      ],
      "text/plain": [
       "       Cities Country  Latitude  Longitude  Cloudiness Date  Humidity  \\\n",
       "0    takoradi                 0          0           0              0   \n",
       "1   ulladulla                 0          0           0              0   \n",
       "2   caravelas                 0          0           0              0   \n",
       "3     ngukurr                 0          0           0              0   \n",
       "4  kaitangata                 0          0           0              0   \n",
       "\n",
       "   Max_Temp  Wind Speed  \n",
       "0         0           0  \n",
       "1         0           0  \n",
       "2         0           0  \n",
       "3         0           0  \n",
       "4         0           0  "
      ]
     },
     "execution_count": 12,
     "metadata": {},
     "output_type": "execute_result"
    }
   ],
   "source": [
    "cities.head()"
   ]
  },
  {
   "cell_type": "code",
   "execution_count": 13,
   "metadata": {},
   "outputs": [],
   "source": [
    "url='http://api.openweathermap.org/data/2.5/weather?'"
   ]
  },
  {
   "cell_type": "code",
   "execution_count": 14,
   "metadata": {},
   "outputs": [],
   "source": [
    "# lat=response['coord']['lat']\n",
    "# lon=response['coord']['lon']\n",
    "# cloudiness=response['clouds']['all']\n",
    "# date=response['dt']\n",
    "# humidity=response['main']['humidity']\n",
    "# max_temp=response['main']['temp_max']\n",
    "# wind=response['wind']['speed']\n"
   ]
  },
  {
   "cell_type": "code",
   "execution_count": 15,
   "metadata": {},
   "outputs": [
    {
     "name": "stdout",
     "output_type": "stream",
     "text": [
      "==============================\n",
      "Begining Data Retrieval\n",
      "==============================\n",
      "\n",
      "Searching record 1 of set 1  | takoradi\n",
      "Searching record 2 of set 1  | ulladulla\n",
      "Searching record 3 of set 1  | caravelas\n",
      "Searching record 4 of set 1  | ngukurr\n",
      "******************************\n",
      "Sorry couldn't find ngukurr\n",
      "******************************\n",
      "Searching record 5 of set 1  | kaitangata\n",
      "Searching record 6 of set 1  | cairo\n",
      "Searching record 7 of set 1  | camana\n",
      "Searching record 8 of set 1  | puerto carreno\n",
      "Searching record 9 of set 1  | solnechnyy\n",
      "Searching record 10 of set 1  | shimoda\n",
      "Searching record 11 of set 1  | jimenez\n",
      "Searching record 12 of set 1  | bethel\n",
      "Searching record 13 of set 1  | aklavik\n",
      "Searching record 14 of set 1  | atar\n",
      "Searching record 15 of set 1  | sur\n",
      "Searching record 16 of set 1  | cootamundra\n",
      "Searching record 17 of set 1  | waipawa\n",
      "Searching record 18 of set 1  | zdvinsk\n",
      "Searching record 19 of set 1  | bolshiye uki\n",
      "******************************\n",
      "Sorry couldn't find bolshiye uki\n",
      "******************************\n",
      "Searching record 20 of set 1  | zhigansk\n",
      "Searching record 21 of set 1  | tura\n",
      "Searching record 22 of set 1  | santa cruz\n",
      "Searching record 23 of set 1  | gornopravdinsk\n",
      "Searching record 24 of set 1  | faya\n",
      "Searching record 25 of set 1  | hasaki\n",
      "Searching record 26 of set 1  | halifax\n",
      "Searching record 27 of set 1  | santa helena de goias\n",
      "Searching record 28 of set 1  | mosquera\n",
      "Searching record 29 of set 1  | naryan-mar\n",
      "Searching record 30 of set 1  | dunedin\n",
      "Searching record 31 of set 1  | goderich\n",
      "Searching record 32 of set 1  | tucuman\n",
      "Searching record 33 of set 1  | kijang\n",
      "Searching record 34 of set 1  | luderitz\n",
      "Searching record 35 of set 1  | aloleng\n",
      "Searching record 36 of set 1  | toliary\n",
      "******************************\n",
      "Sorry couldn't find toliary\n",
      "******************************\n",
      "Searching record 37 of set 1  | ayorou\n",
      "Searching record 38 of set 1  | wasilla\n",
      "Searching record 39 of set 1  | butaritari\n",
      "Searching record 40 of set 1  | sayyan\n",
      "Searching record 41 of set 1  | eyl\n",
      "Searching record 42 of set 1  | klaksvik\n",
      "Searching record 43 of set 1  | mahebourg\n",
      "Searching record 44 of set 1  | mayor pablo lagerenza\n",
      "Searching record 45 of set 1  | utiroa\n",
      "******************************\n",
      "Sorry couldn't find utiroa\n",
      "******************************\n",
      "Searching record 46 of set 1  | grand river south east\n",
      "******************************\n",
      "Sorry couldn't find grand river south east\n",
      "******************************\n",
      "Searching record 47 of set 1  | manicore\n",
      "Searching record 48 of set 1  | coquimbo\n",
      "Searching record 49 of set 1  | birao\n",
      "Searching record 50 of set 1  | tullahoma\n",
      "---------------------------------------------------------------------------\n",
      "Counter has reached 50, program will pause for 1 second before resuming\n",
      "---------------------------------------------------------------------------\n",
      "Searching record 1 of set 2  | banjar\n",
      "Searching record 2 of set 2  | bolcske\n",
      "Searching record 3 of set 2  | suda\n",
      "Searching record 4 of set 2  | calderitas\n",
      "Searching record 5 of set 2  | cockburn town\n",
      "Searching record 6 of set 2  | uong bi\n",
      "Searching record 7 of set 2  | baia de fier\n",
      "Searching record 8 of set 2  | little current\n",
      "Searching record 9 of set 2  | hithadhoo\n",
      "Searching record 10 of set 2  | port shepstone\n",
      "Searching record 11 of set 2  | namibe\n",
      "Searching record 12 of set 2  | brewster\n",
      "Searching record 13 of set 2  | penapolis\n",
      "Searching record 14 of set 2  | tokur\n",
      "Searching record 15 of set 2  | lucea\n",
      "Searching record 16 of set 2  | lata\n",
      "Searching record 17 of set 2  | sovetskaya gavan\n",
      "Searching record 18 of set 2  | bundaberg\n",
      "Searching record 19 of set 2  | virginia beach\n",
      "Searching record 20 of set 2  | amahai\n",
      "Searching record 21 of set 2  | sechura\n",
      "Searching record 22 of set 2  | brae\n",
      "Searching record 23 of set 2  | sapao\n",
      "******************************\n",
      "Sorry couldn't find sapao\n",
      "******************************\n",
      "Searching record 24 of set 2  | juneau\n",
      "Searching record 25 of set 2  | hammerfest\n",
      "Searching record 26 of set 2  | iskateley\n",
      "Searching record 27 of set 2  | cruzeiro do sul\n",
      "Searching record 28 of set 2  | samarai\n",
      "Searching record 29 of set 2  | katsuura\n",
      "Searching record 30 of set 2  | ostrovnoy\n",
      "Searching record 31 of set 2  | hermanus\n",
      "Searching record 32 of set 2  | weston\n",
      "Searching record 33 of set 2  | fort nelson\n",
      "Searching record 34 of set 2  | atuona\n",
      "Searching record 35 of set 2  | sharan\n",
      "Searching record 36 of set 2  | anito\n",
      "Searching record 37 of set 2  | cordoba\n",
      "Searching record 38 of set 2  | punta arenas\n",
      "Searching record 39 of set 2  | talnakh\n",
      "Searching record 40 of set 2  | zhanatas\n",
      "******************************\n",
      "Sorry couldn't find zhanatas\n",
      "******************************\n",
      "Searching record 41 of set 2  | bambous virieux\n",
      "Searching record 42 of set 2  | berlevag\n",
      "Searching record 43 of set 2  | bubaque\n",
      "Searching record 44 of set 2  | saleaula\n",
      "******************************\n",
      "Sorry couldn't find saleaula\n",
      "******************************\n",
      "Searching record 45 of set 2  | san vicente\n",
      "Searching record 46 of set 2  | kapaa\n",
      "Searching record 47 of set 2  | sinnamary\n",
      "Searching record 48 of set 2  | palabuhanratu\n",
      "******************************\n",
      "Sorry couldn't find palabuhanratu\n",
      "******************************\n",
      "Searching record 49 of set 2  | montepuez\n",
      "Searching record 50 of set 2  | christchurch\n",
      "---------------------------------------------------------------------------\n",
      "Counter has reached 50, program will pause for 1 second before resuming\n",
      "---------------------------------------------------------------------------\n",
      "Searching record 1 of set 3  | praia da vitoria\n",
      "Searching record 2 of set 3  | riverton\n",
      "Searching record 3 of set 3  | bredasdorp\n",
      "Searching record 4 of set 3  | vreed en hoop\n",
      "******************************\n",
      "Sorry couldn't find vreed en hoop\n",
      "******************************\n",
      "Searching record 5 of set 3  | vaini\n",
      "Searching record 6 of set 3  | poum\n",
      "Searching record 7 of set 3  | taungdwingyi\n",
      "Searching record 8 of set 3  | doha\n",
      "Searching record 9 of set 3  | pestovo\n",
      "Searching record 10 of set 3  | kahului\n",
      "Searching record 11 of set 3  | rosario\n",
      "Searching record 12 of set 3  | portland\n",
      "Searching record 13 of set 3  | pingliang\n",
      "Searching record 14 of set 3  | karasuk\n",
      "Searching record 15 of set 3  | yamoussoukro\n",
      "Searching record 16 of set 3  | upernavik\n",
      "Searching record 17 of set 3  | san patricio\n",
      "Searching record 18 of set 3  | itarema\n",
      "Searching record 19 of set 3  | sabang\n",
      "Searching record 20 of set 3  | luoyang\n",
      "Searching record 21 of set 3  | hobyo\n",
      "Searching record 22 of set 3  | te anau\n",
      "Searching record 23 of set 3  | gourcy\n",
      "Searching record 24 of set 3  | smithers\n",
      "Searching record 25 of set 3  | kieta\n",
      "Searching record 26 of set 3  | san cristobal\n",
      "Searching record 27 of set 3  | souillac\n",
      "Searching record 28 of set 3  | inhambane\n",
      "Searching record 29 of set 3  | gabu\n",
      "Searching record 30 of set 3  | attawapiskat\n",
      "******************************\n",
      "Sorry couldn't find attawapiskat\n",
      "******************************\n",
      "Searching record 31 of set 3  | kimbe\n",
      "Searching record 32 of set 3  | port-cartier\n",
      "Searching record 33 of set 3  | rokytne\n",
      "Searching record 34 of set 3  | mutsamudu\n",
      "******************************\n",
      "Sorry couldn't find mutsamudu\n",
      "******************************\n",
      "Searching record 35 of set 3  | meulaboh\n",
      "Searching record 36 of set 3  | axim\n",
      "Searching record 37 of set 3  | waingapu\n",
      "Searching record 38 of set 3  | tsihombe\n",
      "******************************\n",
      "Sorry couldn't find tsihombe\n",
      "******************************\n",
      "Searching record 39 of set 3  | sorland\n",
      "Searching record 40 of set 3  | yar-sale\n",
      "Searching record 41 of set 3  | rancho palos verdes\n",
      "Searching record 42 of set 3  | tasiilaq\n",
      "Searching record 43 of set 3  | sevierville\n",
      "Searching record 44 of set 3  | ilulissat\n",
      "Searching record 45 of set 3  | borama\n",
      "******************************\n",
      "Sorry couldn't find borama\n",
      "******************************\n",
      "Searching record 46 of set 3  | puerto ayora\n",
      "Searching record 47 of set 3  | bom jesus\n",
      "Searching record 48 of set 3  | wajima\n",
      "Searching record 49 of set 3  | ostersund\n",
      "Searching record 50 of set 3  | kruisfontein\n",
      "---------------------------------------------------------------------------\n",
      "Counter has reached 50, program will pause for 1 second before resuming\n",
      "---------------------------------------------------------------------------\n"
     ]
    },
    {
     "name": "stdout",
     "output_type": "stream",
     "text": [
      "Searching record 1 of set 4  | uige\n",
      "Searching record 2 of set 4  | khonsar\n",
      "******************************\n",
      "Sorry couldn't find khonsar\n",
      "******************************\n",
      "Searching record 3 of set 4  | taloqan\n",
      "Searching record 4 of set 4  | saint-louis\n",
      "Searching record 5 of set 4  | boca do acre\n",
      "Searching record 6 of set 4  | dieppe\n",
      "Searching record 7 of set 4  | sulangan\n",
      "Searching record 8 of set 4  | tuktoyaktuk\n",
      "Searching record 9 of set 4  | jamestown\n",
      "Searching record 10 of set 4  | togur\n",
      "Searching record 11 of set 4  | tondano\n",
      "Searching record 12 of set 4  | igboho\n",
      "Searching record 13 of set 4  | llanes\n",
      "Searching record 14 of set 4  | oriximina\n",
      "Searching record 15 of set 4  | ancud\n",
      "Searching record 16 of set 4  | windhoek\n",
      "Searching record 17 of set 4  | georgetown\n",
      "Searching record 18 of set 4  | rio rancho\n",
      "Searching record 19 of set 4  | solovetskiy\n",
      "******************************\n",
      "Sorry couldn't find solovetskiy\n",
      "******************************\n",
      "Searching record 20 of set 4  | yialos\n",
      "******************************\n",
      "Sorry couldn't find yialos\n",
      "******************************\n",
      "Searching record 21 of set 4  | morros\n",
      "Searching record 22 of set 4  | sakakah\n",
      "Searching record 23 of set 4  | thinadhoo\n",
      "Searching record 24 of set 4  | wattegama\n",
      "Searching record 25 of set 4  | chapais\n",
      "Searching record 26 of set 4  | weihe\n",
      "Searching record 27 of set 4  | sivaki\n",
      "Searching record 28 of set 4  | bluff\n",
      "Searching record 29 of set 4  | san borja\n",
      "Searching record 30 of set 4  | ixtapa\n",
      "Searching record 31 of set 4  | lazaro cardenas\n",
      "Searching record 32 of set 4  | port said\n",
      "Searching record 33 of set 4  | tasbuget\n",
      "******************************\n",
      "Sorry couldn't find tasbuget\n",
      "******************************\n",
      "Searching record 34 of set 4  | xining\n",
      "Searching record 35 of set 4  | harper\n",
      "Searching record 36 of set 4  | port hardy\n",
      "Searching record 37 of set 4  | santa fe\n",
      "Searching record 38 of set 4  | lavrentiya\n",
      "Searching record 39 of set 4  | victoria\n",
      "Searching record 40 of set 4  | fortuna\n",
      "Searching record 41 of set 4  | carauari\n",
      "Searching record 42 of set 4  | kodiak\n",
      "Searching record 43 of set 4  | codrington\n",
      "Searching record 44 of set 4  | dongning\n",
      "Searching record 45 of set 4  | mar del plata\n",
      "Searching record 46 of set 4  | chitral\n",
      "Searching record 47 of set 4  | sangar\n",
      "Searching record 48 of set 4  | abnub\n",
      "Searching record 49 of set 4  | mocuba\n",
      "Searching record 50 of set 4  | klyuchi\n",
      "---------------------------------------------------------------------------\n",
      "Counter has reached 50, program will pause for 1 second before resuming\n",
      "---------------------------------------------------------------------------\n",
      "Searching record 1 of set 5  | mesyagutovo\n",
      "Searching record 2 of set 5  | sentyabrskiy\n",
      "******************************\n",
      "Sorry couldn't find sentyabrskiy\n",
      "******************************\n",
      "Searching record 3 of set 5  | korla\n",
      "Searching record 4 of set 5  | emerald\n",
      "Searching record 5 of set 5  | anadyr\n",
      "Searching record 6 of set 5  | jalu\n",
      "Searching record 7 of set 5  | usinsk\n",
      "Searching record 8 of set 5  | ribeira grande\n",
      "Searching record 9 of set 5  | lapithos\n",
      "Searching record 10 of set 5  | ramenskoye\n",
      "Searching record 11 of set 5  | kendari\n",
      "Searching record 12 of set 5  | bauchi\n",
      "Searching record 13 of set 5  | akdepe\n",
      "Searching record 14 of set 5  | byron bay\n",
      "Searching record 15 of set 5  | arkhara\n",
      "Searching record 16 of set 5  | nakamura\n",
      "Searching record 17 of set 5  | cochabamba\n",
      "Searching record 18 of set 5  | new norfolk\n",
      "Searching record 19 of set 5  | sidi ali\n",
      "Searching record 20 of set 5  | port alfred\n",
      "Searching record 21 of set 5  | asosa\n",
      "Searching record 22 of set 5  | yumen\n",
      "Searching record 23 of set 5  | marzuq\n",
      "Searching record 24 of set 5  | broome\n",
      "Searching record 25 of set 5  | pihuamo\n",
      "Searching record 26 of set 5  | seoul\n",
      "Searching record 27 of set 5  | osa\n",
      "Searching record 28 of set 5  | paka\n",
      "Searching record 29 of set 5  | langsa\n",
      "Searching record 30 of set 5  | auki\n",
      "Searching record 31 of set 5  | dikson\n",
      "Searching record 32 of set 5  | vostok\n",
      "Searching record 33 of set 5  | temaraia\n",
      "******************************\n",
      "Sorry couldn't find temaraia\n",
      "******************************\n",
      "Searching record 34 of set 5  | busselton\n",
      "Searching record 35 of set 5  | pavlodar\n",
      "Searching record 36 of set 5  | vaitupu\n",
      "******************************\n",
      "Sorry couldn't find vaitupu\n",
      "******************************\n",
      "Searching record 37 of set 5  | dinguiraye\n",
      "Searching record 38 of set 5  | kavaratti\n",
      "Searching record 39 of set 5  | alice springs\n",
      "Searching record 40 of set 5  | awbari\n",
      "Searching record 41 of set 5  | gurgan\n",
      "******************************\n",
      "Sorry couldn't find gurgan\n",
      "******************************\n",
      "Searching record 42 of set 5  | kamaishi\n",
      "Searching record 43 of set 5  | buala\n",
      "Searching record 44 of set 5  | shingu\n",
      "Searching record 45 of set 5  | hervey bay\n",
      "Searching record 46 of set 5  | pevek\n",
      "Searching record 47 of set 5  | lompoc\n",
      "Searching record 48 of set 5  | san quintin\n",
      "Searching record 49 of set 5  | sabancuy\n",
      "Searching record 50 of set 5  | karlovo\n",
      "---------------------------------------------------------------------------\n",
      "Counter has reached 50, program will pause for 1 second before resuming\n",
      "---------------------------------------------------------------------------\n",
      "Searching record 1 of set 6  | iquitos\n",
      "Searching record 2 of set 6  | hauterive\n",
      "Searching record 3 of set 6  | deinze\n",
      "Searching record 4 of set 6  | ushuaia\n",
      "Searching record 5 of set 6  | rocha\n",
      "Searching record 6 of set 6  | ponerihouen\n",
      "Searching record 7 of set 6  | eldikan\n",
      "******************************\n",
      "Sorry couldn't find eldikan\n",
      "******************************\n",
      "Searching record 8 of set 6  | ulaangom\n",
      "Searching record 9 of set 6  | walvis bay\n",
      "Searching record 10 of set 6  | arraial do cabo\n",
      "Searching record 11 of set 6  | carolina\n",
      "Searching record 12 of set 6  | cabedelo\n",
      "Searching record 13 of set 6  | mayumba\n",
      "Searching record 14 of set 6  | poya\n",
      "Searching record 15 of set 6  | glomfjord\n",
      "Searching record 16 of set 6  | lorengau\n",
      "Searching record 17 of set 6  | torbay\n",
      "Searching record 18 of set 6  | saurimo\n",
      "Searching record 19 of set 6  | karakendzha\n",
      "******************************\n",
      "Sorry couldn't find karakendzha\n",
      "******************************\n",
      "Searching record 20 of set 6  | gorzow wielkopolski\n",
      "Searching record 21 of set 6  | ponta delgada\n",
      "Searching record 22 of set 6  | beyneu\n",
      "Searching record 23 of set 6  | odweyne\n",
      "Searching record 24 of set 6  | peterhead\n",
      "Searching record 25 of set 6  | dingle\n",
      "Searching record 26 of set 6  | valmiera\n",
      "Searching record 27 of set 6  | havre-saint-pierre\n",
      "Searching record 28 of set 6  | plettenberg bay\n",
      "Searching record 29 of set 6  | okhotsk\n",
      "Searching record 30 of set 6  | chateaubelair\n",
      "Searching record 31 of set 6  | moron\n",
      "Searching record 32 of set 6  | beloha\n",
      "Searching record 33 of set 6  | carnarvon\n",
      "Searching record 34 of set 6  | potsdam\n",
      "Searching record 35 of set 6  | baherden\n",
      "Searching record 36 of set 6  | muscat\n",
      "Searching record 37 of set 6  | ust-kut\n",
      "Searching record 38 of set 6  | saldanha\n",
      "Searching record 39 of set 6  | oda\n",
      "Searching record 40 of set 6  | sao filipe\n",
      "Searching record 41 of set 6  | aginskoye\n",
      "Searching record 42 of set 6  | ozerne\n",
      "Searching record 43 of set 6  | bonavista\n",
      "Searching record 44 of set 6  | gustrow\n",
      "Searching record 45 of set 6  | dunmore east\n",
      "Searching record 46 of set 6  | karaul\n",
      "******************************\n",
      "Sorry couldn't find karaul\n",
      "******************************\n",
      "Searching record 47 of set 6  | daoukro\n",
      "Searching record 48 of set 6  | isla mujeres\n",
      "Searching record 49 of set 6  | aripuana\n",
      "Searching record 50 of set 6  | san jose\n",
      "---------------------------------------------------------------------------\n",
      "Counter has reached 50, program will pause for 1 second before resuming\n",
      "---------------------------------------------------------------------------\n",
      "Searching record 1 of set 7  | nehe\n",
      "Searching record 2 of set 7  | tateyama\n",
      "Searching record 3 of set 7  | tianpeng\n",
      "Searching record 4 of set 7  | victoria point\n",
      "Searching record 5 of set 7  | baykit\n",
      "Searching record 6 of set 7  | chuy\n",
      "Searching record 7 of set 7  | shache\n",
      "Searching record 8 of set 7  | norman wells\n",
      "Searching record 9 of set 7  | troitskoye\n",
      "Searching record 10 of set 7  | muzhi\n",
      "Searching record 11 of set 7  | fomboni\n"
     ]
    },
    {
     "name": "stdout",
     "output_type": "stream",
     "text": [
      "Searching record 12 of set 7  | awjilah\n",
      "Searching record 13 of set 7  | gisborne\n",
      "Searching record 14 of set 7  | lamar\n",
      "Searching record 15 of set 7  | sindor\n",
      "Searching record 16 of set 7  | show low\n",
      "Searching record 17 of set 7  | namatanai\n",
      "Searching record 18 of set 7  | iqaluit\n",
      "Searching record 19 of set 7  | west helena\n",
      "Searching record 20 of set 7  | timmins\n",
      "Searching record 21 of set 7  | ozu\n",
      "Searching record 22 of set 7  | vardo\n",
      "Searching record 23 of set 7  | dickinson\n",
      "Searching record 24 of set 7  | marcona\n",
      "******************************\n",
      "Sorry couldn't find marcona\n",
      "******************************\n",
      "Searching record 25 of set 7  | sumenep\n",
      "Searching record 26 of set 7  | buraydah\n",
      "Searching record 27 of set 7  | asayita\n",
      "******************************\n",
      "Sorry couldn't find asayita\n",
      "******************************\n",
      "Searching record 28 of set 7  | amapa\n",
      "Searching record 29 of set 7  | matoury\n",
      "Searching record 30 of set 7  | provideniya\n",
      "Searching record 31 of set 7  | port blair\n",
      "Searching record 32 of set 7  | fort thomas\n",
      "Searching record 33 of set 7  | nikolskoye\n",
      "Searching record 34 of set 7  | haines junction\n",
      "Searching record 35 of set 7  | laguna\n",
      "Searching record 36 of set 7  | yellowknife\n",
      "Searching record 37 of set 7  | semirom\n",
      "Searching record 38 of set 7  | sucua\n",
      "Searching record 39 of set 7  | kavieng\n",
      "Searching record 40 of set 7  | sitka\n",
      "Searching record 41 of set 7  | port-gentil\n",
      "Searching record 42 of set 7  | toowoomba\n",
      "Searching record 43 of set 7  | hilo\n",
      "Searching record 44 of set 7  | alice town\n",
      "Searching record 45 of set 7  | valle de allende\n",
      "Searching record 46 of set 7  | san vicente de canete\n",
      "Searching record 47 of set 7  | beringovskiy\n",
      "Searching record 48 of set 7  | east london\n",
      "Searching record 49 of set 7  | touros\n",
      "Searching record 50 of set 7  | dranic\n",
      "******************************\n",
      "Sorry couldn't find dranic\n",
      "******************************\n",
      "---------------------------------------------------------------------------\n",
      "Counter has reached 50, program will pause for 1 second before resuming\n",
      "---------------------------------------------------------------------------\n",
      "Searching record 1 of set 8  | constitucion\n",
      "Searching record 2 of set 8  | prijedor\n",
      "Searching record 3 of set 8  | bengkulu\n",
      "Searching record 4 of set 8  | ruatoria\n",
      "******************************\n",
      "Sorry couldn't find ruatoria\n",
      "******************************\n",
      "Searching record 5 of set 8  | asyut\n",
      "Searching record 6 of set 8  | qaanaaq\n",
      "Searching record 7 of set 8  | cao bang\n",
      "Searching record 8 of set 8  | richards bay\n",
      "Searching record 9 of set 8  | ramasukha\n",
      "******************************\n",
      "Sorry couldn't find ramasukha\n",
      "******************************\n",
      "Searching record 10 of set 8  | say\n",
      "Searching record 11 of set 8  | phan thiet\n",
      "Searching record 12 of set 8  | gamba\n",
      "Searching record 13 of set 8  | praia\n",
      "Searching record 14 of set 8  | sovetsk\n",
      "Searching record 15 of set 8  | alofi\n",
      "Searching record 16 of set 8  | khonuu\n",
      "******************************\n",
      "Sorry couldn't find khonuu\n",
      "******************************\n",
      "Searching record 17 of set 8  | laguna de duero\n",
      "Searching record 18 of set 8  | port macquarie\n",
      "Searching record 19 of set 8  | port elizabeth\n",
      "Searching record 20 of set 8  | bykovo\n",
      "Searching record 21 of set 8  | fairbanks\n",
      "Searching record 22 of set 8  | rolim de moura\n",
      "******************************\n",
      "Sorry couldn't find rolim de moura\n",
      "******************************\n",
      "Searching record 23 of set 8  | basco\n",
      "Searching record 24 of set 8  | evensk\n",
      "Searching record 25 of set 8  | los llanos de aridane\n",
      "Searching record 26 of set 8  | soyo\n",
      "Searching record 27 of set 8  | kerrville\n",
      "Searching record 28 of set 8  | acarau\n",
      "Searching record 29 of set 8  | upata\n",
      "Searching record 30 of set 8  | henties bay\n",
      "Searching record 31 of set 8  | mugur-aksy\n",
      "Searching record 32 of set 8  | tumannyy\n",
      "******************************\n",
      "Sorry couldn't find tumannyy\n",
      "******************************\n",
      "Searching record 33 of set 8  | koboldo\n",
      "******************************\n",
      "Sorry couldn't find koboldo\n",
      "******************************\n",
      "Searching record 34 of set 8  | asau\n",
      "Searching record 35 of set 8  | sens\n",
      "Searching record 36 of set 8  | shaowu\n",
      "Searching record 37 of set 8  | kribi\n",
      "Searching record 38 of set 8  | castro\n",
      "Searching record 39 of set 8  | aljezur\n",
      "Searching record 40 of set 8  | road town\n",
      "Searching record 41 of set 8  | baruun-urt\n",
      "Searching record 42 of set 8  | soria\n",
      "Searching record 43 of set 8  | zhitikara\n",
      "******************************\n",
      "Sorry couldn't find zhitikara\n",
      "******************************\n",
      "Searching record 44 of set 8  | bolungarvik\n",
      "******************************\n",
      "Sorry couldn't find bolungarvik\n",
      "******************************\n",
      "Searching record 45 of set 8  | millet\n",
      "Searching record 46 of set 8  | anuradhapura\n",
      "Searching record 47 of set 8  | hamilton\n",
      "Searching record 48 of set 8  | high level\n",
      "Searching record 49 of set 8  | greeneville\n",
      "Searching record 50 of set 8  | chokurdakh\n",
      "---------------------------------------------------------------------------\n",
      "Counter has reached 50, program will pause for 1 second before resuming\n",
      "---------------------------------------------------------------------------\n",
      "Searching record 1 of set 9  | barawe\n",
      "******************************\n",
      "Sorry couldn't find barawe\n",
      "******************************\n",
      "Searching record 2 of set 9  | bonthe\n",
      "Searching record 3 of set 9  | amderma\n",
      "******************************\n",
      "Sorry couldn't find amderma\n",
      "******************************\n",
      "Searching record 4 of set 9  | quelimane\n",
      "Searching record 5 of set 9  | ugoofaaru\n",
      "Searching record 6 of set 9  | conceicao do araguaia\n",
      "Searching record 7 of set 9  | comodoro rivadavia\n",
      "Searching record 8 of set 9  | strezhevoy\n",
      "Searching record 9 of set 9  | purranque\n",
      "Searching record 10 of set 9  | saskylakh\n",
      "Searching record 11 of set 9  | samusu\n",
      "******************************\n",
      "Sorry couldn't find samusu\n",
      "******************************\n",
      "Searching record 12 of set 9  | hokitika\n",
      "Searching record 13 of set 9  | padang\n",
      "Searching record 14 of set 9  | bentiu\n",
      "Searching record 15 of set 9  | teguldet\n",
      "Searching record 16 of set 9  | tessalit\n",
      "Searching record 17 of set 9  | mega\n",
      "Searching record 18 of set 9  | saint-philippe\n",
      "Searching record 19 of set 9  | staraya poltavka\n",
      "Searching record 20 of set 9  | esperance\n",
      "Searching record 21 of set 9  | sahrak\n",
      "******************************\n",
      "Sorry couldn't find sahrak\n",
      "******************************\n",
      "Searching record 22 of set 9  | leningradskiy\n",
      "Searching record 23 of set 9  | thompson\n",
      "Searching record 24 of set 9  | santa rosa\n",
      "Searching record 25 of set 9  | nevel\n",
      "Searching record 26 of set 9  | komsomolskiy\n",
      "Searching record 27 of set 9  | nanortalik\n",
      "Searching record 28 of set 9  | cape town\n",
      "Searching record 29 of set 9  | ormara\n",
      "Searching record 30 of set 9  | belushya guba\n",
      "******************************\n",
      "Sorry couldn't find belushya guba\n",
      "******************************\n",
      "Searching record 31 of set 9  | albany\n",
      "Searching record 32 of set 9  | grand gaube\n",
      "Searching record 33 of set 9  | dhemaji\n",
      "Searching record 34 of set 9  | shelabolikha\n",
      "Searching record 35 of set 9  | margate\n",
      "Searching record 36 of set 9  | onega\n",
      "Searching record 37 of set 9  | guerrero negro\n",
      "Searching record 38 of set 9  | qidong\n",
      "Searching record 39 of set 9  | zaoyang\n",
      "Searching record 40 of set 9  | carballo\n",
      "Searching record 41 of set 9  | cherskiy\n",
      "Searching record 42 of set 9  | mahon\n",
      "Searching record 43 of set 9  | illoqqortoormiut\n",
      "******************************\n",
      "Sorry couldn't find illoqqortoormiut\n",
      "******************************\n",
      "Searching record 44 of set 9  | santo tomas\n",
      "Searching record 45 of set 9  | longyearbyen\n",
      "Searching record 46 of set 9  | yulara\n",
      "Searching record 47 of set 9  | sawtell\n",
      "Searching record 48 of set 9  | sarangani\n",
      "Searching record 49 of set 9  | yerbogachen\n",
      "Searching record 50 of set 9  | goundam\n",
      "---------------------------------------------------------------------------\n",
      "Counter has reached 50, program will pause for 1 second before resuming\n",
      "---------------------------------------------------------------------------\n",
      "Searching record 1 of set 10  | north charleston\n",
      "Searching record 2 of set 10  | mataura\n",
      "Searching record 3 of set 10  | ponta do sol\n",
      "Searching record 4 of set 10  | plastun\n",
      "Searching record 5 of set 10  | port moresby\n"
     ]
    },
    {
     "name": "stdout",
     "output_type": "stream",
     "text": [
      "Searching record 6 of set 10  | zapolyarnyy\n",
      "Searching record 7 of set 10  | clyde river\n",
      "Searching record 8 of set 10  | surt\n",
      "Searching record 9 of set 10  | ipixuna\n",
      "Searching record 10 of set 10  | avera\n",
      "Searching record 11 of set 10  | sakaraha\n",
      "Searching record 12 of set 10  | port augusta\n",
      "Searching record 13 of set 10  | carutapera\n",
      "Searching record 14 of set 10  | xanlar\n",
      "Searching record 15 of set 10  | saint george\n",
      "Searching record 16 of set 10  | kapuskasing\n",
      "Searching record 17 of set 10  | zamora\n",
      "Searching record 18 of set 10  | darhan\n",
      "Searching record 19 of set 10  | wanning\n",
      "Searching record 20 of set 10  | dzhebariki-khaya\n",
      "Searching record 21 of set 10  | cayenne\n",
      "Searching record 22 of set 10  | boffa\n",
      "Searching record 23 of set 10  | cabo san lucas\n",
      "Searching record 24 of set 10  | san andres\n",
      "Searching record 25 of set 10  | etchojoa\n",
      "Searching record 26 of set 10  | kharabali\n",
      "Searching record 27 of set 10  | luanda\n",
      "Searching record 28 of set 10  | bratsk\n",
      "Searching record 29 of set 10  | pisco\n",
      "Searching record 30 of set 10  | kinablangan\n",
      "Searching record 31 of set 10  | watsa\n",
      "Searching record 32 of set 10  | biak\n",
      "Searching record 33 of set 10  | yarega\n",
      "Searching record 34 of set 10  | kununurra\n",
      "Searching record 35 of set 10  | gonaives\n",
      "Searching record 36 of set 10  | yeppoon\n",
      "Searching record 37 of set 10  | kindu\n",
      "Searching record 38 of set 10  | avarua\n",
      "Searching record 39 of set 10  | san rafael\n",
      "Searching record 40 of set 10  | severo-kurilsk\n",
      "Searching record 41 of set 10  | husavik\n",
      "Searching record 42 of set 10  | kaman\n",
      "Searching record 43 of set 10  | rawson\n",
      "Searching record 44 of set 10  | palmas\n",
      "Searching record 45 of set 10  | isangel\n",
      "Searching record 46 of set 10  | hobart\n",
      "Searching record 47 of set 10  | san juan\n",
      "Searching record 48 of set 10  | maarianhamina\n",
      "Searching record 49 of set 10  | tual\n",
      "Searching record 50 of set 10  | severodvinsk\n",
      "---------------------------------------------------------------------------\n",
      "Counter has reached 50, program will pause for 1 second before resuming\n",
      "---------------------------------------------------------------------------\n",
      "Searching record 1 of set 11  | linapacan\n",
      "******************************\n",
      "Sorry couldn't find linapacan\n",
      "******************************\n",
      "Searching record 2 of set 11  | santana\n",
      "Searching record 3 of set 11  | cidreira\n",
      "Searching record 4 of set 11  | mys shmidta\n",
      "******************************\n",
      "Sorry couldn't find mys shmidta\n",
      "******************************\n",
      "Searching record 5 of set 11  | moranbah\n",
      "Searching record 6 of set 11  | bilibino\n",
      "Searching record 7 of set 11  | tazovskiy\n",
      "Searching record 8 of set 11  | kodinsk\n",
      "Searching record 9 of set 11  | ituni\n",
      "******************************\n",
      "Sorry couldn't find ituni\n",
      "******************************\n",
      "Searching record 10 of set 11  | svetlyy\n",
      "Searching record 11 of set 11  | salzwedel\n",
      "Searching record 12 of set 11  | flinders\n",
      "Searching record 13 of set 11  | sedalia\n",
      "Searching record 14 of set 11  | rikitea\n",
      "Searching record 15 of set 11  | butembo\n",
      "Searching record 16 of set 11  | boa vista\n",
      "Searching record 17 of set 11  | weinan\n",
      "Searching record 18 of set 11  | rincon\n",
      "Searching record 19 of set 11  | zhaotong\n",
      "Searching record 20 of set 11  | tunduma\n",
      "Searching record 21 of set 11  | lolua\n",
      "******************************\n",
      "Sorry couldn't find lolua\n",
      "******************************\n",
      "Searching record 22 of set 11  | roald\n",
      "Searching record 23 of set 11  | gao\n",
      "Searching record 24 of set 11  | sao joao da barra\n",
      "Searching record 25 of set 11  | college\n",
      "Searching record 26 of set 11  | saint-georges\n",
      "Searching record 27 of set 11  | bar harbor\n",
      "Searching record 28 of set 11  | taolanaro\n",
      "******************************\n",
      "Sorry couldn't find taolanaro\n",
      "******************************\n",
      "Searching record 29 of set 11  | mullaitivu\n",
      "******************************\n",
      "Sorry couldn't find mullaitivu\n",
      "******************************\n",
      "Searching record 30 of set 11  | tigzirt\n",
      "Searching record 31 of set 11  | kamenskoye\n",
      "******************************\n",
      "Sorry couldn't find kamenskoye\n",
      "******************************\n",
      "Searching record 32 of set 11  | oranjestad\n",
      "Searching record 33 of set 11  | barrow\n",
      "Searching record 34 of set 11  | half moon bay\n",
      "Searching record 35 of set 11  | porto novo\n",
      "Searching record 36 of set 11  | yerofey pavlovich\n",
      "Searching record 37 of set 11  | porto walter\n",
      "Searching record 38 of set 11  | kavali\n",
      "Searching record 39 of set 11  | susanville\n",
      "Searching record 40 of set 11  | lebedyn\n",
      "Searching record 41 of set 11  | biltine\n",
      "Searching record 42 of set 11  | bagdarin\n",
      "Searching record 43 of set 11  | dukat\n",
      "Searching record 44 of set 11  | eirunepe\n",
      "Searching record 45 of set 11  | bathsheba\n",
      "Searching record 46 of set 11  | zhuhai\n",
      "Searching record 47 of set 11  | amarante do maranhao\n",
      "Searching record 48 of set 11  | yenagoa\n",
      "Searching record 49 of set 11  | nizhneyansk\n",
      "******************************\n",
      "Sorry couldn't find nizhneyansk\n",
      "******************************\n",
      "Searching record 50 of set 11  | gornyye klyuchi\n",
      "---------------------------------------------------------------------------\n",
      "Counter has reached 50, program will pause for 1 second before resuming\n",
      "---------------------------------------------------------------------------\n",
      "Searching record 1 of set 12  | bacolod\n",
      "Searching record 2 of set 12  | manuk mangkaw\n",
      "Searching record 3 of set 12  | yantal\n",
      "Searching record 4 of set 12  | natal\n",
      "Searching record 5 of set 12  | inyonga\n",
      "Searching record 6 of set 12  | palasa\n",
      "Searching record 7 of set 12  | aksarka\n",
      "Searching record 8 of set 12  | bobbili\n",
      "Searching record 9 of set 12  | coahuayana\n",
      "Searching record 10 of set 12  | huanuni\n",
      "Searching record 11 of set 12  | atherton\n",
      "Searching record 12 of set 12  | nome\n",
      "Searching record 13 of set 12  | kupang\n",
      "Searching record 14 of set 12  | pacific grove\n",
      "Searching record 15 of set 12  | narsaq\n",
      "Searching record 16 of set 12  | taltal\n",
      "Searching record 17 of set 12  | champerico\n",
      "Searching record 18 of set 12  | pemangkat\n",
      "Searching record 19 of set 12  | barentsburg\n",
      "******************************\n",
      "Sorry couldn't find barentsburg\n",
      "******************************\n",
      "Searching record 20 of set 12  | karpogory\n",
      "Searching record 21 of set 12  | shangrao\n",
      "Searching record 22 of set 12  | hami\n",
      "Searching record 23 of set 12  | warri\n",
      "Searching record 24 of set 12  | airai\n",
      "Searching record 25 of set 12  | vila velha\n",
      "Searching record 26 of set 12  | shenzhen\n",
      "Searching record 27 of set 12  | kitimat\n",
      "Searching record 28 of set 12  | sampit\n",
      "Searching record 29 of set 12  | sofiyivka\n",
      "Searching record 30 of set 12  | pimentel\n",
      "Searching record 31 of set 12  | palanga\n",
      "Searching record 32 of set 12  | mount isa\n",
      "Searching record 33 of set 12  | geresk\n",
      "******************************\n",
      "Sorry couldn't find geresk\n",
      "******************************\n",
      "Searching record 34 of set 12  | saint anthony\n",
      "Searching record 35 of set 12  | poronaysk\n",
      "Searching record 36 of set 12  | marilandia\n",
      "Searching record 37 of set 12  | ati\n",
      "Searching record 38 of set 12  | ahipara\n",
      "Searching record 39 of set 12  | acajutla\n",
      "Searching record 40 of set 12  | yurga\n",
      "Searching record 41 of set 12  | ambilobe\n",
      "Searching record 42 of set 12  | gat\n",
      "Searching record 43 of set 12  | mombetsu\n",
      "Searching record 44 of set 12  | zhuanghe\n",
      "Searching record 45 of set 12  | khatanga\n",
      "Searching record 46 of set 12  | tiksi\n",
      "Searching record 47 of set 12  | antalaha\n",
      "Searching record 48 of set 12  | necochea\n",
      "Searching record 49 of set 12  | green river\n",
      "Searching record 50 of set 12  | lebu\n",
      "---------------------------------------------------------------------------\n",
      "Counter has reached 50, program will pause for 1 second before resuming\n",
      "---------------------------------------------------------------------------\n",
      "\n",
      "==============================\n",
      "Data Retrieval Complete\n",
      "==============================\n"
     ]
    }
   ],
   "source": [
    "counter=0\n",
    "record=1\n",
    "sets=1\n",
    "print(\"=\"*30)\n",
    "print(\"Begining Data Retrieval\")\n",
    "print(\"=\"*30)\n",
    "print()\n",
    "\n",
    "for index,row in cities.iterrows():\n",
    "    print(\"Searching record {} of set {}  | {}\".format(record,sets,row['Cities']))\n",
    "    url='http://api.openweathermap.org/data/2.5/weather?'\n",
    "    q=row['Cities']\n",
    "    params={'q':q, 'appid': weather_api_key,'units':'Imperial'}\n",
    "    response=requests.get(url,params=params).json()\n",
    "    try:\n",
    "        cities.loc[index,'Country']=response['sys']['country']\n",
    "        cities.loc[index,'Latitude'] = response['coord']['lat']\n",
    "        cities.loc[index,'Longitude'] = response['coord']['lon']\n",
    "        cities.loc[index,'Cloudiness'] = response['clouds']['all']\n",
    "        cities.loc[index,'Date'] = response['dt']\n",
    "        cities.loc[index,'Humidity'] = response['main']['humidity']  \n",
    "        cities.loc[index,'Max_Temp'] = response['main']['temp_max']\n",
    "        cities.loc[index,'Wind Speed'] = response['wind']['speed']\n",
    "    except KeyError:\n",
    "        print(\"*\"*30)\n",
    "        print(\"Sorry couldn't find {}\".format(row['Cities']))\n",
    "        print(\"*\"*30)\n",
    "        \n",
    "            \n",
    "    record+=1\n",
    "    if record ==51:\n",
    "        print(\"-\"*75)\n",
    "        print(\"Counter has reached 50, program will pause for 1 second before resuming\")\n",
    "        print(\"-\"*75)\n",
    "        record=1\n",
    "        sets+=1 \n",
    "        time.sleep(1)\n",
    "\n",
    "print()\n",
    "print(\"=\"*30)\n",
    "print(\"Data Retrieval Complete\")\n",
    "print(\"=\"*30)"
   ]
  },
  {
   "cell_type": "code",
   "execution_count": 16,
   "metadata": {},
   "outputs": [
    {
     "data": {
      "text/plain": [
       "(600, 9)"
      ]
     },
     "execution_count": 16,
     "metadata": {},
     "output_type": "execute_result"
    }
   ],
   "source": [
    "cities.shape"
   ]
  },
  {
   "cell_type": "code",
   "execution_count": 17,
   "metadata": {},
   "outputs": [],
   "source": [
    "df_cities=(cities[cities['Latitude']!=0])"
   ]
  },
  {
   "cell_type": "code",
   "execution_count": 18,
   "metadata": {},
   "outputs": [
    {
     "data": {
      "text/html": [
       "<div>\n",
       "<style scoped>\n",
       "    .dataframe tbody tr th:only-of-type {\n",
       "        vertical-align: middle;\n",
       "    }\n",
       "\n",
       "    .dataframe tbody tr th {\n",
       "        vertical-align: top;\n",
       "    }\n",
       "\n",
       "    .dataframe thead th {\n",
       "        text-align: right;\n",
       "    }\n",
       "</style>\n",
       "<table border=\"1\" class=\"dataframe\">\n",
       "  <thead>\n",
       "    <tr style=\"text-align: right;\">\n",
       "      <th></th>\n",
       "      <th>Cities</th>\n",
       "      <th>Country</th>\n",
       "      <th>Latitude</th>\n",
       "      <th>Longitude</th>\n",
       "      <th>Cloudiness</th>\n",
       "      <th>Date</th>\n",
       "      <th>Humidity</th>\n",
       "      <th>Max_Temp</th>\n",
       "      <th>Wind Speed</th>\n",
       "    </tr>\n",
       "  </thead>\n",
       "  <tbody>\n",
       "    <tr>\n",
       "      <th>0</th>\n",
       "      <td>takoradi</td>\n",
       "      <td>GH</td>\n",
       "      <td>4.88</td>\n",
       "      <td>-1.76</td>\n",
       "      <td>89</td>\n",
       "      <td>1600045628</td>\n",
       "      <td>92</td>\n",
       "      <td>75.69</td>\n",
       "      <td>7.23</td>\n",
       "    </tr>\n",
       "    <tr>\n",
       "      <th>1</th>\n",
       "      <td>ulladulla</td>\n",
       "      <td>AU</td>\n",
       "      <td>-35.35</td>\n",
       "      <td>150.47</td>\n",
       "      <td>40</td>\n",
       "      <td>1600045629</td>\n",
       "      <td>55</td>\n",
       "      <td>66.20</td>\n",
       "      <td>8.05</td>\n",
       "    </tr>\n",
       "    <tr>\n",
       "      <th>2</th>\n",
       "      <td>caravelas</td>\n",
       "      <td>BR</td>\n",
       "      <td>-17.71</td>\n",
       "      <td>-39.25</td>\n",
       "      <td>0</td>\n",
       "      <td>1600045629</td>\n",
       "      <td>84</td>\n",
       "      <td>72.37</td>\n",
       "      <td>8.95</td>\n",
       "    </tr>\n",
       "    <tr>\n",
       "      <th>4</th>\n",
       "      <td>kaitangata</td>\n",
       "      <td>NZ</td>\n",
       "      <td>-46.28</td>\n",
       "      <td>169.85</td>\n",
       "      <td>64</td>\n",
       "      <td>1600045261</td>\n",
       "      <td>59</td>\n",
       "      <td>62.01</td>\n",
       "      <td>5.99</td>\n",
       "    </tr>\n",
       "    <tr>\n",
       "      <th>5</th>\n",
       "      <td>cairo</td>\n",
       "      <td>EG</td>\n",
       "      <td>30.06</td>\n",
       "      <td>31.25</td>\n",
       "      <td>6</td>\n",
       "      <td>1600045519</td>\n",
       "      <td>78</td>\n",
       "      <td>78.80</td>\n",
       "      <td>9.17</td>\n",
       "    </tr>\n",
       "  </tbody>\n",
       "</table>\n",
       "</div>"
      ],
      "text/plain": [
       "       Cities Country  Latitude  Longitude  Cloudiness        Date  Humidity  \\\n",
       "0    takoradi      GH      4.88      -1.76          89  1600045628        92   \n",
       "1   ulladulla      AU    -35.35     150.47          40  1600045629        55   \n",
       "2   caravelas      BR    -17.71     -39.25           0  1600045629        84   \n",
       "4  kaitangata      NZ    -46.28     169.85          64  1600045261        59   \n",
       "5       cairo      EG     30.06      31.25           6  1600045519        78   \n",
       "\n",
       "   Max_Temp  Wind Speed  \n",
       "0     75.69        7.23  \n",
       "1     66.20        8.05  \n",
       "2     72.37        8.95  \n",
       "4     62.01        5.99  \n",
       "5     78.80        9.17  "
      ]
     },
     "execution_count": 18,
     "metadata": {},
     "output_type": "execute_result"
    }
   ],
   "source": [
    "df_cities.head()"
   ]
  },
  {
   "cell_type": "code",
   "execution_count": 19,
   "metadata": {},
   "outputs": [
    {
     "data": {
      "text/plain": [
       "(548, 9)"
      ]
     },
     "execution_count": 19,
     "metadata": {},
     "output_type": "execute_result"
    }
   ],
   "source": [
    "df_cities.shape"
   ]
  },
  {
   "cell_type": "code",
   "execution_count": 20,
   "metadata": {},
   "outputs": [],
   "source": [
    "output_file=os.path.join('cities_df.csv')\n",
    "df_cities.to_csv(output_file,index=False,header=True)"
   ]
  },
  {
   "cell_type": "code",
   "execution_count": 21,
   "metadata": {},
   "outputs": [],
   "source": [
    "#Creating Variables for Scatter Plots\n",
    "lat=df_cities['Latitude']\n",
    "humidity=df_cities['Humidity']\n",
    "cloudiness=df_cities['Cloudiness']\n",
    "wind_speed=df_cities['Wind Speed']\n",
    "temp=df_cities['Max_Temp']"
   ]
  },
  {
   "cell_type": "markdown",
   "metadata": {},
   "source": [
    "### LATITUDE VS TEMPERATURE"
   ]
  },
  {
   "cell_type": "code",
   "execution_count": 22,
   "metadata": {},
   "outputs": [
    {
     "data": {
      "image/png": "[encoded data removed]",
      "text/plain": [
       "<Figure size 432x288 with 1 Axes>"
      ]
     },
     "metadata": {
      "needs_background": "light"
     },
     "output_type": "display_data"
    }
   ],
   "source": [
    "f1=plt.scatter(lat,temp)\n",
    "plt.ylabel('Max TEMPERATURE (F)')\n",
    "plt.xlabel('LATITUDE')\n",
    "plt.ylim(30,110)\n",
    "plt.title('Latitude vs Temperature Plot')\n",
    "corr=sts.pearsonr(temp,lat);\n",
    "corr\n",
    "\n",
    "plt.savefig('LatvsTemp')"
   ]
  },
  {
   "cell_type": "markdown",
   "metadata": {},
   "source": [
    "### We can see that temperature rises as we move towards the equator and goes down as we move away"
   ]
  },
  {
   "cell_type": "markdown",
   "metadata": {},
   "source": [
    "### LATITUDE VS HUMIDITY"
   ]
  },
  {
   "cell_type": "code",
   "execution_count": 23,
   "metadata": {},
   "outputs": [
    {
     "data": {
      "image/png": "[encoded data removed]",
      "text/plain": [
       "<Figure size 432x288 with 1 Axes>"
      ]
     },
     "metadata": {
      "needs_background": "light"
     },
     "output_type": "display_data"
    }
   ],
   "source": [
    "plt.scatter(lat,humidity)\n",
    "plt.ylabel('HUMIDITY (%)')\n",
    "plt.xlabel('LATITUDE')\n",
    "plt.title('LATITUDE vs HUMIDITY Plot')\n",
    "corr=sts.pearsonr(humidity,lat);\n",
    "corr\n",
    "plt.savefig('LatvsHum')"
   ]
  },
  {
   "cell_type": "markdown",
   "metadata": {},
   "source": [
    "### Since p-value <<< , results are statistically significant, therfore it is difficult to determine relationship between latitude and humidity"
   ]
  },
  {
   "cell_type": "markdown",
   "metadata": {},
   "source": [
    "### LATITUDE VS CLOUDINESS"
   ]
  },
  {
   "cell_type": "code",
   "execution_count": 24,
   "metadata": {},
   "outputs": [
    {
     "data": {
      "image/png": "[encoded data removed]",
      "text/plain": [
       "<Figure size 432x288 with 1 Axes>"
      ]
     },
     "metadata": {
      "needs_background": "light"
     },
     "output_type": "display_data"
    }
   ],
   "source": [
    "plt.scatter(lat,cloudiness)\n",
    "plt.ylabel('CLOUDINESS (%)')\n",
    "plt.xlabel('LATITUDE')\n",
    "plt.title('LATTITUDE vs CLOUDINESS Plot')\n",
    "corr=sts.pearsonr(cloudiness,lat);\n",
    "corr\n",
    "plt.savefig('LatvsCloud')"
   ]
  },
  {
   "cell_type": "markdown",
   "metadata": {},
   "source": [
    "### Cloudiness is evenly spread and symmetrical in patterns in the northen and southern hemisphere"
   ]
  },
  {
   "cell_type": "markdown",
   "metadata": {},
   "source": [
    "### LATITUDE VS WIND SPEED"
   ]
  },
  {
   "cell_type": "code",
   "execution_count": 25,
   "metadata": {},
   "outputs": [
    {
     "data": {
      "image/png": "[encoded data removed]",
      "text/plain": [
       "<Figure size 432x288 with 1 Axes>"
      ]
     },
     "metadata": {
      "needs_background": "light"
     },
     "output_type": "display_data"
    }
   ],
   "source": [
    "plt.scatter(lat,wind_speed)\n",
    "plt.xlabel('LATITUDE')\n",
    "plt.ylabel('WIND SPEED (MPH)')\n",
    "plt.title('LATITUDE vs WIND SPEED')\n",
    "corr=sts.pearsonr(wind_speed,lat);\n",
    "corr\n",
    "plt.savefig('LatvsWind')"
   ]
  },
  {
   "cell_type": "markdown",
   "metadata": {},
   "source": [
    "###  Above code is analyzing wind speed across the northen and southern hemisphere"
   ]
  },
  {
   "cell_type": "code",
   "execution_count": 26,
   "metadata": {},
   "outputs": [],
   "source": [
    "#Separating NORTHEN AND SOUTHERN HEMISPHERES\n",
    "df_south=df_cities[df_cities['Latitude'] < 0]\n",
    "df_north=df_cities[df_cities['Latitude'] >= 0]"
   ]
  },
  {
   "cell_type": "code",
   "execution_count": 27,
   "metadata": {},
   "outputs": [],
   "source": [
    "#Generating variables for latitdues\n",
    "lat_s=df_south['Latitude']\n",
    "lat_n=df_north['Latitude']"
   ]
  },
  {
   "cell_type": "code",
   "execution_count": 28,
   "metadata": {},
   "outputs": [],
   "source": [
    "#Generating variables for required entities for regression\n",
    "temp_n=df_north['Max_Temp']\n",
    "temp_s=df_south['Max_Temp']\n",
    "hum_n=df_north['Humidity']\n",
    "hum_s=df_south['Humidity']\n",
    "cloud_n=df_north['Cloudiness']\n",
    "cloud_s=df_south['Cloudiness']\n",
    "wind_n=df_north['Wind Speed']\n",
    "wind_s=df_south['Wind Speed']"
   ]
  },
  {
   "cell_type": "markdown",
   "metadata": {},
   "source": [
    "### Regression Analysis"
   ]
  },
  {
   "cell_type": "markdown",
   "metadata": {},
   "source": [
    "### Latitude (N) vs Max Temp"
   ]
  },
  {
   "cell_type": "code",
   "execution_count": 29,
   "metadata": {},
   "outputs": [
    {
     "data": {
      "text/plain": [
       "'y = -0.6x + 88.47'"
      ]
     },
     "execution_count": 29,
     "metadata": {},
     "output_type": "execute_result"
    }
   ],
   "source": [
    "(slope,intercept,rvalue,pvalue,stderr)=linregress(lat_n.astype(float),temp_n.astype(float))\n",
    "\n",
    "regress_values = lat_n*slope +intercept\n",
    "\n",
    "line_eq= \"y = \" + str(round(slope,2)) + \"x + \"+ str(round(intercept,2))\n",
    "\n",
    "line_eq"
   ]
  },
  {
   "cell_type": "code",
   "execution_count": 30,
   "metadata": {},
   "outputs": [
    {
     "data": {
      "text/plain": [
       "Text(0, 0.5, 'Max Temp (F)')"
      ]
     },
     "execution_count": 30,
     "metadata": {},
     "output_type": "execute_result"
    },
    {
     "data": {
      "image/png": "[encoded data removed]",
      "text/plain": [
       "<Figure size 432x288 with 1 Axes>"
      ]
     },
     "metadata": {
      "needs_background": "light"
     },
     "output_type": "display_data"
    }
   ],
   "source": [
    "plt.scatter(lat_n,temp_n)\n",
    "plt.plot(lat_n,regress_values,\"red\")\n",
    "plt.annotate(line_eq,(7,42),color=\"green\",fontsize=15)\n",
    "plt.annotate(f\"R2 = {round(rvalue**2,3)}\",(7,35),fontsize=14,color=\"black\")\n",
    "plt.xlabel('Latitude')\n",
    "plt.ylabel('Max Temp (F)')"
   ]
  },
  {
   "cell_type": "markdown",
   "metadata": {},
   "source": [
    "### Temperature drops as we move away from the equator"
   ]
  },
  {
   "cell_type": "markdown",
   "metadata": {},
   "source": [
    "### Latitude (S) vs Max Temp"
   ]
  },
  {
   "cell_type": "code",
   "execution_count": 31,
   "metadata": {},
   "outputs": [
    {
     "data": {
      "text/plain": [
       "'y = 0.61x + 81.12'"
      ]
     },
     "execution_count": 31,
     "metadata": {},
     "output_type": "execute_result"
    }
   ],
   "source": [
    "(slope,intercept,rvalue,pvalue,stderr)=linregress(lat_s.astype(float),temp_s.astype(float))\n",
    "\n",
    "regress_values = lat_s*slope +intercept\n",
    "\n",
    "line_eq= \"y = \" + str(round(slope,2)) + \"x + \"+ str(round(intercept,2))\n",
    "\n",
    "line_eq"
   ]
  },
  {
   "cell_type": "code",
   "execution_count": 32,
   "metadata": {},
   "outputs": [
    {
     "data": {
      "text/plain": [
       "0.7284874713063876"
      ]
     },
     "execution_count": 32,
     "metadata": {},
     "output_type": "execute_result"
    }
   ],
   "source": [
    "rvalue"
   ]
  },
  {
   "cell_type": "code",
   "execution_count": 33,
   "metadata": {},
   "outputs": [
    {
     "data": {
      "text/plain": [
       "Text(0, 0.5, 'Max Temp (F)')"
      ]
     },
     "execution_count": 33,
     "metadata": {},
     "output_type": "execute_result"
    },
    {
     "data": {
      "image/png": "[encoded data removed]",
      "text/plain": [
       "<Figure size 432x288 with 1 Axes>"
      ]
     },
     "metadata": {
      "needs_background": "light"
     },
     "output_type": "display_data"
    }
   ],
   "source": [
    "plt.scatter(lat_s,temp_s)\n",
    "plt.plot(lat_s,regress_values,\"red\")\n",
    "plt.annotate(line_eq,(-25,52),color=\"green\",fontsize=15)\n",
    "plt.annotate(f\"R2 = {round(rvalue**2,3)}\",(-25,45),fontsize=14,color=\"black\")\n",
    "plt.xlabel('Latitude')\n",
    "plt.ylabel('Max Temp (F)')"
   ]
  },
  {
   "cell_type": "markdown",
   "metadata": {},
   "source": [
    "### Temperature rises as we move towards the equator"
   ]
  },
  {
   "cell_type": "markdown",
   "metadata": {},
   "source": [
    "### Latitude (N) vs Humidity"
   ]
  },
  {
   "cell_type": "code",
   "execution_count": 34,
   "metadata": {},
   "outputs": [
    {
     "data": {
      "text/plain": [
       "'y = -0.02x + 75.41'"
      ]
     },
     "execution_count": 34,
     "metadata": {},
     "output_type": "execute_result"
    }
   ],
   "source": [
    "(slope,intercept,rvalue,pvalue,stderr)=linregress(lat_n.astype(float),hum_n.astype(float))\n",
    "\n",
    "regress_values = lat_n*slope +intercept\n",
    "\n",
    "line_eq= \"y = \" + str(round(slope,2)) + \"x + \"+ str(round(intercept,2))\n",
    "\n",
    "line_eq"
   ]
  },
  {
   "cell_type": "code",
   "execution_count": 35,
   "metadata": {},
   "outputs": [
    {
     "data": {
      "text/plain": [
       "Text(0, 0.5, 'Humidity')"
      ]
     },
     "execution_count": 35,
     "metadata": {},
     "output_type": "execute_result"
    },
    {
     "data": {
      "image/png": "[encoded data removed]",
      "text/plain": [
       "<Figure size 432x288 with 1 Axes>"
      ]
     },
     "metadata": {
      "needs_background": "light"
     },
     "output_type": "display_data"
    }
   ],
   "source": [
    "plt.scatter(lat_n,hum_n)\n",
    "plt.plot(lat_n,regress_values,\"red\")\n",
    "plt.annotate(line_eq,(1,25),color=\"green\",fontsize=15)\n",
    "plt.annotate(f\"R2 = {round(rvalue**2,3)}\",(1,18),fontsize=14,color=\"black\")\n",
    "plt.xlabel('Latitude')\n",
    "plt.ylabel('Humidity')"
   ]
  },
  {
   "cell_type": "markdown",
   "metadata": {},
   "source": [
    "### Humidity very slightly rises or remains constant as we move away from the equator based on line equation"
   ]
  },
  {
   "cell_type": "markdown",
   "metadata": {},
   "source": [
    "### Latitude (S) vs Humidity"
   ]
  },
  {
   "cell_type": "code",
   "execution_count": 36,
   "metadata": {},
   "outputs": [
    {
     "data": {
      "text/plain": [
       "'y = 0.19x + 71.27'"
      ]
     },
     "execution_count": 36,
     "metadata": {},
     "output_type": "execute_result"
    }
   ],
   "source": [
    "(slope,intercept,rvalue,pvalue,stderr)=linregress(lat_s.astype(float),hum_s.astype(float))\n",
    "\n",
    "regress_values = lat_s*slope +intercept\n",
    "\n",
    "line_eq= \"y = \" + str(round(slope,2)) + \"x + \"+ str(round(intercept,2))\n",
    "\n",
    "line_eq"
   ]
  },
  {
   "cell_type": "code",
   "execution_count": 46,
   "metadata": {},
   "outputs": [
    {
     "data": {
      "text/plain": [
       "Text(0, 0.5, 'Humidity')"
      ]
     },
     "execution_count": 46,
     "metadata": {},
     "output_type": "execute_result"
    },
    {
     "data": {
      "image/png": "[encoded data removed]",
      "text/plain": [
       "<Figure size 432x288 with 1 Axes>"
      ]
     },
     "metadata": {
      "needs_background": "light"
     },
     "output_type": "display_data"
    }
   ],
   "source": [
    "plt.scatter(lat_s,hum_s)\n",
    "plt.plot(lat_s,regress_values,\"red\")\n",
    "plt.annotate(line_eq,(-55,25),color=\"green\",fontsize=15)\n",
    "plt.annotate(f\"R2 = {round(rvalue**2,3)}\",(-55,20),fontsize=14,color=\"black\")\n",
    "plt.xlabel('Latitude')\n",
    "plt.ylabel('Humidity')"
   ]
  },
  {
   "cell_type": "markdown",
   "metadata": {},
   "source": [
    "### Humidty reduces based on line equaiton as we move towards equator"
   ]
  },
  {
   "cell_type": "markdown",
   "metadata": {},
   "source": [
    "### Latitude(N) vs Cloudiness"
   ]
  },
  {
   "cell_type": "code",
   "execution_count": 38,
   "metadata": {},
   "outputs": [
    {
     "data": {
      "text/plain": [
       "'y = -0.0x + 58.08'"
      ]
     },
     "execution_count": 38,
     "metadata": {},
     "output_type": "execute_result"
    }
   ],
   "source": [
    "(slope,intercept,rvalue,pvalue,stderr)=linregress(lat_n.astype(float),cloud_n.astype(float))\n",
    "\n",
    "regress_values = lat_n*slope +intercept\n",
    "\n",
    "line_eq= \"y = \" + str(round(slope,2)) + \"x + \"+ str(round(intercept,2))\n",
    "\n",
    "line_eq"
   ]
  },
  {
   "cell_type": "code",
   "execution_count": 39,
   "metadata": {},
   "outputs": [
    {
     "data": {
      "text/plain": [
       "Text(0, 0.5, 'Cloudiness')"
      ]
     },
     "execution_count": 39,
     "metadata": {},
     "output_type": "execute_result"
    },
    {
     "data": {
      "image/png": "[encoded data removed]",
      "text/plain": [
       "<Figure size 432x288 with 1 Axes>"
      ]
     },
     "metadata": {
      "needs_background": "light"
     },
     "output_type": "display_data"
    }
   ],
   "source": [
    "plt.scatter(lat_n,cloud_n)\n",
    "plt.plot(lat_n,regress_values,\"red\")\n",
    "plt.annotate(line_eq,(20,63),color=\"green\",fontsize=15)\n",
    "plt.annotate(f\"R2 = {round(rvalue**2,3)}\",(20,59),fontsize=14,color=\"black\")\n",
    "plt.xlabel('Latitude')\n",
    "plt.ylabel('Cloudiness')"
   ]
  },
  {
   "cell_type": "markdown",
   "metadata": {},
   "source": [
    "### Cloudiness more or less remains constant, latitude has very little affect on it in the northen hemisphere"
   ]
  },
  {
   "cell_type": "markdown",
   "metadata": {},
   "source": [
    "### Latitude (S) vs Cloudiness"
   ]
  },
  {
   "cell_type": "code",
   "execution_count": 40,
   "metadata": {},
   "outputs": [
    {
     "data": {
      "text/plain": [
       "'y = 0.1x + 38.02'"
      ]
     },
     "execution_count": 40,
     "metadata": {},
     "output_type": "execute_result"
    }
   ],
   "source": [
    "(slope,intercept,rvalue,pvalue,stderr)=linregress(lat_s.astype(float),cloud_s.astype(float))\n",
    "\n",
    "regress_values = lat_s*slope +intercept\n",
    "\n",
    "line_eq= \"y = \" + str(round(slope,2)) + \"x + \"+ str(round(intercept,2))\n",
    "\n",
    "line_eq"
   ]
  },
  {
   "cell_type": "code",
   "execution_count": 41,
   "metadata": {},
   "outputs": [
    {
     "data": {
      "text/plain": [
       "Text(0, 0.5, 'Cloudiness')"
      ]
     },
     "execution_count": 41,
     "metadata": {},
     "output_type": "execute_result"
    },
    {
     "data": {
      "image/png": "[encoded data removed]",
      "text/plain": [
       "<Figure size 432x288 with 1 Axes>"
      ]
     },
     "metadata": {
      "needs_background": "light"
     },
     "output_type": "display_data"
    }
   ],
   "source": [
    "plt.scatter(lat_s,cloud_s)\n",
    "plt.plot(lat_s,regress_values,\"red\")\n",
    "plt.annotate(line_eq,(-50,45),color=\"green\",fontsize=15)\n",
    "plt.annotate(f\"R2 = {round(rvalue**2,3)}\",(-50,38),fontsize=14,color=\"black\")\n",
    "plt.xlabel('Latitude')\n",
    "plt.ylabel('Cloudiness')"
   ]
  },
  {
   "cell_type": "markdown",
   "metadata": {},
   "source": [
    "### Cloudiness tends to rise as we move towrards equator from the Southern Hemisphere"
   ]
  },
  {
   "cell_type": "markdown",
   "metadata": {},
   "source": [
    "### Latitude (N) vs Wind Speed"
   ]
  },
  {
   "cell_type": "code",
   "execution_count": 42,
   "metadata": {},
   "outputs": [
    {
     "data": {
      "text/plain": [
       "'y = 0.03x + 6.16'"
      ]
     },
     "execution_count": 42,
     "metadata": {},
     "output_type": "execute_result"
    }
   ],
   "source": [
    "(slope,intercept,rvalue,pvalue,stderr)=linregress(lat_n.astype(float),wind_n.astype(float))\n",
    "\n",
    "regress_values = lat_n*slope +intercept\n",
    "\n",
    "line_eq= \"y = \" + str(round(slope,2)) + \"x + \"+ str(round(intercept,2))\n",
    "\n",
    "line_eq"
   ]
  },
  {
   "cell_type": "code",
   "execution_count": 43,
   "metadata": {},
   "outputs": [
    {
     "data": {
      "text/plain": [
       "Text(0, 0.5, 'Wind Speed mph')"
      ]
     },
     "execution_count": 43,
     "metadata": {},
     "output_type": "execute_result"
    },
    {
     "data": {
      "image/png": "[encoded data removed]",
      "text/plain": [
       "<Figure size 432x288 with 1 Axes>"
      ]
     },
     "metadata": {
      "needs_background": "light"
     },
     "output_type": "display_data"
    }
   ],
   "source": [
    "plt.scatter(lat_n,wind_n)\n",
    "plt.plot(lat_n,regress_values,\"red\")\n",
    "plt.annotate(line_eq,(30,26),color=\"green\",fontsize=15)\n",
    "plt.annotate(f\"R2 = {round(rvalue**2,3)}\",(30,24),fontsize=14,color=\"black\")\n",
    "plt.xlabel('Latitude')\n",
    "plt.ylabel('Wind Speed mph')"
   ]
  },
  {
   "cell_type": "markdown",
   "metadata": {},
   "source": [
    "### As per the line eq- latitude hardly contributes to the wind speed in the northen hemisphere"
   ]
  },
  {
   "cell_type": "markdown",
   "metadata": {},
   "source": [
    "### Latitude (S) vs Wind Speed"
   ]
  },
  {
   "cell_type": "code",
   "execution_count": 44,
   "metadata": {},
   "outputs": [
    {
     "data": {
      "text/plain": [
       "'y = -0.08x + 6.97'"
      ]
     },
     "execution_count": 44,
     "metadata": {},
     "output_type": "execute_result"
    }
   ],
   "source": [
    "(slope,intercept,rvalue,pvalue,stderr)=linregress(lat_s.astype(float),wind_s.astype(float))\n",
    "\n",
    "regress_values = lat_s*slope +intercept\n",
    "\n",
    "line_eq= \"y = \" + str(round(slope,2)) + \"x + \"+ str(round(intercept,2))\n",
    "\n",
    "line_eq"
   ]
  },
  {
   "cell_type": "code",
   "execution_count": 45,
   "metadata": {},
   "outputs": [
    {
     "data": {
      "text/plain": [
       "Text(0, 0.5, 'Wind Speed mph')"
      ]
     },
     "execution_count": 45,
     "metadata": {},
     "output_type": "execute_result"
    },
    {
     "data": {
      "image/png": "[encoded data removed]",
      "text/plain": [
       "<Figure size 432x288 with 1 Axes>"
      ]
     },
     "metadata": {
      "needs_background": "light"
     },
     "output_type": "display_data"
    }
   ],
   "source": [
    "plt.scatter(lat_s,wind_s)\n",
    "plt.plot(lat_s,regress_values,\"red\")\n",
    "plt.annotate(line_eq,(-50,20),color=\"green\",fontsize=15)\n",
    "plt.annotate(f\"R2 = {round(rvalue**2,3)}\",(-50,16),fontsize=14,color=\"black\")\n",
    "plt.xlabel('Latitude')\n",
    "plt.ylabel('Wind Speed mph')"
   ]
  },
  {
   "cell_type": "markdown",
   "metadata": {},
   "source": [
    "### Wind speed is greater away from the equator in the southern hemisphere"
   ]
  },
  {
   "cell_type": "code",
   "execution_count": null,
   "metadata": {},
   "outputs": [],
   "source": []
  }
 ],
 "metadata": {
  "kernelspec": {
   "display_name": "Python 3",
   "language": "python",
   "name": "python3"
  },
  "language_info": {
   "codemirror_mode": {
    "name": "ipython",
    "version": 3
   },
   "file_extension": ".py",
   "mimetype": "text/x-python",
   "name": "python",
   "nbconvert_exporter": "python",
   "pygments_lexer": "ipython3",
   "version": "3.7.3"
  }
 },
 "nbformat": 4,
 "nbformat_minor": 2
}
