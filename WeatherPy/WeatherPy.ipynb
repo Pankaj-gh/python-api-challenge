{
 "cells": [
  {
   "cell_type": "code",
   "execution_count": 1,
   "metadata": {},
   "outputs": [],
   "source": [
    "from citipy import citipy\n",
    "import pandas as pd\n",
    "import numpy as np\n",
    "import matplotlib.pyplot as plt\n",
    "import requests\n",
    "from config import weather_api_key,g_key\n",
    "import scipy.stats as sts\n",
    "from scipy.stats import linregress\n",
    "import time\n",
    "import os"
   ]
  },
  {
   "cell_type": "code",
   "execution_count": 2,
   "metadata": {},
   "outputs": [],
   "source": [
    "lat=np.random.uniform(-90.00,90.00,10000)"
   ]
  },
  {
   "cell_type": "code",
   "execution_count": 3,
   "metadata": {},
   "outputs": [],
   "source": [
    "lon=np.random.uniform(-180,180.00,10000)"
   ]
  },
  {
   "cell_type": "code",
   "execution_count": 4,
   "metadata": {},
   "outputs": [],
   "source": [
    "coordinates=list(zip(lat,lon))"
   ]
  },
  {
   "cell_type": "code",
   "execution_count": 5,
   "metadata": {},
   "outputs": [],
   "source": [
    "cities=set()"
   ]
  },
  {
   "cell_type": "code",
   "execution_count": 6,
   "metadata": {},
   "outputs": [],
   "source": [
    "\n",
    "for nos in coordinates:\n",
    "    citi=citipy.nearest_city(nos[0],nos[1])\n",
    "    city=citi.city_name\n",
    "    cities.add(city)\n",
    "    if len(cities)==600:\n",
    "        break"
   ]
  },
  {
   "cell_type": "code",
   "execution_count": 7,
   "metadata": {},
   "outputs": [
    {
     "data": {
      "text/plain": [
       "600"
      ]
     },
     "execution_count": 7,
     "metadata": {},
     "output_type": "execute_result"
    }
   ],
   "source": [
    "len(cities)"
   ]
  },
  {
   "cell_type": "code",
   "execution_count": 8,
   "metadata": {},
   "outputs": [],
   "source": [
    "cities=list(cities)"
   ]
  },
  {
   "cell_type": "code",
   "execution_count": 9,
   "metadata": {},
   "outputs": [
    {
     "data": {
      "text/plain": [
       "list"
      ]
     },
     "execution_count": 9,
     "metadata": {},
     "output_type": "execute_result"
    }
   ],
   "source": [
    "type(cities)"
   ]
  },
  {
   "cell_type": "code",
   "execution_count": 10,
   "metadata": {},
   "outputs": [
    {
     "data": {
      "text/html": [
       "<div>\n",
       "<style scoped>\n",
       "    .dataframe tbody tr th:only-of-type {\n",
       "        vertical-align: middle;\n",
       "    }\n",
       "\n",
       "    .dataframe tbody tr th {\n",
       "        vertical-align: top;\n",
       "    }\n",
       "\n",
       "    .dataframe thead th {\n",
       "        text-align: right;\n",
       "    }\n",
       "</style>\n",
       "<table border=\"1\" class=\"dataframe\">\n",
       "  <thead>\n",
       "    <tr style=\"text-align: right;\">\n",
       "      <th></th>\n",
       "      <th>Cities</th>\n",
       "    </tr>\n",
       "  </thead>\n",
       "  <tbody>\n",
       "    <tr>\n",
       "      <th>0</th>\n",
       "      <td>esmeraldas</td>\n",
       "    </tr>\n",
       "    <tr>\n",
       "      <th>1</th>\n",
       "      <td>torbay</td>\n",
       "    </tr>\n",
       "    <tr>\n",
       "      <th>2</th>\n",
       "      <td>areosa</td>\n",
       "    </tr>\n",
       "    <tr>\n",
       "      <th>3</th>\n",
       "      <td>setermoen</td>\n",
       "    </tr>\n",
       "    <tr>\n",
       "      <th>4</th>\n",
       "      <td>port lincoln</td>\n",
       "    </tr>\n",
       "  </tbody>\n",
       "</table>\n",
       "</div>"
      ],
      "text/plain": [
       "         Cities\n",
       "0    esmeraldas\n",
       "1        torbay\n",
       "2        areosa\n",
       "3     setermoen\n",
       "4  port lincoln"
      ]
     },
     "execution_count": 10,
     "metadata": {},
     "output_type": "execute_result"
    }
   ],
   "source": [
    "cities=pd.DataFrame({'Cities':cities})\n",
    "cities.head()"
   ]
  },
  {
   "cell_type": "code",
   "execution_count": 11,
   "metadata": {},
   "outputs": [],
   "source": [
    "cities['Latitude']=0\n",
    "cities['Longitude']=0\n",
    "cities['Cloudiness']=0\n",
    "cities['Date']=\"\"\n",
    "cities['Humidity']=0\n",
    "cities['Max_Temp']=0\n",
    "cities['Wind Speed']=0"
   ]
  },
  {
   "cell_type": "code",
   "execution_count": 12,
   "metadata": {},
   "outputs": [
    {
     "data": {
      "text/html": [
       "<div>\n",
       "<style scoped>\n",
       "    .dataframe tbody tr th:only-of-type {\n",
       "        vertical-align: middle;\n",
       "    }\n",
       "\n",
       "    .dataframe tbody tr th {\n",
       "        vertical-align: top;\n",
       "    }\n",
       "\n",
       "    .dataframe thead th {\n",
       "        text-align: right;\n",
       "    }\n",
       "</style>\n",
       "<table border=\"1\" class=\"dataframe\">\n",
       "  <thead>\n",
       "    <tr style=\"text-align: right;\">\n",
       "      <th></th>\n",
       "      <th>Cities</th>\n",
       "      <th>Latitude</th>\n",
       "      <th>Longitude</th>\n",
       "      <th>Cloudiness</th>\n",
       "      <th>Date</th>\n",
       "      <th>Humidity</th>\n",
       "      <th>Max_Temp</th>\n",
       "      <th>Wind Speed</th>\n",
       "    </tr>\n",
       "  </thead>\n",
       "  <tbody>\n",
       "    <tr>\n",
       "      <th>0</th>\n",
       "      <td>esmeraldas</td>\n",
       "      <td>0</td>\n",
       "      <td>0</td>\n",
       "      <td>0</td>\n",
       "      <td></td>\n",
       "      <td>0</td>\n",
       "      <td>0</td>\n",
       "      <td>0</td>\n",
       "    </tr>\n",
       "    <tr>\n",
       "      <th>1</th>\n",
       "      <td>torbay</td>\n",
       "      <td>0</td>\n",
       "      <td>0</td>\n",
       "      <td>0</td>\n",
       "      <td></td>\n",
       "      <td>0</td>\n",
       "      <td>0</td>\n",
       "      <td>0</td>\n",
       "    </tr>\n",
       "    <tr>\n",
       "      <th>2</th>\n",
       "      <td>areosa</td>\n",
       "      <td>0</td>\n",
       "      <td>0</td>\n",
       "      <td>0</td>\n",
       "      <td></td>\n",
       "      <td>0</td>\n",
       "      <td>0</td>\n",
       "      <td>0</td>\n",
       "    </tr>\n",
       "    <tr>\n",
       "      <th>3</th>\n",
       "      <td>setermoen</td>\n",
       "      <td>0</td>\n",
       "      <td>0</td>\n",
       "      <td>0</td>\n",
       "      <td></td>\n",
       "      <td>0</td>\n",
       "      <td>0</td>\n",
       "      <td>0</td>\n",
       "    </tr>\n",
       "    <tr>\n",
       "      <th>4</th>\n",
       "      <td>port lincoln</td>\n",
       "      <td>0</td>\n",
       "      <td>0</td>\n",
       "      <td>0</td>\n",
       "      <td></td>\n",
       "      <td>0</td>\n",
       "      <td>0</td>\n",
       "      <td>0</td>\n",
       "    </tr>\n",
       "  </tbody>\n",
       "</table>\n",
       "</div>"
      ],
      "text/plain": [
       "         Cities  Latitude  Longitude  Cloudiness Date  Humidity  Max_Temp  \\\n",
       "0    esmeraldas         0          0           0              0         0   \n",
       "1        torbay         0          0           0              0         0   \n",
       "2        areosa         0          0           0              0         0   \n",
       "3     setermoen         0          0           0              0         0   \n",
       "4  port lincoln         0          0           0              0         0   \n",
       "\n",
       "   Wind Speed  \n",
       "0           0  \n",
       "1           0  \n",
       "2           0  \n",
       "3           0  \n",
       "4           0  "
      ]
     },
     "execution_count": 12,
     "metadata": {},
     "output_type": "execute_result"
    }
   ],
   "source": [
    "cities.head()"
   ]
  },
  {
   "cell_type": "code",
   "execution_count": 13,
   "metadata": {},
   "outputs": [],
   "source": [
    "# url='http://api.openweathermap.org/data/2.5/weather?'"
   ]
  },
  {
   "cell_type": "code",
   "execution_count": 14,
   "metadata": {},
   "outputs": [],
   "source": [
    "# lat=response['coord']['lat']\n",
    "# lon=response['coord']['lon']\n",
    "# cloudiness=response['clouds']['all']\n",
    "# date=response['dt']\n",
    "# humidity=response['main']['humidity']\n",
    "# max_temp=response['main']['temp_max']\n",
    "# wind=response['wind']['speed']\n"
   ]
  },
  {
   "cell_type": "code",
   "execution_count": 15,
   "metadata": {},
   "outputs": [
    {
     "name": "stdout",
     "output_type": "stream",
     "text": [
      "==============================\n",
      "Begining Data Retrieval\n",
      "==============================\n",
      "\n",
      "Searching record 1 of set 1  | esmeraldas\n",
      "Searching record 2 of set 1  | torbay\n",
      "Searching record 3 of set 1  | areosa\n",
      "Searching record 4 of set 1  | setermoen\n",
      "Searching record 5 of set 1  | port lincoln\n",
      "Searching record 6 of set 1  | alyangula\n",
      "Searching record 7 of set 1  | aswan\n",
      "Searching record 8 of set 1  | foz\n",
      "Searching record 9 of set 1  | pemba\n",
      "Searching record 10 of set 1  | noumea\n",
      "Searching record 11 of set 1  | dzhusaly\n",
      "******************************\n",
      "Sorry couldn't find dzhusaly\n",
      "******************************\n",
      "Searching record 12 of set 1  | pingzhuang\n",
      "Searching record 13 of set 1  | revelstoke\n",
      "Searching record 14 of set 1  | senanga\n",
      "Searching record 15 of set 1  | ramhormoz\n",
      "Searching record 16 of set 1  | mareeba\n",
      "Searching record 17 of set 1  | tabuk\n",
      "Searching record 18 of set 1  | the valley\n",
      "Searching record 19 of set 1  | nikolskoye\n",
      "Searching record 20 of set 1  | san vicente de chucuri\n",
      "Searching record 21 of set 1  | berezna\n",
      "Searching record 22 of set 1  | ilulissat\n",
      "Searching record 23 of set 1  | kavieng\n",
      "Searching record 24 of set 1  | iqaluit\n",
      "Searching record 25 of set 1  | la ronge\n",
      "Searching record 26 of set 1  | yumen\n",
      "Searching record 27 of set 1  | dhidhdhoo\n",
      "Searching record 28 of set 1  | san buenaventura\n",
      "Searching record 29 of set 1  | lucapa\n",
      "Searching record 30 of set 1  | atuona\n",
      "Searching record 31 of set 1  | coquimbo\n",
      "Searching record 32 of set 1  | tsihombe\n",
      "******************************\n",
      "Sorry couldn't find tsihombe\n",
      "******************************\n",
      "Searching record 33 of set 1  | san jeronimo\n",
      "Searching record 34 of set 1  | ucluelet\n",
      "Searching record 35 of set 1  | viligili\n",
      "******************************\n",
      "Sorry couldn't find viligili\n",
      "******************************\n",
      "Searching record 36 of set 1  | baruun-urt\n",
      "Searching record 37 of set 1  | east london\n",
      "Searching record 38 of set 1  | sines\n",
      "Searching record 39 of set 1  | kuche\n",
      "******************************\n",
      "Sorry couldn't find kuche\n",
      "******************************\n",
      "Searching record 40 of set 1  | zhob\n",
      "Searching record 41 of set 1  | marsaxlokk\n",
      "Searching record 42 of set 1  | norman wells\n",
      "Searching record 43 of set 1  | wattegama\n",
      "Searching record 44 of set 1  | lianyuan\n",
      "Searching record 45 of set 1  | oranjemund\n",
      "Searching record 46 of set 1  | zhigansk\n",
      "Searching record 47 of set 1  | berdigestyakh\n",
      "Searching record 48 of set 1  | talnakh\n",
      "Searching record 49 of set 1  | boden\n",
      "Searching record 50 of set 1  | hasaki\n",
      "---------------------------------------------------------------------------\n",
      "Counter has reached 50, program will pause for 1 second before resuming\n",
      "---------------------------------------------------------------------------\n",
      "Searching record 1 of set 2  | xunchang\n",
      "Searching record 2 of set 2  | yate\n",
      "Searching record 3 of set 2  | kyra\n",
      "Searching record 4 of set 2  | san-pedro\n",
      "Searching record 5 of set 2  | lagoa\n",
      "Searching record 6 of set 2  | sambava\n",
      "Searching record 7 of set 2  | jamestown\n",
      "Searching record 8 of set 2  | diamantino\n",
      "Searching record 9 of set 2  | roald\n",
      "Searching record 10 of set 2  | manggar\n",
      "Searching record 11 of set 2  | avarua\n",
      "Searching record 12 of set 2  | young\n",
      "Searching record 13 of set 2  | sarlat-la-caneda\n",
      "Searching record 14 of set 2  | guajara-mirim\n",
      "******************************\n",
      "Sorry couldn't find guajara-mirim\n",
      "******************************\n",
      "Searching record 15 of set 2  | mahanoro\n",
      "Searching record 16 of set 2  | muzhi\n",
      "Searching record 17 of set 2  | provideniya\n",
      "Searching record 18 of set 2  | ahipara\n",
      "Searching record 19 of set 2  | rungata\n",
      "******************************\n",
      "Sorry couldn't find rungata\n",
      "******************************\n",
      "Searching record 20 of set 2  | carbonia\n",
      "Searching record 21 of set 2  | mecca\n",
      "Searching record 22 of set 2  | khatanga\n",
      "Searching record 23 of set 2  | tuktoyaktuk\n",
      "Searching record 24 of set 2  | ponta delgada\n",
      "Searching record 25 of set 2  | yarmouth\n",
      "Searching record 26 of set 2  | sangar\n",
      "Searching record 27 of set 2  | assela\n",
      "******************************\n",
      "Sorry couldn't find assela\n",
      "******************************\n",
      "Searching record 28 of set 2  | novaya ladoga\n",
      "Searching record 29 of set 2  | bosobolo\n",
      "Searching record 30 of set 2  | asfi\n",
      "Searching record 31 of set 2  | aquiraz\n",
      "Searching record 32 of set 2  | tingo maria\n",
      "Searching record 33 of set 2  | saint anthony\n",
      "Searching record 34 of set 2  | pangnirtung\n",
      "Searching record 35 of set 2  | skovorodino\n",
      "Searching record 36 of set 2  | banda aceh\n",
      "Searching record 37 of set 2  | uyuni\n",
      "Searching record 38 of set 2  | birao\n",
      "Searching record 39 of set 2  | sisimiut\n",
      "Searching record 40 of set 2  | harlingen\n",
      "Searching record 41 of set 2  | fortuna\n",
      "Searching record 42 of set 2  | valle hermoso\n",
      "Searching record 43 of set 2  | fort nelson\n",
      "Searching record 44 of set 2  | tasiilaq\n",
      "Searching record 45 of set 2  | kodiak\n",
      "Searching record 46 of set 2  | ginda\n",
      "Searching record 47 of set 2  | lata\n",
      "Searching record 48 of set 2  | sola\n",
      "Searching record 49 of set 2  | san carlos\n",
      "Searching record 50 of set 2  | brus laguna\n",
      "---------------------------------------------------------------------------\n",
      "Counter has reached 50, program will pause for 1 second before resuming\n",
      "---------------------------------------------------------------------------\n",
      "Searching record 1 of set 3  | cheuskiny\n",
      "******************************\n",
      "Sorry couldn't find cheuskiny\n",
      "******************************\n",
      "Searching record 2 of set 3  | puerto carreno\n",
      "Searching record 3 of set 3  | toliary\n",
      "******************************\n",
      "Sorry couldn't find toliary\n",
      "******************************\n",
      "Searching record 4 of set 3  | naifaru\n",
      "Searching record 5 of set 3  | mishkino\n",
      "Searching record 6 of set 3  | karaul\n",
      "******************************\n",
      "Sorry couldn't find karaul\n",
      "******************************\n",
      "Searching record 7 of set 3  | lamu\n",
      "Searching record 8 of set 3  | pincher creek\n",
      "Searching record 9 of set 3  | lavrentiya\n",
      "Searching record 10 of set 3  | upernavik\n",
      "Searching record 11 of set 3  | hihifo\n",
      "******************************\n",
      "Sorry couldn't find hihifo\n",
      "******************************\n",
      "Searching record 12 of set 3  | saraland\n",
      "Searching record 13 of set 3  | roscommon\n",
      "Searching record 14 of set 3  | belyy yar\n",
      "Searching record 15 of set 3  | columbus\n",
      "Searching record 16 of set 3  | cabedelo\n",
      "Searching record 17 of set 3  | umm lajj\n",
      "Searching record 18 of set 3  | ushuaia\n",
      "Searching record 19 of set 3  | juneau\n",
      "Searching record 20 of set 3  | agirish\n",
      "Searching record 21 of set 3  | boyolangu\n",
      "Searching record 22 of set 3  | ulaanbaatar\n",
      "Searching record 23 of set 3  | omboue\n",
      "Searching record 24 of set 3  | port elizabeth\n",
      "Searching record 25 of set 3  | portland\n",
      "Searching record 26 of set 3  | halalo\n",
      "******************************\n",
      "Sorry couldn't find halalo\n",
      "******************************\n",
      "Searching record 27 of set 3  | cayenne\n",
      "Searching record 28 of set 3  | half moon bay\n",
      "Searching record 29 of set 3  | sinkat\n",
      "******************************\n",
      "Sorry couldn't find sinkat\n",
      "******************************\n",
      "Searching record 30 of set 3  | fatick\n",
      "Searching record 31 of set 3  | richards bay\n",
      "Searching record 32 of set 3  | turbat\n",
      "Searching record 33 of set 3  | beloha\n",
      "Searching record 34 of set 3  | blackmans\n",
      "******************************\n",
      "Sorry couldn't find blackmans\n",
      "******************************\n",
      "Searching record 35 of set 3  | makat\n",
      "Searching record 36 of set 3  | ozu\n",
      "Searching record 37 of set 3  | neuquen\n",
      "Searching record 38 of set 3  | sao joao da barra\n",
      "Searching record 39 of set 3  | weligama\n",
      "Searching record 40 of set 3  | hovd\n",
      "Searching record 41 of set 3  | abu samrah\n",
      "Searching record 42 of set 3  | te anau\n",
      "Searching record 43 of set 3  | alice springs\n",
      "Searching record 44 of set 3  | gat\n",
      "Searching record 45 of set 3  | geraldton\n",
      "Searching record 46 of set 3  | urengoy\n",
      "Searching record 47 of set 3  | hithadhoo\n",
      "Searching record 48 of set 3  | louisbourg\n",
      "******************************\n",
      "Sorry couldn't find louisbourg\n",
      "******************************\n",
      "Searching record 49 of set 3  | bali\n",
      "Searching record 50 of set 3  | shubarshi\n",
      "---------------------------------------------------------------------------\n",
      "Counter has reached 50, program will pause for 1 second before resuming\n",
      "---------------------------------------------------------------------------\n"
     ]
    },
    {
     "name": "stdout",
     "output_type": "stream",
     "text": [
      "Searching record 1 of set 4  | narsaq\n",
      "Searching record 2 of set 4  | namibe\n",
      "Searching record 3 of set 4  | bose\n",
      "Searching record 4 of set 4  | port macquarie\n",
      "Searching record 5 of set 4  | rosarito\n",
      "Searching record 6 of set 4  | santa rosa\n",
      "Searching record 7 of set 4  | novyy nekouz\n",
      "Searching record 8 of set 4  | kaitangata\n",
      "Searching record 9 of set 4  | riverton\n",
      "Searching record 10 of set 4  | iquique\n",
      "Searching record 11 of set 4  | mukhen\n",
      "Searching record 12 of set 4  | taoudenni\n",
      "Searching record 13 of set 4  | tatarskaya kargala\n",
      "Searching record 14 of set 4  | port hardy\n",
      "Searching record 15 of set 4  | yebaishou\n",
      "Searching record 16 of set 4  | mastic beach\n",
      "Searching record 17 of set 4  | katangli\n",
      "Searching record 18 of set 4  | bannu\n",
      "Searching record 19 of set 4  | hofn\n",
      "Searching record 20 of set 4  | gao\n",
      "Searching record 21 of set 4  | aktau\n",
      "Searching record 22 of set 4  | mehamn\n",
      "Searching record 23 of set 4  | fort beaufort\n",
      "Searching record 24 of set 4  | kayes\n",
      "Searching record 25 of set 4  | arica\n",
      "Searching record 26 of set 4  | horodnytsya\n",
      "Searching record 27 of set 4  | marzuq\n",
      "Searching record 28 of set 4  | hof\n",
      "Searching record 29 of set 4  | sao filipe\n",
      "Searching record 30 of set 4  | saint george\n",
      "Searching record 31 of set 4  | broome\n",
      "Searching record 32 of set 4  | praya\n",
      "Searching record 33 of set 4  | attawapiskat\n",
      "******************************\n",
      "Sorry couldn't find attawapiskat\n",
      "******************************\n",
      "Searching record 34 of set 4  | longyearbyen\n",
      "Searching record 35 of set 4  | los alamos\n",
      "Searching record 36 of set 4  | beringovskiy\n",
      "Searching record 37 of set 4  | lodja\n",
      "Searching record 38 of set 4  | arua\n",
      "Searching record 39 of set 4  | alofi\n",
      "Searching record 40 of set 4  | guatire\n",
      "Searching record 41 of set 4  | katsuura\n",
      "Searching record 42 of set 4  | samusu\n",
      "******************************\n",
      "Sorry couldn't find samusu\n",
      "******************************\n",
      "Searching record 43 of set 4  | illoqqortoormiut\n",
      "******************************\n",
      "Sorry couldn't find illoqqortoormiut\n",
      "******************************\n",
      "Searching record 44 of set 4  | qaanaaq\n",
      "Searching record 45 of set 4  | rikitea\n",
      "Searching record 46 of set 4  | ponta do sol\n",
      "Searching record 47 of set 4  | palimbang\n",
      "Searching record 48 of set 4  | palmer\n",
      "Searching record 49 of set 4  | yellowknife\n",
      "Searching record 50 of set 4  | korla\n",
      "---------------------------------------------------------------------------\n",
      "Counter has reached 50, program will pause for 1 second before resuming\n",
      "---------------------------------------------------------------------------\n",
      "Searching record 1 of set 5  | meulaboh\n",
      "Searching record 2 of set 5  | grand gaube\n",
      "Searching record 3 of set 5  | cherskiy\n",
      "Searching record 4 of set 5  | killybegs\n",
      "Searching record 5 of set 5  | bari\n",
      "Searching record 6 of set 5  | elk city\n",
      "Searching record 7 of set 5  | caravelas\n",
      "Searching record 8 of set 5  | bozova\n",
      "Searching record 9 of set 5  | port hedland\n",
      "Searching record 10 of set 5  | pisco\n",
      "Searching record 11 of set 5  | saleaula\n",
      "******************************\n",
      "Sorry couldn't find saleaula\n",
      "******************************\n",
      "Searching record 12 of set 5  | muroto\n",
      "Searching record 13 of set 5  | belmonte\n",
      "Searching record 14 of set 5  | bredasdorp\n",
      "Searching record 15 of set 5  | jijiga\n",
      "Searching record 16 of set 5  | odemis\n",
      "******************************\n",
      "Sorry couldn't find odemis\n",
      "******************************\n",
      "Searching record 17 of set 5  | albany\n",
      "Searching record 18 of set 5  | kawalu\n",
      "Searching record 19 of set 5  | dingle\n",
      "Searching record 20 of set 5  | cape town\n",
      "Searching record 21 of set 5  | mys shmidta\n",
      "******************************\n",
      "Sorry couldn't find mys shmidta\n",
      "******************************\n",
      "Searching record 22 of set 5  | saldanha\n",
      "Searching record 23 of set 5  | beian\n",
      "Searching record 24 of set 5  | havre\n",
      "Searching record 25 of set 5  | east lansing\n",
      "Searching record 26 of set 5  | bintulu\n",
      "Searching record 27 of set 5  | butaritari\n",
      "Searching record 28 of set 5  | gravdal\n",
      "Searching record 29 of set 5  | rawson\n",
      "Searching record 30 of set 5  | manaskent\n",
      "Searching record 31 of set 5  | zolotinka\n",
      "******************************\n",
      "Sorry couldn't find zolotinka\n",
      "******************************\n",
      "Searching record 32 of set 5  | turkistan\n",
      "Searching record 33 of set 5  | biak\n",
      "Searching record 34 of set 5  | mocuba\n",
      "Searching record 35 of set 5  | tautira\n",
      "Searching record 36 of set 5  | busselton\n",
      "Searching record 37 of set 5  | poplar bluff\n",
      "Searching record 38 of set 5  | husavik\n",
      "Searching record 39 of set 5  | dekar\n",
      "Searching record 40 of set 5  | ribeira grande\n",
      "Searching record 41 of set 5  | chimoio\n",
      "Searching record 42 of set 5  | batagay\n",
      "Searching record 43 of set 5  | mount isa\n",
      "Searching record 44 of set 5  | kalemie\n",
      "Searching record 45 of set 5  | anadyr\n",
      "Searching record 46 of set 5  | marawi\n",
      "Searching record 47 of set 5  | puerto ayora\n",
      "Searching record 48 of set 5  | yanan\n",
      "******************************\n",
      "Sorry couldn't find yanan\n",
      "******************************\n",
      "Searching record 49 of set 5  | turukhansk\n",
      "Searching record 50 of set 5  | nanortalik\n",
      "---------------------------------------------------------------------------\n",
      "Counter has reached 50, program will pause for 1 second before resuming\n",
      "---------------------------------------------------------------------------\n",
      "Searching record 1 of set 6  | kirakira\n",
      "Searching record 2 of set 6  | yaguachi\n",
      "Searching record 3 of set 6  | haines junction\n",
      "Searching record 4 of set 6  | coahuayana\n",
      "Searching record 5 of set 6  | roma\n",
      "Searching record 6 of set 6  | makakilo city\n",
      "Searching record 7 of set 6  | petropavlovsk-kamchatskiy\n",
      "Searching record 8 of set 6  | shelburne\n",
      "Searching record 9 of set 6  | wangqing\n",
      "Searching record 10 of set 6  | rehoboth\n",
      "Searching record 11 of set 6  | trstenik\n",
      "Searching record 12 of set 6  | kunya\n",
      "Searching record 13 of set 6  | pevek\n",
      "Searching record 14 of set 6  | tiznit\n",
      "Searching record 15 of set 6  | suluq\n",
      "Searching record 16 of set 6  | chokurdakh\n",
      "Searching record 17 of set 6  | zhezkazgan\n",
      "Searching record 18 of set 6  | opuwo\n",
      "Searching record 19 of set 6  | nizhniy kuranakh\n",
      "Searching record 20 of set 6  | clyde river\n",
      "Searching record 21 of set 6  | uruacu\n",
      "Searching record 22 of set 6  | bengkulu\n",
      "Searching record 23 of set 6  | zhangjiakou\n",
      "Searching record 24 of set 6  | tromso\n",
      "Searching record 25 of set 6  | atar\n",
      "Searching record 26 of set 6  | luderitz\n",
      "Searching record 27 of set 6  | surt\n",
      "Searching record 28 of set 6  | vestmannaeyjar\n",
      "Searching record 29 of set 6  | mocambique\n",
      "******************************\n",
      "Sorry couldn't find mocambique\n",
      "******************************\n",
      "Searching record 30 of set 6  | mahebourg\n",
      "Searching record 31 of set 6  | belushya guba\n",
      "******************************\n",
      "Sorry couldn't find belushya guba\n",
      "******************************\n",
      "Searching record 32 of set 6  | hirara\n",
      "Searching record 33 of set 6  | araouane\n",
      "Searching record 34 of set 6  | bambous virieux\n",
      "Searching record 35 of set 6  | yerbogachen\n",
      "Searching record 36 of set 6  | akhtubinsk\n",
      "Searching record 37 of set 6  | shimoda\n",
      "Searching record 38 of set 6  | tarakan\n",
      "Searching record 39 of set 6  | iona\n",
      "Searching record 40 of set 6  | bilibino\n",
      "Searching record 41 of set 6  | victoria\n",
      "Searching record 42 of set 6  | sitka\n",
      "Searching record 43 of set 6  | itoman\n",
      "Searching record 44 of set 6  | ust-koksa\n",
      "Searching record 45 of set 6  | conakry\n",
      "Searching record 46 of set 6  | nalut\n",
      "Searching record 47 of set 6  | aklavik\n",
      "Searching record 48 of set 6  | samarai\n",
      "Searching record 49 of set 6  | nome\n",
      "Searching record 50 of set 6  | kailua\n",
      "---------------------------------------------------------------------------\n",
      "Counter has reached 50, program will pause for 1 second before resuming\n",
      "---------------------------------------------------------------------------\n",
      "Searching record 1 of set 7  | hermanus\n",
      "Searching record 2 of set 7  | lagos\n",
      "Searching record 3 of set 7  | coihaique\n",
      "Searching record 4 of set 7  | cangzhou\n",
      "Searching record 5 of set 7  | patu\n",
      "Searching record 6 of set 7  | adrar\n",
      "Searching record 7 of set 7  | inhambane\n",
      "Searching record 8 of set 7  | bousso\n",
      "Searching record 9 of set 7  | thinadhoo\n",
      "Searching record 10 of set 7  | balabac\n",
      "Searching record 11 of set 7  | miramar\n",
      "Searching record 12 of set 7  | mataura\n"
     ]
    },
    {
     "name": "stdout",
     "output_type": "stream",
     "text": [
      "Searching record 13 of set 7  | burkburnett\n",
      "Searching record 14 of set 7  | laiyang\n",
      "Searching record 15 of set 7  | swan hill\n",
      "Searching record 16 of set 7  | suksun\n",
      "Searching record 17 of set 7  | dikson\n",
      "Searching record 18 of set 7  | new norfolk\n",
      "Searching record 19 of set 7  | krasnyy chikoy\n",
      "Searching record 20 of set 7  | casper\n",
      "Searching record 21 of set 7  | dubbo\n",
      "Searching record 22 of set 7  | vila franca do campo\n",
      "Searching record 23 of set 7  | jalu\n",
      "Searching record 24 of set 7  | vostok\n",
      "Searching record 25 of set 7  | sentyabrskiy\n",
      "******************************\n",
      "Sorry couldn't find sentyabrskiy\n",
      "******************************\n",
      "Searching record 26 of set 7  | nemuro\n",
      "Searching record 27 of set 7  | margate\n",
      "Searching record 28 of set 7  | jiblah\n",
      "Searching record 29 of set 7  | constitucion\n",
      "Searching record 30 of set 7  | tumut\n",
      "Searching record 31 of set 7  | lompoc\n",
      "Searching record 32 of set 7  | kasongo-lunda\n",
      "Searching record 33 of set 7  | lokosovo\n",
      "Searching record 34 of set 7  | utinga\n",
      "Searching record 35 of set 7  | ancud\n",
      "Searching record 36 of set 7  | mopipi\n",
      "Searching record 37 of set 7  | luau\n",
      "Searching record 38 of set 7  | aykhal\n",
      "Searching record 39 of set 7  | ust-kamchatsk\n",
      "******************************\n",
      "Sorry couldn't find ust-kamchatsk\n",
      "******************************\n",
      "Searching record 40 of set 7  | lorengau\n",
      "Searching record 41 of set 7  | cockburn town\n",
      "Searching record 42 of set 7  | altamont\n",
      "Searching record 43 of set 7  | chernyshevskiy\n",
      "Searching record 44 of set 7  | tilichiki\n",
      "Searching record 45 of set 7  | champerico\n",
      "Searching record 46 of set 7  | sur\n",
      "Searching record 47 of set 7  | abha\n",
      "Searching record 48 of set 7  | nuevo progreso\n",
      "Searching record 49 of set 7  | tall kayf\n",
      "Searching record 50 of set 7  | montepuez\n",
      "---------------------------------------------------------------------------\n",
      "Counter has reached 50, program will pause for 1 second before resuming\n",
      "---------------------------------------------------------------------------\n",
      "Searching record 1 of set 8  | hobyo\n",
      "Searching record 2 of set 8  | grindavik\n",
      "Searching record 3 of set 8  | tocopilla\n",
      "Searching record 4 of set 8  | kushima\n",
      "Searching record 5 of set 8  | faanui\n",
      "Searching record 6 of set 8  | la asuncion\n",
      "Searching record 7 of set 8  | enshi\n",
      "Searching record 8 of set 8  | san vicente\n",
      "Searching record 9 of set 8  | tuatapere\n",
      "Searching record 10 of set 8  | kapaa\n",
      "Searching record 11 of set 8  | bisira\n",
      "Searching record 12 of set 8  | morgan city\n",
      "Searching record 13 of set 8  | kidal\n",
      "Searching record 14 of set 8  | shostka\n",
      "Searching record 15 of set 8  | kutum\n",
      "Searching record 16 of set 8  | hobart\n",
      "Searching record 17 of set 8  | yerofey pavlovich\n",
      "Searching record 18 of set 8  | souillac\n",
      "Searching record 19 of set 8  | aranos\n",
      "Searching record 20 of set 8  | udachnyy\n",
      "Searching record 21 of set 8  | qasigiannguit\n",
      "Searching record 22 of set 8  | camacha\n",
      "Searching record 23 of set 8  | comodoro rivadavia\n",
      "Searching record 24 of set 8  | pacific grove\n",
      "Searching record 25 of set 8  | san quintin\n",
      "Searching record 26 of set 8  | bolungarvik\n",
      "******************************\n",
      "Sorry couldn't find bolungarvik\n",
      "******************************\n",
      "Searching record 27 of set 8  | paso de carrasco\n",
      "Searching record 28 of set 8  | lebu\n",
      "Searching record 29 of set 8  | hay river\n",
      "Searching record 30 of set 8  | wellington\n",
      "Searching record 31 of set 8  | mar del plata\n",
      "Searching record 32 of set 8  | mogok\n",
      "Searching record 33 of set 8  | mandali\n",
      "Searching record 34 of set 8  | saint-augustin\n",
      "Searching record 35 of set 8  | southbridge\n",
      "Searching record 36 of set 8  | cidreira\n",
      "Searching record 37 of set 8  | achacachi\n",
      "Searching record 38 of set 8  | great bend\n",
      "Searching record 39 of set 8  | bandarbeyla\n",
      "Searching record 40 of set 8  | honiara\n",
      "Searching record 41 of set 8  | yulara\n",
      "Searching record 42 of set 8  | xingyi\n",
      "Searching record 43 of set 8  | charleston\n",
      "Searching record 44 of set 8  | bolobo\n",
      "Searching record 45 of set 8  | codrington\n",
      "Searching record 46 of set 8  | upata\n",
      "Searching record 47 of set 8  | lyambir\n",
      "Searching record 48 of set 8  | papasquiaro\n",
      "******************************\n",
      "Sorry couldn't find papasquiaro\n",
      "******************************\n",
      "Searching record 49 of set 8  | carnarvon\n",
      "Searching record 50 of set 8  | tlanisco\n",
      "******************************\n",
      "Sorry couldn't find tlanisco\n",
      "******************************\n",
      "---------------------------------------------------------------------------\n",
      "Counter has reached 50, program will pause for 1 second before resuming\n",
      "---------------------------------------------------------------------------\n",
      "Searching record 1 of set 9  | atambua\n",
      "Searching record 2 of set 9  | bushehr\n",
      "Searching record 3 of set 9  | sorong\n",
      "Searching record 4 of set 9  | bereda\n",
      "Searching record 5 of set 9  | kahului\n",
      "Searching record 6 of set 9  | zyryanka\n",
      "Searching record 7 of set 9  | severo-kurilsk\n",
      "Searching record 8 of set 9  | felidhoo\n",
      "******************************\n",
      "Sorry couldn't find felidhoo\n",
      "******************************\n",
      "Searching record 9 of set 9  | kaeo\n",
      "Searching record 10 of set 9  | mayor pablo lagerenza\n",
      "Searching record 11 of set 9  | marsabit\n",
      "Searching record 12 of set 9  | palabuhanratu\n",
      "******************************\n",
      "Sorry couldn't find palabuhanratu\n",
      "******************************\n",
      "Searching record 13 of set 9  | walvis bay\n",
      "Searching record 14 of set 9  | punta arenas\n",
      "Searching record 15 of set 9  | damghan\n",
      "Searching record 16 of set 9  | hambantota\n",
      "Searching record 17 of set 9  | marcona\n",
      "******************************\n",
      "Sorry couldn't find marcona\n",
      "******************************\n",
      "Searching record 18 of set 9  | tagusao\n",
      "Searching record 19 of set 9  | sovetskiy\n",
      "Searching record 20 of set 9  | seka\n",
      "Searching record 21 of set 9  | bathsheba\n",
      "Searching record 22 of set 9  | shwebo\n",
      "Searching record 23 of set 9  | murray bridge\n",
      "Searching record 24 of set 9  | grand-lahou\n",
      "Searching record 25 of set 9  | cabo san lucas\n",
      "Searching record 26 of set 9  | pianco\n",
      "Searching record 27 of set 9  | chernoistochinsk\n",
      "Searching record 28 of set 9  | tiksi\n",
      "Searching record 29 of set 9  | kayerkan\n",
      "Searching record 30 of set 9  | bentiu\n",
      "Searching record 31 of set 9  | takoradi\n",
      "Searching record 32 of set 9  | vallenar\n",
      "Searching record 33 of set 9  | bac lieu\n",
      "Searching record 34 of set 9  | ishinomaki\n",
      "Searching record 35 of set 9  | urdzhar\n",
      "******************************\n",
      "Sorry couldn't find urdzhar\n",
      "******************************\n",
      "Searching record 36 of set 9  | bani walid\n",
      "Searching record 37 of set 9  | ascension\n",
      "Searching record 38 of set 9  | sao gabriel da cachoeira\n",
      "Searching record 39 of set 9  | ziro\n",
      "Searching record 40 of set 9  | crixas\n",
      "Searching record 41 of set 9  | vardo\n",
      "Searching record 42 of set 9  | snasa\n",
      "Searching record 43 of set 9  | lebork\n",
      "Searching record 44 of set 9  | bubaque\n",
      "Searching record 45 of set 9  | arraial do cabo\n",
      "Searching record 46 of set 9  | nantucket\n",
      "Searching record 47 of set 9  | rocha\n",
      "Searching record 48 of set 9  | akyab\n",
      "Searching record 49 of set 9  | placerville\n",
      "Searching record 50 of set 9  | padang\n",
      "---------------------------------------------------------------------------\n",
      "Counter has reached 50, program will pause for 1 second before resuming\n",
      "---------------------------------------------------------------------------\n",
      "Searching record 1 of set 10  | biltine\n",
      "Searching record 2 of set 10  | yirol\n",
      "******************************\n",
      "Sorry couldn't find yirol\n",
      "******************************\n",
      "Searching record 3 of set 10  | abu kamal\n",
      "Searching record 4 of set 10  | thompson\n",
      "Searching record 5 of set 10  | hami\n",
      "Searching record 6 of set 10  | linxia\n",
      "Searching record 7 of set 10  | itarema\n",
      "Searching record 8 of set 10  | saint-joseph\n",
      "Searching record 9 of set 10  | lloydminster\n",
      "Searching record 10 of set 10  | angoram\n",
      "Searching record 11 of set 10  | haimen\n",
      "Searching record 12 of set 10  | chuy\n",
      "Searching record 13 of set 10  | panzhihua\n",
      "Searching record 14 of set 10  | farsund\n",
      "Searching record 15 of set 10  | kavaratti\n",
      "Searching record 16 of set 10  | dicabisagan\n",
      "Searching record 17 of set 10  | road town\n",
      "Searching record 18 of set 10  | srednebelaya\n",
      "Searching record 19 of set 10  | labuhan\n",
      "Searching record 20 of set 10  | saskylakh\n",
      "Searching record 21 of set 10  | acapulco\n",
      "Searching record 22 of set 10  | castro\n"
     ]
    },
    {
     "name": "stdout",
     "output_type": "stream",
     "text": [
      "Searching record 23 of set 10  | gardan diwal\n",
      "******************************\n",
      "Sorry couldn't find gardan diwal\n",
      "******************************\n",
      "Searching record 24 of set 10  | wajid\n",
      "Searching record 25 of set 10  | leningradskiy\n",
      "Searching record 26 of set 10  | porto velho\n",
      "Searching record 27 of set 10  | dzaoudzi\n",
      "Searching record 28 of set 10  | namatanai\n",
      "Searching record 29 of set 10  | moerai\n",
      "Searching record 30 of set 10  | praia\n",
      "Searching record 31 of set 10  | los andes\n",
      "Searching record 32 of set 10  | nouakchott\n",
      "Searching record 33 of set 10  | amderma\n",
      "******************************\n",
      "Sorry couldn't find amderma\n",
      "******************************\n",
      "Searching record 34 of set 10  | igarka\n",
      "Searching record 35 of set 10  | laguna\n",
      "Searching record 36 of set 10  | port blair\n",
      "Searching record 37 of set 10  | bethel\n",
      "Searching record 38 of set 10  | havelock\n",
      "Searching record 39 of set 10  | dongsheng\n",
      "Searching record 40 of set 10  | byron bay\n",
      "Searching record 41 of set 10  | puerto escondido\n",
      "Searching record 42 of set 10  | tabiauea\n",
      "******************************\n",
      "Sorry couldn't find tabiauea\n",
      "******************************\n",
      "Searching record 43 of set 10  | pinega\n",
      "Searching record 44 of set 10  | nhulunbuy\n",
      "Searching record 45 of set 10  | vaitupu\n",
      "******************************\n",
      "Sorry couldn't find vaitupu\n",
      "******************************\n",
      "Searching record 46 of set 10  | tual\n",
      "Searching record 47 of set 10  | chizhou\n",
      "Searching record 48 of set 10  | atasu\n",
      "Searching record 49 of set 10  | vila velha\n",
      "Searching record 50 of set 10  | guerrero negro\n",
      "---------------------------------------------------------------------------\n",
      "Counter has reached 50, program will pause for 1 second before resuming\n",
      "---------------------------------------------------------------------------\n",
      "Searching record 1 of set 11  | axim\n",
      "Searching record 2 of set 11  | san patricio\n",
      "Searching record 3 of set 11  | pierre\n",
      "Searching record 4 of set 11  | ust-nera\n",
      "Searching record 5 of set 11  | taolanaro\n",
      "******************************\n",
      "Sorry couldn't find taolanaro\n",
      "******************************\n",
      "Searching record 6 of set 11  | dafeng\n",
      "Searching record 7 of set 11  | srednekolymsk\n",
      "Searching record 8 of set 11  | port alfred\n",
      "Searching record 9 of set 11  | west wendover\n",
      "Searching record 10 of set 11  | saint-philippe\n",
      "Searching record 11 of set 11  | labutta\n",
      "******************************\n",
      "Sorry couldn't find labutta\n",
      "******************************\n",
      "Searching record 12 of set 11  | mount juliet\n",
      "Searching record 13 of set 11  | barroso\n",
      "Searching record 14 of set 11  | barrow\n",
      "Searching record 15 of set 11  | muscat\n",
      "Searching record 16 of set 11  | filadelfia\n",
      "Searching record 17 of set 11  | kalinovskaya\n",
      "Searching record 18 of set 11  | barentsburg\n",
      "******************************\n",
      "Sorry couldn't find barentsburg\n",
      "******************************\n",
      "Searching record 19 of set 11  | klaksvik\n",
      "Searching record 20 of set 11  | lazaro cardenas\n",
      "Searching record 21 of set 11  | iberia\n",
      "Searching record 22 of set 11  | harare\n",
      "Searching record 23 of set 11  | brownsville\n",
      "Searching record 24 of set 11  | bowen\n",
      "Searching record 25 of set 11  | nabire\n",
      "Searching record 26 of set 11  | havoysund\n",
      "Searching record 27 of set 11  | mount gambier\n",
      "Searching record 28 of set 11  | samoded\n",
      "Searching record 29 of set 11  | igarape-miri\n",
      "******************************\n",
      "Sorry couldn't find igarape-miri\n",
      "******************************\n",
      "Searching record 30 of set 11  | hilo\n",
      "Searching record 31 of set 11  | carahue\n",
      "Searching record 32 of set 11  | anaconda\n",
      "Searching record 33 of set 11  | meadow lake\n",
      "Searching record 34 of set 11  | skagastrond\n",
      "******************************\n",
      "Sorry couldn't find skagastrond\n",
      "******************************\n",
      "Searching record 35 of set 11  | sabzevar\n",
      "Searching record 36 of set 11  | barra do bugres\n",
      "Searching record 37 of set 11  | saint-pierre\n",
      "Searching record 38 of set 11  | lugovskiy\n",
      "******************************\n",
      "Sorry couldn't find lugovskiy\n",
      "******************************\n",
      "Searching record 39 of set 11  | sabang\n",
      "Searching record 40 of set 11  | kardla\n",
      "Searching record 41 of set 11  | sinnamary\n",
      "Searching record 42 of set 11  | san cristobal\n",
      "Searching record 43 of set 11  | vaini\n",
      "Searching record 44 of set 11  | grand baie\n",
      "Searching record 45 of set 11  | airai\n",
      "Searching record 46 of set 11  | esperance\n",
      "Searching record 47 of set 11  | auki\n",
      "Searching record 48 of set 11  | le port\n",
      "Searching record 49 of set 11  | namli\n",
      "Searching record 50 of set 11  | selikhino\n",
      "---------------------------------------------------------------------------\n",
      "Counter has reached 50, program will pause for 1 second before resuming\n",
      "---------------------------------------------------------------------------\n",
      "Searching record 1 of set 12  | gurgan\n",
      "******************************\n",
      "Sorry couldn't find gurgan\n",
      "******************************\n",
      "Searching record 2 of set 12  | westport\n",
      "Searching record 3 of set 12  | gotsu\n",
      "Searching record 4 of set 12  | chenghai\n",
      "Searching record 5 of set 12  | avera\n",
      "Searching record 6 of set 12  | bacuit\n",
      "******************************\n",
      "Sorry couldn't find bacuit\n",
      "******************************\n",
      "Searching record 7 of set 12  | zhanatas\n",
      "******************************\n",
      "Sorry couldn't find zhanatas\n",
      "******************************\n",
      "Searching record 8 of set 12  | koungheul\n",
      "Searching record 9 of set 12  | flinders\n",
      "Searching record 10 of set 12  | yining\n",
      "Searching record 11 of set 12  | san lawrenz\n",
      "Searching record 12 of set 12  | taltal\n",
      "Searching record 13 of set 12  | georgetown\n",
      "Searching record 14 of set 12  | fougeres\n",
      "Searching record 15 of set 12  | touros\n",
      "Searching record 16 of set 12  | siavonga\n",
      "Searching record 17 of set 12  | lander\n",
      "Searching record 18 of set 12  | volterra\n",
      "Searching record 19 of set 12  | barrhead\n",
      "Searching record 20 of set 12  | mackenzie\n",
      "Searching record 21 of set 12  | deputatskiy\n",
      "Searching record 22 of set 12  | nizhneyansk\n",
      "******************************\n",
      "Sorry couldn't find nizhneyansk\n",
      "******************************\n",
      "Searching record 23 of set 12  | fort-shevchenko\n",
      "Searching record 24 of set 12  | merauke\n",
      "Searching record 25 of set 12  | whitehorse\n",
      "Searching record 26 of set 12  | gizo\n",
      "Searching record 27 of set 12  | pacifica\n",
      "Searching record 28 of set 12  | santa cruz\n",
      "Searching record 29 of set 12  | grand river south east\n",
      "******************************\n",
      "Sorry couldn't find grand river south east\n",
      "******************************\n",
      "Searching record 30 of set 12  | sokna\n",
      "Searching record 31 of set 12  | shingu\n",
      "Searching record 32 of set 12  | umm durman\n",
      "******************************\n",
      "Sorry couldn't find umm durman\n",
      "******************************\n",
      "Searching record 33 of set 12  | bluff\n",
      "Searching record 34 of set 12  | tumannyy\n",
      "******************************\n",
      "Sorry couldn't find tumannyy\n",
      "******************************\n",
      "Searching record 35 of set 12  | porbandar\n",
      "Searching record 36 of set 12  | odweyne\n",
      "Searching record 37 of set 12  | gornyak\n",
      "Searching record 38 of set 12  | progreso\n",
      "Searching record 39 of set 12  | kontagora\n",
      "Searching record 40 of set 12  | komsomolskiy\n",
      "Searching record 41 of set 12  | fairbanks\n",
      "Searching record 42 of set 12  | miri\n",
      "Searching record 43 of set 12  | graaff-reinet\n",
      "Searching record 44 of set 12  | nouadhibou\n",
      "Searching record 45 of set 12  | salalah\n",
      "Searching record 46 of set 12  | pangai\n",
      "Searching record 47 of set 12  | pocone\n",
      "Searching record 48 of set 12  | herveo\n",
      "Searching record 49 of set 12  | palauig\n",
      "Searching record 50 of set 12  | north platte\n",
      "---------------------------------------------------------------------------\n",
      "Counter has reached 50, program will pause for 1 second before resuming\n",
      "---------------------------------------------------------------------------\n",
      "\n",
      "==============================\n",
      "Data Retrieval Complete\n",
      "==============================\n"
     ]
    }
   ],
   "source": [
    "counter=0\n",
    "record=1\n",
    "sets=1\n",
    "print(\"=\"*30)\n",
    "print(\"Begining Data Retrieval\")\n",
    "print(\"=\"*30)\n",
    "print()\n",
    "\n",
    "for index,row in cities.iterrows():\n",
    "    print(\"Searching record {} of set {}  | {}\".format(record,sets,row['Cities']))\n",
    "    #print(\"Searching for {}\".format(row['Cities']))\n",
    "    url='http://api.openweathermap.org/data/2.5/weather?'\n",
    "    q=row['Cities']\n",
    "    params={'q':q, 'appid': weather_api_key,'units':'Imperial'}\n",
    "    response=requests.get(url,params=params).json()\n",
    "    try:\n",
    "        cities.loc[index,'Latitude'] = response['coord']['lat']\n",
    "        cities.loc[index,'Longitude'] = response['coord']['lon']\n",
    "        cities.loc[index,'Cloudiness'] = response['clouds']['all']\n",
    "        cities.loc[index,'Date'] = response['dt']\n",
    "        cities.loc[index,'Humidity'] = response['main']['humidity']  \n",
    "        cities.loc[index,'Max_Temp'] = response['main']['temp_max']\n",
    "        cities.loc[index,'Wind Speed'] = response['wind']['speed']\n",
    "    except KeyError:\n",
    "        print(\"*\"*30)\n",
    "        print(\"Sorry couldn't find {}\".format(row['Cities']))\n",
    "        print(\"*\"*30)\n",
    "        \n",
    "            \n",
    "    record+=1\n",
    "    if record ==51:\n",
    "        print(\"-\"*75)\n",
    "        print(\"Counter has reached 50, program will pause for 1 second before resuming\")\n",
    "        print(\"-\"*75)\n",
    "        record=1\n",
    "        sets+=1 \n",
    "        time.sleep(1)\n",
    "\n",
    "print()\n",
    "print(\"=\"*30)\n",
    "print(\"Data Retrieval Complete\")\n",
    "print(\"=\"*30)"
   ]
  },
  {
   "cell_type": "code",
   "execution_count": 16,
   "metadata": {},
   "outputs": [
    {
     "data": {
      "text/plain": [
       "(600, 8)"
      ]
     },
     "execution_count": 16,
     "metadata": {},
     "output_type": "execute_result"
    }
   ],
   "source": [
    "cities.shape"
   ]
  },
  {
   "cell_type": "code",
   "execution_count": 17,
   "metadata": {},
   "outputs": [],
   "source": [
    "df_cities=(cities[cities['Latitude']!=0])"
   ]
  },
  {
   "cell_type": "code",
   "execution_count": 18,
   "metadata": {},
   "outputs": [
    {
     "data": {
      "text/html": [
       "<div>\n",
       "<style scoped>\n",
       "    .dataframe tbody tr th:only-of-type {\n",
       "        vertical-align: middle;\n",
       "    }\n",
       "\n",
       "    .dataframe tbody tr th {\n",
       "        vertical-align: top;\n",
       "    }\n",
       "\n",
       "    .dataframe thead th {\n",
       "        text-align: right;\n",
       "    }\n",
       "</style>\n",
       "<table border=\"1\" class=\"dataframe\">\n",
       "  <thead>\n",
       "    <tr style=\"text-align: right;\">\n",
       "      <th></th>\n",
       "      <th>Cities</th>\n",
       "      <th>Latitude</th>\n",
       "      <th>Longitude</th>\n",
       "      <th>Cloudiness</th>\n",
       "      <th>Date</th>\n",
       "      <th>Humidity</th>\n",
       "      <th>Max_Temp</th>\n",
       "      <th>Wind Speed</th>\n",
       "    </tr>\n",
       "  </thead>\n",
       "  <tbody>\n",
       "    <tr>\n",
       "      <th>0</th>\n",
       "      <td>esmeraldas</td>\n",
       "      <td>-19.76</td>\n",
       "      <td>-44.31</td>\n",
       "      <td>0</td>\n",
       "      <td>1600027988</td>\n",
       "      <td>32</td>\n",
       "      <td>82.40</td>\n",
       "      <td>10.29</td>\n",
       "    </tr>\n",
       "    <tr>\n",
       "      <th>1</th>\n",
       "      <td>torbay</td>\n",
       "      <td>47.67</td>\n",
       "      <td>-52.73</td>\n",
       "      <td>75</td>\n",
       "      <td>1600027988</td>\n",
       "      <td>44</td>\n",
       "      <td>62.01</td>\n",
       "      <td>9.17</td>\n",
       "    </tr>\n",
       "    <tr>\n",
       "      <th>2</th>\n",
       "      <td>areosa</td>\n",
       "      <td>41.72</td>\n",
       "      <td>-8.86</td>\n",
       "      <td>100</td>\n",
       "      <td>1600027988</td>\n",
       "      <td>78</td>\n",
       "      <td>75.00</td>\n",
       "      <td>8.05</td>\n",
       "    </tr>\n",
       "    <tr>\n",
       "      <th>3</th>\n",
       "      <td>setermoen</td>\n",
       "      <td>68.86</td>\n",
       "      <td>18.35</td>\n",
       "      <td>75</td>\n",
       "      <td>1600027989</td>\n",
       "      <td>93</td>\n",
       "      <td>46.40</td>\n",
       "      <td>4.70</td>\n",
       "    </tr>\n",
       "    <tr>\n",
       "      <th>4</th>\n",
       "      <td>port lincoln</td>\n",
       "      <td>-34.73</td>\n",
       "      <td>135.87</td>\n",
       "      <td>3</td>\n",
       "      <td>1600027989</td>\n",
       "      <td>89</td>\n",
       "      <td>52.61</td>\n",
       "      <td>5.08</td>\n",
       "    </tr>\n",
       "  </tbody>\n",
       "</table>\n",
       "</div>"
      ],
      "text/plain": [
       "         Cities  Latitude  Longitude  Cloudiness        Date  Humidity  \\\n",
       "0    esmeraldas    -19.76     -44.31           0  1600027988        32   \n",
       "1        torbay     47.67     -52.73          75  1600027988        44   \n",
       "2        areosa     41.72      -8.86         100  1600027988        78   \n",
       "3     setermoen     68.86      18.35          75  1600027989        93   \n",
       "4  port lincoln    -34.73     135.87           3  1600027989        89   \n",
       "\n",
       "   Max_Temp  Wind Speed  \n",
       "0     82.40       10.29  \n",
       "1     62.01        9.17  \n",
       "2     75.00        8.05  \n",
       "3     46.40        4.70  \n",
       "4     52.61        5.08  "
      ]
     },
     "execution_count": 18,
     "metadata": {},
     "output_type": "execute_result"
    }
   ],
   "source": [
    "df_cities.head()"
   ]
  },
  {
   "cell_type": "code",
   "execution_count": 19,
   "metadata": {},
   "outputs": [
    {
     "data": {
      "text/plain": [
       "(548, 8)"
      ]
     },
     "execution_count": 19,
     "metadata": {},
     "output_type": "execute_result"
    }
   ],
   "source": [
    "df_cities.shape"
   ]
  },
  {
   "cell_type": "code",
   "execution_count": 20,
   "metadata": {},
   "outputs": [],
   "source": [
    "output_file=os.path.join('cities_df.csv')\n",
    "df_cities.to_csv(output_file,index=False,header=True)"
   ]
  },
  {
   "cell_type": "code",
   "execution_count": 21,
   "metadata": {},
   "outputs": [],
   "source": [
    "#Creating Variables for Scatter Plots\n",
    "lat=df_cities['Latitude']\n",
    "humidity=df_cities['Humidity']\n",
    "cloudiness=df_cities['Cloudiness']\n",
    "wind_speed=df_cities['Wind Speed']\n",
    "temp=df_cities['Max_Temp']"
   ]
  },
  {
   "cell_type": "markdown",
   "metadata": {},
   "source": [
    "### LATITUDE VS TEMPERATURE"
   ]
  },
  {
   "cell_type": "code",
   "execution_count": 22,
   "metadata": {},
   "outputs": [
    {
     "data": {
      "image/png": "[encoded data removed]",
      "text/plain": [
       "<Figure size 432x288 with 1 Axes>"
      ]
     },
     "metadata": {
      "needs_background": "light"
     },
     "output_type": "display_data"
    }
   ],
   "source": [
    "f1=plt.scatter(lat,temp)\n",
    "plt.ylabel('Max TEMPERATURE (F)')\n",
    "plt.xlabel('LATITUDE')\n",
    "plt.ylim(30,110)\n",
    "plt.title('Latitude vs Temperature Plot')\n",
    "corr=sts.pearsonr(temp,lat);\n",
    "corr\n",
    "\n",
    "plt.savefig('LatvsTemp')"
   ]
  },
  {
   "cell_type": "markdown",
   "metadata": {},
   "source": [
    "### We can see that temperature rises as we move towards the equator and goes down as we move away"
   ]
  },
  {
   "cell_type": "markdown",
   "metadata": {},
   "source": [
    "### LATITUDE VS HUMIDITY"
   ]
  },
  {
   "cell_type": "code",
   "execution_count": 23,
   "metadata": {},
   "outputs": [
    {
     "data": {
      "image/png": "[encoded data removed]",
      "text/plain": [
       "<Figure size 432x288 with 1 Axes>"
      ]
     },
     "metadata": {
      "needs_background": "light"
     },
     "output_type": "display_data"
    }
   ],
   "source": [
    "plt.scatter(lat,humidity)\n",
    "plt.ylabel('HUMIDITY (%)')\n",
    "plt.xlabel('LATITUDE')\n",
    "plt.title('LATITUDE vs HUMIDITY Plot')\n",
    "corr=sts.pearsonr(humidity,lat);\n",
    "corr\n",
    "plt.savefig('LatvsHum')"
   ]
  },
  {
   "cell_type": "markdown",
   "metadata": {},
   "source": [
    "### Since p-value <<< , results are statistically significant, therfore it is difficult to determine relationship between latitude and humidity"
   ]
  },
  {
   "cell_type": "markdown",
   "metadata": {},
   "source": [
    "### LATITUDE VS CLOUDINESS"
   ]
  },
  {
   "cell_type": "code",
   "execution_count": 24,
   "metadata": {},
   "outputs": [
    {
     "data": {
      "image/png": "[encoded data removed]",
      "text/plain": [
       "<Figure size 432x288 with 1 Axes>"
      ]
     },
     "metadata": {
      "needs_background": "light"
     },
     "output_type": "display_data"
    }
   ],
   "source": [
    "plt.scatter(lat,cloudiness)\n",
    "plt.ylabel('CLOUDINESS (%)')\n",
    "plt.xlabel('LATITUDE')\n",
    "plt.title('LATTITUDE vs CLOUDINESS Plot')\n",
    "corr=sts.pearsonr(cloudiness,lat);\n",
    "corr\n",
    "plt.savefig('LatvsCloud')"
   ]
  },
  {
   "cell_type": "markdown",
   "metadata": {},
   "source": [
    "### Cloudiness is evenly spread and symmetrical in patterns in the northen and southern hemisphere"
   ]
  },
  {
   "cell_type": "markdown",
   "metadata": {},
   "source": [
    "### LATITUDE VS WIND SPEED"
   ]
  },
  {
   "cell_type": "code",
   "execution_count": 25,
   "metadata": {},
   "outputs": [
    {
     "data": {
      "image/png": "[encoded data removed]",
      "text/plain": [
       "<Figure size 432x288 with 1 Axes>"
      ]
     },
     "metadata": {
      "needs_background": "light"
     },
     "output_type": "display_data"
    }
   ],
   "source": [
    "plt.scatter(lat,wind_speed)\n",
    "plt.xlabel('LATITUDE')\n",
    "plt.ylabel('WIND SPEED (MPH)')\n",
    "plt.title('LATITUDE vs WIND SPEED')\n",
    "corr=sts.pearsonr(wind_speed,lat);\n",
    "corr\n",
    "plt.savefig('LatvsWind')"
   ]
  },
  {
   "cell_type": "markdown",
   "metadata": {},
   "source": [
    "###  Above code is analyzing wind speed across the northen and southern hemisphere"
   ]
  },
  {
   "cell_type": "code",
   "execution_count": 26,
   "metadata": {},
   "outputs": [],
   "source": [
    "#Separating NORTHEN AND SOUTHERN HEMISPHERES\n",
    "df_south=df_cities[df_cities['Latitude'] < 0]\n",
    "df_north=df_cities[df_cities['Latitude'] >= 0]"
   ]
  },
  {
   "cell_type": "code",
   "execution_count": 27,
   "metadata": {},
   "outputs": [],
   "source": [
    "#Generating variables for latitdues\n",
    "lat_s=df_south['Latitude']\n",
    "lat_n=df_north['Latitude']"
   ]
  },
  {
   "cell_type": "code",
   "execution_count": 28,
   "metadata": {},
   "outputs": [],
   "source": [
    "#Generating variables for required entities for regression\n",
    "temp_n=df_north['Max_Temp']\n",
    "temp_s=df_south['Max_Temp']\n",
    "hum_n=df_north['Humidity']\n",
    "hum_s=df_south['Humidity']\n",
    "cloud_n=df_north['Cloudiness']\n",
    "cloud_s=df_south['Cloudiness']\n",
    "wind_n=df_north['Wind Speed']\n",
    "wind_s=df_south['Wind Speed']"
   ]
  },
  {
   "cell_type": "markdown",
   "metadata": {},
   "source": [
    "### Regression Analysis"
   ]
  },
  {
   "cell_type": "markdown",
   "metadata": {},
   "source": [
    "### Latitude (N) vs Max Temp"
   ]
  },
  {
   "cell_type": "code",
   "execution_count": 29,
   "metadata": {},
   "outputs": [
    {
     "data": {
      "text/plain": [
       "'y = -0.68x + 93.08'"
      ]
     },
     "execution_count": 29,
     "metadata": {},
     "output_type": "execute_result"
    }
   ],
   "source": [
    "(slope,intercept,rvalue,pvalue,stderr)=linregress(lat_n.astype(float),temp_n.astype(float))\n",
    "\n",
    "regress_values = lat_n*slope +intercept\n",
    "\n",
    "line_eq= \"y = \" + str(round(slope,2)) + \"x + \"+ str(round(intercept,2))\n",
    "\n",
    "line_eq"
   ]
  },
  {
   "cell_type": "code",
   "execution_count": 30,
   "metadata": {},
   "outputs": [
    {
     "data": {
      "text/plain": [
       "Text(0, 0.5, 'Max Temp (F)')"
      ]
     },
     "execution_count": 30,
     "metadata": {},
     "output_type": "execute_result"
    },
    {
     "data": {
      "image/png": "[encoded data removed]",
      "text/plain": [
       "<Figure size 432x288 with 1 Axes>"
      ]
     },
     "metadata": {
      "needs_background": "light"
     },
     "output_type": "display_data"
    }
   ],
   "source": [
    "plt.scatter(lat_n,temp_n)\n",
    "plt.plot(lat_n,regress_values,\"red\")\n",
    "plt.annotate(line_eq,(7,42),color=\"green\",fontsize=15)\n",
    "plt.annotate(f\"R2 = {round(rvalue**2,3)}\",(7,35),fontsize=14,color=\"black\")\n",
    "plt.xlabel('Latitude')\n",
    "plt.ylabel('Max Temp (F)')"
   ]
  },
  {
   "cell_type": "markdown",
   "metadata": {},
   "source": [
    "### Temperature drops as we move away from the equator"
   ]
  },
  {
   "cell_type": "markdown",
   "metadata": {},
   "source": [
    "### Latitude (S) vs Max Temp"
   ]
  },
  {
   "cell_type": "code",
   "execution_count": 31,
   "metadata": {},
   "outputs": [
    {
     "data": {
      "text/plain": [
       "'y = 0.75x + 84.62'"
      ]
     },
     "execution_count": 31,
     "metadata": {},
     "output_type": "execute_result"
    }
   ],
   "source": [
    "(slope,intercept,rvalue,pvalue,stderr)=linregress(lat_s.astype(float),temp_s.astype(float))\n",
    "\n",
    "regress_values = lat_s*slope +intercept\n",
    "\n",
    "line_eq= \"y = \" + str(round(slope,2)) + \"x + \"+ str(round(intercept,2))\n",
    "\n",
    "line_eq"
   ]
  },
  {
   "cell_type": "code",
   "execution_count": 32,
   "metadata": {},
   "outputs": [
    {
     "data": {
      "text/plain": [
       "0.7260678612654176"
      ]
     },
     "execution_count": 32,
     "metadata": {},
     "output_type": "execute_result"
    }
   ],
   "source": [
    "rvalue"
   ]
  },
  {
   "cell_type": "code",
   "execution_count": 33,
   "metadata": {},
   "outputs": [
    {
     "data": {
      "text/plain": [
       "Text(0, 0.5, 'Max Temp (F)')"
      ]
     },
     "execution_count": 33,
     "metadata": {},
     "output_type": "execute_result"
    },
    {
     "data": {
      "image/png": "[encoded data removed]",
      "text/plain": [
       "<Figure size 432x288 with 1 Axes>"
      ]
     },
     "metadata": {
      "needs_background": "light"
     },
     "output_type": "display_data"
    }
   ],
   "source": [
    "plt.scatter(lat_s,temp_s)\n",
    "plt.plot(lat_s,regress_values,\"red\")\n",
    "plt.annotate(line_eq,(-25,52),color=\"green\",fontsize=15)\n",
    "plt.annotate(f\"R2 = {round(rvalue**2,3)}\",(-25,45),fontsize=14,color=\"black\")\n",
    "plt.xlabel('Latitude')\n",
    "plt.ylabel('Max Temp (F)')"
   ]
  },
  {
   "cell_type": "markdown",
   "metadata": {},
   "source": [
    "### Temperature rises as we move towards the equator"
   ]
  },
  {
   "cell_type": "markdown",
   "metadata": {},
   "source": [
    "### Latitude (N) vs Humidity"
   ]
  },
  {
   "cell_type": "code",
   "execution_count": 34,
   "metadata": {},
   "outputs": [
    {
     "data": {
      "text/plain": [
       "'y = 0.06x + 68.48'"
      ]
     },
     "execution_count": 34,
     "metadata": {},
     "output_type": "execute_result"
    }
   ],
   "source": [
    "(slope,intercept,rvalue,pvalue,stderr)=linregress(lat_n.astype(float),hum_n.astype(float))\n",
    "\n",
    "regress_values = lat_n*slope +intercept\n",
    "\n",
    "line_eq= \"y = \" + str(round(slope,2)) + \"x + \"+ str(round(intercept,2))\n",
    "\n",
    "line_eq"
   ]
  },
  {
   "cell_type": "code",
   "execution_count": 35,
   "metadata": {},
   "outputs": [
    {
     "data": {
      "text/plain": [
       "Text(0, 0.5, 'Humidity')"
      ]
     },
     "execution_count": 35,
     "metadata": {},
     "output_type": "execute_result"
    },
    {
     "data": {
      "image/png": "[encoded data removed]",
      "text/plain": [
       "<Figure size 432x288 with 1 Axes>"
      ]
     },
     "metadata": {
      "needs_background": "light"
     },
     "output_type": "display_data"
    }
   ],
   "source": [
    "plt.scatter(lat_n,hum_n)\n",
    "plt.plot(lat_n,regress_values,\"red\")\n",
    "plt.annotate(line_eq,(1,25),color=\"green\",fontsize=15)\n",
    "plt.annotate(f\"R2 = {round(rvalue**2,3)}\",(1,18),fontsize=14,color=\"black\")\n",
    "plt.xlabel('Latitude')\n",
    "plt.ylabel('Humidity')"
   ]
  },
  {
   "cell_type": "markdown",
   "metadata": {},
   "source": [
    "### Humidity very slightly rises or remains constant as we move away from the equator based on line equation"
   ]
  },
  {
   "cell_type": "markdown",
   "metadata": {},
   "source": [
    "### Latitude (S) vs Humidity"
   ]
  },
  {
   "cell_type": "code",
   "execution_count": 36,
   "metadata": {},
   "outputs": [
    {
     "data": {
      "text/plain": [
       "'y = -0.02x + 65.59'"
      ]
     },
     "execution_count": 36,
     "metadata": {},
     "output_type": "execute_result"
    }
   ],
   "source": [
    "(slope,intercept,rvalue,pvalue,stderr)=linregress(lat_s.astype(float),hum_s.astype(float))\n",
    "\n",
    "regress_values = lat_s*slope +intercept\n",
    "\n",
    "line_eq= \"y = \" + str(round(slope,2)) + \"x + \"+ str(round(intercept,2))\n",
    "\n",
    "line_eq"
   ]
  },
  {
   "cell_type": "code",
   "execution_count": 37,
   "metadata": {},
   "outputs": [
    {
     "data": {
      "text/plain": [
       "Text(0, 0.5, 'Humidity')"
      ]
     },
     "execution_count": 37,
     "metadata": {},
     "output_type": "execute_result"
    },
    {
     "data": {
      "image/png": "[encoded data removed]",
      "text/plain": [
       "<Figure size 432x288 with 1 Axes>"
      ]
     },
     "metadata": {
      "needs_background": "light"
     },
     "output_type": "display_data"
    }
   ],
   "source": [
    "plt.scatter(lat_s,hum_s)\n",
    "plt.plot(lat_s,regress_values,\"red\")\n",
    "plt.annotate(line_eq,(-55,20),color=\"green\",fontsize=15)\n",
    "plt.annotate(f\"R2 = {round(rvalue**2,3)}\",(-55,12),fontsize=14,color=\"black\")\n",
    "plt.xlabel('Latitude')\n",
    "plt.ylabel('Humidity')"
   ]
  },
  {
   "cell_type": "markdown",
   "metadata": {},
   "source": [
    "### Humidty reduces based on line equaiton as we move towards equator"
   ]
  },
  {
   "cell_type": "markdown",
   "metadata": {},
   "source": [
    "### Latitude(N) vs Cloudiness"
   ]
  },
  {
   "cell_type": "code",
   "execution_count": 38,
   "metadata": {},
   "outputs": [
    {
     "data": {
      "text/plain": [
       "'y = 0.02x + 50.52'"
      ]
     },
     "execution_count": 38,
     "metadata": {},
     "output_type": "execute_result"
    }
   ],
   "source": [
    "(slope,intercept,rvalue,pvalue,stderr)=linregress(lat_n.astype(float),cloud_n.astype(float))\n",
    "\n",
    "regress_values = lat_n*slope +intercept\n",
    "\n",
    "line_eq= \"y = \" + str(round(slope,2)) + \"x + \"+ str(round(intercept,2))\n",
    "\n",
    "line_eq"
   ]
  },
  {
   "cell_type": "code",
   "execution_count": 39,
   "metadata": {},
   "outputs": [
    {
     "data": {
      "text/plain": [
       "Text(0, 0.5, 'Cloudiness')"
      ]
     },
     "execution_count": 39,
     "metadata": {},
     "output_type": "execute_result"
    },
    {
     "data": {
      "image/png": "[encoded data removed]",
      "text/plain": [
       "<Figure size 432x288 with 1 Axes>"
      ]
     },
     "metadata": {
      "needs_background": "light"
     },
     "output_type": "display_data"
    }
   ],
   "source": [
    "plt.scatter(lat_n,cloud_n)\n",
    "plt.plot(lat_n,regress_values,\"red\")\n",
    "plt.annotate(line_eq,(20,63),color=\"green\",fontsize=15)\n",
    "plt.annotate(f\"R2 = {round(rvalue**2,3)}\",(20,59),fontsize=14,color=\"black\")\n",
    "plt.xlabel('Latitude')\n",
    "plt.ylabel('Cloudiness')"
   ]
  },
  {
   "cell_type": "markdown",
   "metadata": {},
   "source": [
    "### Cloudiness more or less remains constant, latitude has very little affect on it in the northen hemisphere"
   ]
  },
  {
   "cell_type": "markdown",
   "metadata": {},
   "source": [
    "### Latitude (S) vs Cloudiness"
   ]
  },
  {
   "cell_type": "code",
   "execution_count": 40,
   "metadata": {},
   "outputs": [
    {
     "data": {
      "text/plain": [
       "'y = 0.14x + 45.35'"
      ]
     },
     "execution_count": 40,
     "metadata": {},
     "output_type": "execute_result"
    }
   ],
   "source": [
    "(slope,intercept,rvalue,pvalue,stderr)=linregress(lat_s.astype(float),cloud_s.astype(float))\n",
    "\n",
    "regress_values = lat_s*slope +intercept\n",
    "\n",
    "line_eq= \"y = \" + str(round(slope,2)) + \"x + \"+ str(round(intercept,2))\n",
    "\n",
    "line_eq"
   ]
  },
  {
   "cell_type": "code",
   "execution_count": 41,
   "metadata": {},
   "outputs": [
    {
     "data": {
      "text/plain": [
       "Text(0, 0.5, 'Cloudiness')"
      ]
     },
     "execution_count": 41,
     "metadata": {},
     "output_type": "execute_result"
    },
    {
     "data": {
      "image/png": "[encoded data removed]",
      "text/plain": [
       "<Figure size 432x288 with 1 Axes>"
      ]
     },
     "metadata": {
      "needs_background": "light"
     },
     "output_type": "display_data"
    }
   ],
   "source": [
    "plt.scatter(lat_s,cloud_s)\n",
    "plt.plot(lat_s,regress_values,\"red\")\n",
    "plt.annotate(line_eq,(-50,45),color=\"green\",fontsize=15)\n",
    "plt.annotate(f\"R2 = {round(rvalue**2,3)}\",(-50,38),fontsize=14,color=\"black\")\n",
    "plt.xlabel('Latitude')\n",
    "plt.ylabel('Cloudiness')"
   ]
  },
  {
   "cell_type": "markdown",
   "metadata": {},
   "source": [
    "### Cloudiness tends to rise as we move towrards equator from the Southern Hemisphere"
   ]
  },
  {
   "cell_type": "markdown",
   "metadata": {},
   "source": [
    "### Latitude (N) vs Wind Speed"
   ]
  },
  {
   "cell_type": "code",
   "execution_count": 42,
   "metadata": {},
   "outputs": [
    {
     "data": {
      "text/plain": [
       "'y = 0.01x + 7.5'"
      ]
     },
     "execution_count": 42,
     "metadata": {},
     "output_type": "execute_result"
    }
   ],
   "source": [
    "(slope,intercept,rvalue,pvalue,stderr)=linregress(lat_n.astype(float),wind_n.astype(float))\n",
    "\n",
    "regress_values = lat_n*slope +intercept\n",
    "\n",
    "line_eq= \"y = \" + str(round(slope,2)) + \"x + \"+ str(round(intercept,2))\n",
    "\n",
    "line_eq"
   ]
  },
  {
   "cell_type": "code",
   "execution_count": 43,
   "metadata": {},
   "outputs": [
    {
     "data": {
      "text/plain": [
       "Text(0, 0.5, 'Wind Speed mph')"
      ]
     },
     "execution_count": 43,
     "metadata": {},
     "output_type": "execute_result"
    },
    {
     "data": {
      "image/png": "[encoded data removed]",
      "text/plain": [
       "<Figure size 432x288 with 1 Axes>"
      ]
     },
     "metadata": {
      "needs_background": "light"
     },
     "output_type": "display_data"
    }
   ],
   "source": [
    "plt.scatter(lat_n,wind_n)\n",
    "plt.plot(lat_n,regress_values,\"red\")\n",
    "plt.annotate(line_eq,(30,26),color=\"green\",fontsize=15)\n",
    "plt.annotate(f\"R2 = {round(rvalue**2,3)}\",(30,24),fontsize=14,color=\"black\")\n",
    "plt.xlabel('Latitude')\n",
    "plt.ylabel('Wind Speed mph')"
   ]
  },
  {
   "cell_type": "markdown",
   "metadata": {},
   "source": [
    "### As per the line eq- latitude hardly contributes to the wind speed in the northen hemisphere"
   ]
  },
  {
   "cell_type": "markdown",
   "metadata": {},
   "source": [
    "### Latitude (S) vs Wind Speed"
   ]
  },
  {
   "cell_type": "code",
   "execution_count": 44,
   "metadata": {},
   "outputs": [
    {
     "data": {
      "text/plain": [
       "'y = 0.0x + 8.98'"
      ]
     },
     "execution_count": 44,
     "metadata": {},
     "output_type": "execute_result"
    }
   ],
   "source": [
    "(slope,intercept,rvalue,pvalue,stderr)=linregress(lat_s.astype(float),wind_s.astype(float))\n",
    "\n",
    "regress_values = lat_s*slope +intercept\n",
    "\n",
    "line_eq= \"y = \" + str(round(slope,2)) + \"x + \"+ str(round(intercept,2))\n",
    "\n",
    "line_eq"
   ]
  },
  {
   "cell_type": "code",
   "execution_count": 45,
   "metadata": {},
   "outputs": [
    {
     "data": {
      "text/plain": [
       "Text(0, 0.5, 'Wind Speed mph')"
      ]
     },
     "execution_count": 45,
     "metadata": {},
     "output_type": "execute_result"
    },
    {
     "data": {
      "image/png": "[encoded data removed]",
      "text/plain": [
       "<Figure size 432x288 with 1 Axes>"
      ]
     },
     "metadata": {
      "needs_background": "light"
     },
     "output_type": "display_data"
    }
   ],
   "source": [
    "plt.scatter(lat_s,wind_s)\n",
    "plt.plot(lat_s,regress_values,\"red\")\n",
    "plt.annotate(line_eq,(-50,20),color=\"green\",fontsize=15)\n",
    "plt.annotate(f\"R2 = {round(rvalue**2,3)}\",(-50,16),fontsize=14,color=\"black\")\n",
    "plt.xlabel('Latitude')\n",
    "plt.ylabel('Wind Speed mph')"
   ]
  },
  {
   "cell_type": "markdown",
   "metadata": {},
   "source": [
    "### Wind speed is greater away from the equator in the southern hemisphere"
   ]
  },
  {
   "cell_type": "code",
   "execution_count": null,
   "metadata": {},
   "outputs": [],
   "source": []
  }
 ],
 "metadata": {
  "kernelspec": {
   "display_name": "Python 3",
   "language": "python",
   "name": "python3"
  },
  "language_info": {
   "codemirror_mode": {
    "name": "ipython",
    "version": 3
   },
   "file_extension": ".py",
   "mimetype": "text/x-python",
   "name": "python",
   "nbconvert_exporter": "python",
   "pygments_lexer": "ipython3",
   "version": "3.7.3"
  }
 },
 "nbformat": 4,
 "nbformat_minor": 2
}
