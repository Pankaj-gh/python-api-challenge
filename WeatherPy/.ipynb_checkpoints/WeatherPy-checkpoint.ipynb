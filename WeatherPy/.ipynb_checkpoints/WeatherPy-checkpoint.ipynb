{
 "cells": [
  {
   "cell_type": "code",
   "execution_count": 1,
   "metadata": {},
   "outputs": [],
   "source": [
    "from citipy import citipy\n",
    "import pandas as pd\n",
    "import numpy as np\n",
    "import matplotlib.pyplot as plt\n",
    "import requests\n",
    "from config import weather_api_key,g_key\n",
    "import scipy.stats as sts\n",
    "from scipy.stats import linregress\n",
    "import time\n",
    "import os"
   ]
  },
  {
   "cell_type": "code",
   "execution_count": 2,
   "metadata": {},
   "outputs": [],
   "source": [
    "lat=np.random.uniform(-90.00,90.00,10000)"
   ]
  },
  {
   "cell_type": "code",
   "execution_count": 3,
   "metadata": {},
   "outputs": [],
   "source": [
    "lon=np.random.uniform(-180,180.00,10000)"
   ]
  },
  {
   "cell_type": "code",
   "execution_count": 4,
   "metadata": {},
   "outputs": [],
   "source": [
    "coordinates=list(zip(lat,lon))"
   ]
  },
  {
   "cell_type": "code",
   "execution_count": 5,
   "metadata": {},
   "outputs": [],
   "source": [
    "cities=set()"
   ]
  },
  {
   "cell_type": "code",
   "execution_count": 6,
   "metadata": {},
   "outputs": [],
   "source": [
    "\n",
    "for nos in coordinates:\n",
    "    citi=citipy.nearest_city(nos[0],nos[1])\n",
    "    city=citi.city_name\n",
    "    cities.add(city)\n",
    "    if len(cities)==600:\n",
    "        break"
   ]
  },
  {
   "cell_type": "code",
   "execution_count": 7,
   "metadata": {},
   "outputs": [
    {
     "data": {
      "text/plain": [
       "600"
      ]
     },
     "execution_count": 7,
     "metadata": {},
     "output_type": "execute_result"
    }
   ],
   "source": [
    "len(cities)"
   ]
  },
  {
   "cell_type": "code",
   "execution_count": 8,
   "metadata": {},
   "outputs": [],
   "source": [
    "cities=list(cities)"
   ]
  },
  {
   "cell_type": "code",
   "execution_count": 9,
   "metadata": {},
   "outputs": [
    {
     "data": {
      "text/plain": [
       "list"
      ]
     },
     "execution_count": 9,
     "metadata": {},
     "output_type": "execute_result"
    }
   ],
   "source": [
    "type(cities)"
   ]
  },
  {
   "cell_type": "code",
   "execution_count": 10,
   "metadata": {},
   "outputs": [
    {
     "data": {
      "text/html": [
       "<div>\n",
       "<style scoped>\n",
       "    .dataframe tbody tr th:only-of-type {\n",
       "        vertical-align: middle;\n",
       "    }\n",
       "\n",
       "    .dataframe tbody tr th {\n",
       "        vertical-align: top;\n",
       "    }\n",
       "\n",
       "    .dataframe thead th {\n",
       "        text-align: right;\n",
       "    }\n",
       "</style>\n",
       "<table border=\"1\" class=\"dataframe\">\n",
       "  <thead>\n",
       "    <tr style=\"text-align: right;\">\n",
       "      <th></th>\n",
       "      <th>Cities</th>\n",
       "    </tr>\n",
       "  </thead>\n",
       "  <tbody>\n",
       "    <tr>\n",
       "      <th>0</th>\n",
       "      <td>taybad</td>\n",
       "    </tr>\n",
       "    <tr>\n",
       "      <th>1</th>\n",
       "      <td>port elizabeth</td>\n",
       "    </tr>\n",
       "    <tr>\n",
       "      <th>2</th>\n",
       "      <td>alofi</td>\n",
       "    </tr>\n",
       "    <tr>\n",
       "      <th>3</th>\n",
       "      <td>athabasca</td>\n",
       "    </tr>\n",
       "    <tr>\n",
       "      <th>4</th>\n",
       "      <td>fort william</td>\n",
       "    </tr>\n",
       "  </tbody>\n",
       "</table>\n",
       "</div>"
      ],
      "text/plain": [
       "           Cities\n",
       "0          taybad\n",
       "1  port elizabeth\n",
       "2           alofi\n",
       "3       athabasca\n",
       "4    fort william"
      ]
     },
     "execution_count": 10,
     "metadata": {},
     "output_type": "execute_result"
    }
   ],
   "source": [
    "cities=pd.DataFrame({'Cities':cities})\n",
    "cities.head()"
   ]
  },
  {
   "cell_type": "code",
   "execution_count": 11,
   "metadata": {},
   "outputs": [],
   "source": [
    "cities['Country']=\"\"\n",
    "cities['Latitude']=0\n",
    "cities['Longitude']=0\n",
    "cities['Cloudiness']=0\n",
    "cities['Date']=\"\"\n",
    "cities['Humidity']=0\n",
    "cities['Max_Temp']=0\n",
    "cities['Wind Speed']=0"
   ]
  },
  {
   "cell_type": "code",
   "execution_count": 12,
   "metadata": {},
   "outputs": [
    {
     "data": {
      "text/html": [
       "<div>\n",
       "<style scoped>\n",
       "    .dataframe tbody tr th:only-of-type {\n",
       "        vertical-align: middle;\n",
       "    }\n",
       "\n",
       "    .dataframe tbody tr th {\n",
       "        vertical-align: top;\n",
       "    }\n",
       "\n",
       "    .dataframe thead th {\n",
       "        text-align: right;\n",
       "    }\n",
       "</style>\n",
       "<table border=\"1\" class=\"dataframe\">\n",
       "  <thead>\n",
       "    <tr style=\"text-align: right;\">\n",
       "      <th></th>\n",
       "      <th>Cities</th>\n",
       "      <th>Country</th>\n",
       "      <th>Latitude</th>\n",
       "      <th>Longitude</th>\n",
       "      <th>Cloudiness</th>\n",
       "      <th>Date</th>\n",
       "      <th>Humidity</th>\n",
       "      <th>Max_Temp</th>\n",
       "      <th>Wind Speed</th>\n",
       "    </tr>\n",
       "  </thead>\n",
       "  <tbody>\n",
       "    <tr>\n",
       "      <th>0</th>\n",
       "      <td>taybad</td>\n",
       "      <td></td>\n",
       "      <td>0</td>\n",
       "      <td>0</td>\n",
       "      <td>0</td>\n",
       "      <td></td>\n",
       "      <td>0</td>\n",
       "      <td>0</td>\n",
       "      <td>0</td>\n",
       "    </tr>\n",
       "    <tr>\n",
       "      <th>1</th>\n",
       "      <td>port elizabeth</td>\n",
       "      <td></td>\n",
       "      <td>0</td>\n",
       "      <td>0</td>\n",
       "      <td>0</td>\n",
       "      <td></td>\n",
       "      <td>0</td>\n",
       "      <td>0</td>\n",
       "      <td>0</td>\n",
       "    </tr>\n",
       "    <tr>\n",
       "      <th>2</th>\n",
       "      <td>alofi</td>\n",
       "      <td></td>\n",
       "      <td>0</td>\n",
       "      <td>0</td>\n",
       "      <td>0</td>\n",
       "      <td></td>\n",
       "      <td>0</td>\n",
       "      <td>0</td>\n",
       "      <td>0</td>\n",
       "    </tr>\n",
       "    <tr>\n",
       "      <th>3</th>\n",
       "      <td>athabasca</td>\n",
       "      <td></td>\n",
       "      <td>0</td>\n",
       "      <td>0</td>\n",
       "      <td>0</td>\n",
       "      <td></td>\n",
       "      <td>0</td>\n",
       "      <td>0</td>\n",
       "      <td>0</td>\n",
       "    </tr>\n",
       "    <tr>\n",
       "      <th>4</th>\n",
       "      <td>fort william</td>\n",
       "      <td></td>\n",
       "      <td>0</td>\n",
       "      <td>0</td>\n",
       "      <td>0</td>\n",
       "      <td></td>\n",
       "      <td>0</td>\n",
       "      <td>0</td>\n",
       "      <td>0</td>\n",
       "    </tr>\n",
       "  </tbody>\n",
       "</table>\n",
       "</div>"
      ],
      "text/plain": [
       "           Cities Country  Latitude  Longitude  Cloudiness Date  Humidity  \\\n",
       "0          taybad                 0          0           0              0   \n",
       "1  port elizabeth                 0          0           0              0   \n",
       "2           alofi                 0          0           0              0   \n",
       "3       athabasca                 0          0           0              0   \n",
       "4    fort william                 0          0           0              0   \n",
       "\n",
       "   Max_Temp  Wind Speed  \n",
       "0         0           0  \n",
       "1         0           0  \n",
       "2         0           0  \n",
       "3         0           0  \n",
       "4         0           0  "
      ]
     },
     "execution_count": 12,
     "metadata": {},
     "output_type": "execute_result"
    }
   ],
   "source": [
    "cities.head()"
   ]
  },
  {
   "cell_type": "code",
   "execution_count": 13,
   "metadata": {},
   "outputs": [],
   "source": [
    "#url='http://api.openweathermap.org/data/2.5/weather?'"
   ]
  },
  {
   "cell_type": "code",
   "execution_count": 14,
   "metadata": {},
   "outputs": [],
   "source": [
    "# lat=response['coord']['lat']\n",
    "# lon=response['coord']['lon']\n",
    "# cloudiness=response['clouds']['all']\n",
    "# date=response['dt']\n",
    "# humidity=response['main']['humidity']\n",
    "# max_temp=response['main']['temp_max']\n",
    "# wind=response['wind']['speed']\n"
   ]
  },
  {
   "cell_type": "code",
   "execution_count": 15,
   "metadata": {},
   "outputs": [
    {
     "name": "stdout",
     "output_type": "stream",
     "text": [
      "==============================\n",
      "Begining Data Retrieval\n",
      "==============================\n",
      "\n",
      "Searching record 1 of set 1  | taybad\n",
      "Searching record 2 of set 1  | port elizabeth\n",
      "Searching record 3 of set 1  | alofi\n",
      "Searching record 4 of set 1  | athabasca\n",
      "Searching record 5 of set 1  | fort william\n",
      "Searching record 6 of set 1  | ferrol\n",
      "Searching record 7 of set 1  | nioki\n",
      "Searching record 8 of set 1  | vila velha\n",
      "Searching record 9 of set 1  | jawhar\n",
      "Searching record 10 of set 1  | klichka\n",
      "Searching record 11 of set 1  | anori\n",
      "Searching record 12 of set 1  | malinovoye ozero\n",
      "Searching record 13 of set 1  | burica\n",
      "******************************\n",
      "Sorry couldn't find burica\n",
      "******************************\n",
      "Searching record 14 of set 1  | yichang\n",
      "Searching record 15 of set 1  | lagoa\n",
      "Searching record 16 of set 1  | mys shmidta\n",
      "******************************\n",
      "Sorry couldn't find mys shmidta\n",
      "******************************\n",
      "Searching record 17 of set 1  | mehamn\n",
      "Searching record 18 of set 1  | tumannyy\n",
      "******************************\n",
      "Sorry couldn't find tumannyy\n",
      "******************************\n",
      "Searching record 19 of set 1  | cabo san lucas\n",
      "Searching record 20 of set 1  | jalu\n",
      "Searching record 21 of set 1  | flinders\n",
      "Searching record 22 of set 1  | ancud\n",
      "Searching record 23 of set 1  | kuching\n",
      "Searching record 24 of set 1  | yulara\n",
      "Searching record 25 of set 1  | san patricio\n",
      "Searching record 26 of set 1  | katsuura\n",
      "Searching record 27 of set 1  | koboko\n",
      "Searching record 28 of set 1  | saint-michel-des-saints\n",
      "Searching record 29 of set 1  | puro\n",
      "Searching record 30 of set 1  | twin falls\n",
      "Searching record 31 of set 1  | bethel\n",
      "Searching record 32 of set 1  | ahipara\n",
      "Searching record 33 of set 1  | praia da vitoria\n",
      "Searching record 34 of set 1  | christchurch\n",
      "Searching record 35 of set 1  | tucumcari\n",
      "Searching record 36 of set 1  | tallahassee\n",
      "Searching record 37 of set 1  | seoul\n",
      "Searching record 38 of set 1  | zhangye\n",
      "Searching record 39 of set 1  | kinablangan\n",
      "Searching record 40 of set 1  | komsomolskiy\n",
      "Searching record 41 of set 1  | xiangdong\n",
      "******************************\n",
      "Sorry couldn't find xiangdong\n",
      "******************************\n",
      "Searching record 42 of set 1  | jamestown\n",
      "Searching record 43 of set 1  | mokhsogollokh\n",
      "Searching record 44 of set 1  | tuktoyaktuk\n",
      "Searching record 45 of set 1  | ostersund\n",
      "Searching record 46 of set 1  | champerico\n",
      "Searching record 47 of set 1  | sicuani\n",
      "Searching record 48 of set 1  | grand river south east\n",
      "******************************\n",
      "Sorry couldn't find grand river south east\n",
      "******************************\n",
      "Searching record 49 of set 1  | eucaliptus\n",
      "Searching record 50 of set 1  | baijiantan\n",
      "---------------------------------------------------------------------------\n",
      "Counter has reached 50, program will pause for 1 second before resuming\n",
      "---------------------------------------------------------------------------\n",
      "Searching record 1 of set 2  | mwanza\n",
      "Searching record 2 of set 2  | grand centre\n",
      "******************************\n",
      "Sorry couldn't find grand centre\n",
      "******************************\n",
      "Searching record 3 of set 2  | sao filipe\n",
      "Searching record 4 of set 2  | blythe\n",
      "Searching record 5 of set 2  | quesnel\n",
      "Searching record 6 of set 2  | north bend\n",
      "Searching record 7 of set 2  | umzimvubu\n",
      "******************************\n",
      "Sorry couldn't find umzimvubu\n",
      "******************************\n",
      "Searching record 8 of set 2  | margate\n",
      "Searching record 9 of set 2  | bocas del toro\n",
      "Searching record 10 of set 2  | charlestown\n",
      "Searching record 11 of set 2  | muisne\n",
      "Searching record 12 of set 2  | suhbaatar\n",
      "Searching record 13 of set 2  | timizart\n",
      "Searching record 14 of set 2  | moyale\n",
      "Searching record 15 of set 2  | ilulissat\n",
      "Searching record 16 of set 2  | cervo\n",
      "Searching record 17 of set 2  | henties bay\n",
      "Searching record 18 of set 2  | terrace bay\n",
      "Searching record 19 of set 2  | guerrero negro\n",
      "Searching record 20 of set 2  | arman\n",
      "Searching record 21 of set 2  | oktyabrskiy\n",
      "Searching record 22 of set 2  | dingle\n",
      "Searching record 23 of set 2  | belushya guba\n",
      "******************************\n",
      "Sorry couldn't find belushya guba\n",
      "******************************\n",
      "Searching record 24 of set 2  | daugavpils\n",
      "Searching record 25 of set 2  | siverek\n",
      "Searching record 26 of set 2  | kruisfontein\n",
      "Searching record 27 of set 2  | palasa\n",
      "Searching record 28 of set 2  | kamenskoye\n",
      "******************************\n",
      "Sorry couldn't find kamenskoye\n",
      "******************************\n",
      "Searching record 29 of set 2  | syamzha\n",
      "Searching record 30 of set 2  | amderma\n",
      "******************************\n",
      "Sorry couldn't find amderma\n",
      "******************************\n",
      "Searching record 31 of set 2  | pacific grove\n",
      "Searching record 32 of set 2  | alice springs\n",
      "Searching record 33 of set 2  | saleaula\n",
      "******************************\n",
      "Sorry couldn't find saleaula\n",
      "******************************\n",
      "Searching record 34 of set 2  | labuan\n",
      "Searching record 35 of set 2  | belaya gora\n",
      "Searching record 36 of set 2  | iquitos\n",
      "Searching record 37 of set 2  | rawatsar\n",
      "Searching record 38 of set 2  | boa vista\n",
      "Searching record 39 of set 2  | tazovskiy\n",
      "Searching record 40 of set 2  | mbini\n",
      "Searching record 41 of set 2  | colares\n",
      "Searching record 42 of set 2  | guamuchil\n",
      "Searching record 43 of set 2  | souillac\n",
      "Searching record 44 of set 2  | ejido\n",
      "Searching record 45 of set 2  | lavrentiya\n",
      "Searching record 46 of set 2  | shingu\n",
      "Searching record 47 of set 2  | beloha\n",
      "Searching record 48 of set 2  | khatanga\n",
      "Searching record 49 of set 2  | tuban\n",
      "Searching record 50 of set 2  | skjervoy\n",
      "---------------------------------------------------------------------------\n",
      "Counter has reached 50, program will pause for 1 second before resuming\n",
      "---------------------------------------------------------------------------\n",
      "Searching record 1 of set 3  | adrar\n",
      "Searching record 2 of set 3  | labranzagrande\n",
      "Searching record 3 of set 3  | airai\n",
      "Searching record 4 of set 3  | launceston\n",
      "Searching record 5 of set 3  | piacabucu\n",
      "Searching record 6 of set 3  | nsanje\n",
      "Searching record 7 of set 3  | qasigiannguit\n",
      "Searching record 8 of set 3  | fairbanks\n",
      "Searching record 9 of set 3  | barrow\n",
      "Searching record 10 of set 3  | antalaha\n",
      "Searching record 11 of set 3  | oksfjord\n",
      "Searching record 12 of set 3  | orillia\n",
      "Searching record 13 of set 3  | haskovo\n",
      "Searching record 14 of set 3  | oranjemund\n",
      "Searching record 15 of set 3  | nevers\n",
      "Searching record 16 of set 3  | vaini\n",
      "Searching record 17 of set 3  | tiksi\n",
      "Searching record 18 of set 3  | shchelyayur\n",
      "******************************\n",
      "Sorry couldn't find shchelyayur\n",
      "******************************\n",
      "Searching record 19 of set 3  | barentsburg\n",
      "******************************\n",
      "Sorry couldn't find barentsburg\n",
      "******************************\n",
      "Searching record 20 of set 3  | laguna\n",
      "Searching record 21 of set 3  | castelfiorentino\n",
      "Searching record 22 of set 3  | pochutla\n",
      "Searching record 23 of set 3  | fort nelson\n",
      "Searching record 24 of set 3  | morris\n",
      "Searching record 25 of set 3  | takoradi\n",
      "Searching record 26 of set 3  | ulladulla\n",
      "Searching record 27 of set 3  | hit\n",
      "Searching record 28 of set 3  | port lincoln\n",
      "Searching record 29 of set 3  | sheregesh\n",
      "Searching record 30 of set 3  | cayenne\n",
      "Searching record 31 of set 3  | ludvika\n",
      "Searching record 32 of set 3  | caravelas\n",
      "Searching record 33 of set 3  | florianopolis\n",
      "Searching record 34 of set 3  | huanan\n",
      "Searching record 35 of set 3  | port-gentil\n",
      "Searching record 36 of set 3  | bontang\n",
      "Searching record 37 of set 3  | mitoc\n",
      "Searching record 38 of set 3  | vuktyl\n",
      "Searching record 39 of set 3  | kosamba\n",
      "Searching record 40 of set 3  | oriximina\n",
      "Searching record 41 of set 3  | provideniya\n",
      "Searching record 42 of set 3  | sentyabrskiy\n",
      "******************************\n",
      "Sorry couldn't find sentyabrskiy\n",
      "******************************\n",
      "Searching record 43 of set 3  | puerto ayora\n",
      "Searching record 44 of set 3  | new norfolk\n",
      "Searching record 45 of set 3  | buala\n",
      "Searching record 46 of set 3  | malakal\n",
      "Searching record 47 of set 3  | tamandare\n",
      "Searching record 48 of set 3  | pulaski\n",
      "Searching record 49 of set 3  | codrington\n",
      "Searching record 50 of set 3  | george town\n",
      "---------------------------------------------------------------------------\n"
     ]
    },
    {
     "name": "stdout",
     "output_type": "stream",
     "text": [
      "Counter has reached 50, program will pause for 1 second before resuming\n",
      "---------------------------------------------------------------------------\n",
      "Searching record 1 of set 4  | te anau\n",
      "Searching record 2 of set 4  | barcelos\n",
      "Searching record 3 of set 4  | ostrovnoy\n",
      "Searching record 4 of set 4  | taolanaro\n",
      "******************************\n",
      "Sorry couldn't find taolanaro\n",
      "******************************\n",
      "Searching record 5 of set 4  | saint-francois\n",
      "Searching record 6 of set 4  | tateyama\n",
      "Searching record 7 of set 4  | sur\n",
      "Searching record 8 of set 4  | lata\n",
      "Searching record 9 of set 4  | tabuan\n",
      "Searching record 10 of set 4  | ola\n",
      "Searching record 11 of set 4  | balad\n",
      "Searching record 12 of set 4  | ryotsu\n",
      "Searching record 13 of set 4  | ngunguru\n",
      "Searching record 14 of set 4  | louisbourg\n",
      "******************************\n",
      "Sorry couldn't find louisbourg\n",
      "******************************\n",
      "Searching record 15 of set 4  | portland\n",
      "Searching record 16 of set 4  | tura\n",
      "Searching record 17 of set 4  | porto santo\n",
      "Searching record 18 of set 4  | berlevag\n",
      "Searching record 19 of set 4  | najran\n",
      "Searching record 20 of set 4  | arroyo\n",
      "Searching record 21 of set 4  | marsa matruh\n",
      "Searching record 22 of set 4  | aksu\n",
      "Searching record 23 of set 4  | comodoro rivadavia\n",
      "Searching record 24 of set 4  | hasaki\n",
      "Searching record 25 of set 4  | eldikan\n",
      "******************************\n",
      "Sorry couldn't find eldikan\n",
      "******************************\n",
      "Searching record 26 of set 4  | punta de bombon\n",
      "Searching record 27 of set 4  | roma\n",
      "Searching record 28 of set 4  | ribeira grande\n",
      "Searching record 29 of set 4  | klaksvik\n",
      "Searching record 30 of set 4  | byron bay\n",
      "Searching record 31 of set 4  | muros\n",
      "Searching record 32 of set 4  | kalabo\n",
      "Searching record 33 of set 4  | valparaiso\n",
      "Searching record 34 of set 4  | alta gracia\n",
      "Searching record 35 of set 4  | tanout\n",
      "Searching record 36 of set 4  | adolfo lopez mateos\n",
      "Searching record 37 of set 4  | ballina\n",
      "Searching record 38 of set 4  | carnarvon\n",
      "Searching record 39 of set 4  | hithadhoo\n",
      "Searching record 40 of set 4  | tumut\n",
      "Searching record 41 of set 4  | priiskovyy\n",
      "Searching record 42 of set 4  | pemangkat\n",
      "Searching record 43 of set 4  | natitingou\n",
      "Searching record 44 of set 4  | yebaishou\n",
      "Searching record 45 of set 4  | alexandria\n",
      "Searching record 46 of set 4  | khani\n",
      "Searching record 47 of set 4  | castro\n",
      "Searching record 48 of set 4  | chuy\n",
      "Searching record 49 of set 4  | constitucion\n",
      "Searching record 50 of set 4  | ayan\n",
      "---------------------------------------------------------------------------\n",
      "Counter has reached 50, program will pause for 1 second before resuming\n",
      "---------------------------------------------------------------------------\n",
      "Searching record 1 of set 5  | nikolskoye\n",
      "Searching record 2 of set 5  | jaque\n",
      "Searching record 3 of set 5  | asheboro\n",
      "Searching record 4 of set 5  | saint-joseph\n",
      "Searching record 5 of set 5  | severo-kurilsk\n",
      "Searching record 6 of set 5  | ust-tsilma\n",
      "Searching record 7 of set 5  | lulea\n",
      "Searching record 8 of set 5  | whitehorse\n",
      "Searching record 9 of set 5  | north platte\n",
      "Searching record 10 of set 5  | vaitape\n",
      "Searching record 11 of set 5  | chicama\n",
      "Searching record 12 of set 5  | damietta\n",
      "Searching record 13 of set 5  | pirovskoye\n",
      "Searching record 14 of set 5  | la palma\n",
      "Searching record 15 of set 5  | tessalit\n",
      "Searching record 16 of set 5  | pacifica\n",
      "Searching record 17 of set 5  | moree\n",
      "Searching record 18 of set 5  | lubango\n",
      "Searching record 19 of set 5  | port hedland\n",
      "Searching record 20 of set 5  | armacao dos buzios\n",
      "******************************\n",
      "Sorry couldn't find armacao dos buzios\n",
      "******************************\n",
      "Searching record 21 of set 5  | ponta delgada\n",
      "Searching record 22 of set 5  | ystad\n",
      "Searching record 23 of set 5  | hommelvik\n",
      "Searching record 24 of set 5  | kahului\n",
      "Searching record 25 of set 5  | longyearbyen\n",
      "Searching record 26 of set 5  | vanavara\n",
      "Searching record 27 of set 5  | hilo\n",
      "Searching record 28 of set 5  | achisay\n",
      "******************************\n",
      "Sorry couldn't find achisay\n",
      "******************************\n",
      "Searching record 29 of set 5  | saskylakh\n",
      "Searching record 30 of set 5  | brae\n",
      "Searching record 31 of set 5  | ayna\n",
      "Searching record 32 of set 5  | belmonte\n",
      "Searching record 33 of set 5  | talah\n",
      "******************************\n",
      "Sorry couldn't find talah\n",
      "******************************\n",
      "Searching record 34 of set 5  | victoria\n",
      "Searching record 35 of set 5  | norman wells\n",
      "Searching record 36 of set 5  | pop\n",
      "Searching record 37 of set 5  | puerto baquerizo moreno\n",
      "Searching record 38 of set 5  | atar\n",
      "Searching record 39 of set 5  | pevek\n",
      "Searching record 40 of set 5  | itarema\n",
      "Searching record 41 of set 5  | kafr yuba\n",
      "******************************\n",
      "Sorry couldn't find kafr yuba\n",
      "******************************\n",
      "Searching record 42 of set 5  | mount gambier\n",
      "Searching record 43 of set 5  | lompoc\n",
      "Searching record 44 of set 5  | arraial do cabo\n",
      "Searching record 45 of set 5  | sitka\n",
      "Searching record 46 of set 5  | butaritari\n",
      "Searching record 47 of set 5  | nakapiripirit\n",
      "Searching record 48 of set 5  | nizhneyansk\n",
      "******************************\n",
      "Sorry couldn't find nizhneyansk\n",
      "******************************\n",
      "Searching record 49 of set 5  | port alfred\n",
      "Searching record 50 of set 5  | mahajanga\n",
      "---------------------------------------------------------------------------\n",
      "Counter has reached 50, program will pause for 1 second before resuming\n",
      "---------------------------------------------------------------------------\n",
      "Searching record 1 of set 6  | sortavala\n",
      "Searching record 2 of set 6  | sindor\n",
      "Searching record 3 of set 6  | mackay\n",
      "Searching record 4 of set 6  | santa isabel\n",
      "Searching record 5 of set 6  | bengkulu\n",
      "Searching record 6 of set 6  | kiama\n",
      "Searching record 7 of set 6  | upernavik\n",
      "Searching record 8 of set 6  | kapoeta\n",
      "Searching record 9 of set 6  | biu\n",
      "Searching record 10 of set 6  | lagos\n",
      "Searching record 11 of set 6  | pedernales\n",
      "Searching record 12 of set 6  | xixiang\n",
      "Searching record 13 of set 6  | lasa\n",
      "Searching record 14 of set 6  | mizdah\n",
      "Searching record 15 of set 6  | fare\n",
      "Searching record 16 of set 6  | kapaa\n",
      "Searching record 17 of set 6  | necochea\n",
      "Searching record 18 of set 6  | inhambane\n",
      "Searching record 19 of set 6  | qaanaaq\n",
      "Searching record 20 of set 6  | camocim\n",
      "Searching record 21 of set 6  | lazaro cardenas\n",
      "Searching record 22 of set 6  | meulaboh\n",
      "Searching record 23 of set 6  | basoko\n",
      "Searching record 24 of set 6  | yumen\n",
      "Searching record 25 of set 6  | kroya\n",
      "Searching record 26 of set 6  | bend\n",
      "Searching record 27 of set 6  | east london\n",
      "Searching record 28 of set 6  | touros\n",
      "Searching record 29 of set 6  | cidreira\n",
      "Searching record 30 of set 6  | abalak\n",
      "Searching record 31 of set 6  | paamiut\n",
      "Searching record 32 of set 6  | addi ugri\n",
      "******************************\n",
      "Sorry couldn't find addi ugri\n",
      "******************************\n",
      "Searching record 33 of set 6  | isabela\n",
      "Searching record 34 of set 6  | dzemul\n",
      "Searching record 35 of set 6  | ishigaki\n",
      "Searching record 36 of set 6  | bandipur\n",
      "Searching record 37 of set 6  | batagay-alyta\n",
      "Searching record 38 of set 6  | itoman\n",
      "Searching record 39 of set 6  | magdagachi\n",
      "Searching record 40 of set 6  | mar del plata\n",
      "Searching record 41 of set 6  | mrirt\n",
      "******************************\n",
      "Sorry couldn't find mrirt\n",
      "******************************\n",
      "Searching record 42 of set 6  | longlac\n",
      "******************************\n",
      "Sorry couldn't find longlac\n",
      "******************************\n",
      "Searching record 43 of set 6  | kandi\n",
      "Searching record 44 of set 6  | haines junction\n",
      "Searching record 45 of set 6  | jichisu de jos\n",
      "Searching record 46 of set 6  | luang prabang\n",
      "Searching record 47 of set 6  | middelburg\n",
      "Searching record 48 of set 6  | alotau\n",
      "******************************\n",
      "Sorry couldn't find alotau\n",
      "******************************\n",
      "Searching record 49 of set 6  | vao\n",
      "Searching record 50 of set 6  | bossembele\n",
      "******************************\n",
      "Sorry couldn't find bossembele\n",
      "******************************\n",
      "---------------------------------------------------------------------------\n",
      "Counter has reached 50, program will pause for 1 second before resuming\n",
      "---------------------------------------------------------------------------\n",
      "Searching record 1 of set 7  | pangnirtung\n",
      "Searching record 2 of set 7  | beaverlodge\n"
     ]
    },
    {
     "name": "stdout",
     "output_type": "stream",
     "text": [
      "Searching record 3 of set 7  | batemans bay\n",
      "Searching record 4 of set 7  | la ciotat\n",
      "Searching record 5 of set 7  | do gonbadan\n",
      "Searching record 6 of set 7  | vardo\n",
      "Searching record 7 of set 7  | atuona\n",
      "Searching record 8 of set 7  | vredefort\n",
      "Searching record 9 of set 7  | misratah\n",
      "Searching record 10 of set 7  | paradwip\n",
      "******************************\n",
      "Sorry couldn't find paradwip\n",
      "******************************\n",
      "Searching record 11 of set 7  | baloi\n",
      "Searching record 12 of set 7  | baykit\n",
      "Searching record 13 of set 7  | funadhoo\n",
      "Searching record 14 of set 7  | karauzyak\n",
      "******************************\n",
      "Sorry couldn't find karauzyak\n",
      "******************************\n",
      "Searching record 15 of set 7  | georgetown\n",
      "Searching record 16 of set 7  | santa maria\n",
      "Searching record 17 of set 7  | puerto madero\n",
      "Searching record 18 of set 7  | egvekinot\n",
      "Searching record 19 of set 7  | shirokiy\n",
      "Searching record 20 of set 7  | mbandaka\n",
      "Searching record 21 of set 7  | ler\n",
      "Searching record 22 of set 7  | ponta do sol\n",
      "Searching record 23 of set 7  | bokspits\n",
      "******************************\n",
      "Sorry couldn't find bokspits\n",
      "******************************\n",
      "Searching record 24 of set 7  | kudahuvadhoo\n",
      "Searching record 25 of set 7  | bluff\n",
      "Searching record 26 of set 7  | key largo\n",
      "Searching record 27 of set 7  | nalut\n",
      "Searching record 28 of set 7  | saint-philippe\n",
      "Searching record 29 of set 7  | coquimbo\n",
      "Searching record 30 of set 7  | suntar\n",
      "Searching record 31 of set 7  | trinidad\n",
      "Searching record 32 of set 7  | petropavlovsk-kamchatskiy\n",
      "Searching record 33 of set 7  | udachnyy\n",
      "Searching record 34 of set 7  | sibolga\n",
      "Searching record 35 of set 7  | boysun\n",
      "Searching record 36 of set 7  | karamay\n",
      "******************************\n",
      "Sorry couldn't find karamay\n",
      "******************************\n",
      "Searching record 37 of set 7  | sorland\n",
      "Searching record 38 of set 7  | sulina\n",
      "Searching record 39 of set 7  | manavalakurichi\n",
      "Searching record 40 of set 7  | lithgow\n",
      "Searching record 41 of set 7  | turukhansk\n",
      "Searching record 42 of set 7  | queanbeyan\n",
      "Searching record 43 of set 7  | satitoa\n",
      "******************************\n",
      "Sorry couldn't find satitoa\n",
      "******************************\n",
      "Searching record 44 of set 7  | morehead\n",
      "Searching record 45 of set 7  | belozerskoye\n",
      "Searching record 46 of set 7  | nis\n",
      "Searching record 47 of set 7  | marawi\n",
      "Searching record 48 of set 7  | bantogon\n",
      "Searching record 49 of set 7  | nizwa\n",
      "Searching record 50 of set 7  | beisfjord\n",
      "---------------------------------------------------------------------------\n",
      "Counter has reached 50, program will pause for 1 second before resuming\n",
      "---------------------------------------------------------------------------\n",
      "Searching record 1 of set 8  | albenga\n",
      "Searching record 2 of set 8  | fortuna\n",
      "Searching record 3 of set 8  | zemio\n",
      "Searching record 4 of set 8  | iralaya\n",
      "Searching record 5 of set 8  | nabire\n",
      "Searching record 6 of set 8  | kavieng\n",
      "Searching record 7 of set 8  | xiaoshi\n",
      "Searching record 8 of set 8  | pangai\n",
      "Searching record 9 of set 8  | wanning\n",
      "Searching record 10 of set 8  | broome\n",
      "Searching record 11 of set 8  | freeport\n",
      "Searching record 12 of set 8  | kieta\n",
      "Searching record 13 of set 8  | ustye\n",
      "Searching record 14 of set 8  | vargashi\n",
      "Searching record 15 of set 8  | chokurdakh\n",
      "Searching record 16 of set 8  | maniitsoq\n",
      "Searching record 17 of set 8  | camacha\n",
      "Searching record 18 of set 8  | viedma\n",
      "Searching record 19 of set 8  | avera\n",
      "Searching record 20 of set 8  | marcona\n",
      "******************************\n",
      "Sorry couldn't find marcona\n",
      "******************************\n",
      "Searching record 21 of set 8  | nushki\n",
      "Searching record 22 of set 8  | marzuq\n",
      "Searching record 23 of set 8  | samarinda\n",
      "Searching record 24 of set 8  | plettenberg bay\n",
      "Searching record 25 of set 8  | tiarei\n",
      "Searching record 26 of set 8  | arrecife\n",
      "Searching record 27 of set 8  | xining\n",
      "Searching record 28 of set 8  | san quintin\n",
      "Searching record 29 of set 8  | suwalki\n",
      "Searching record 30 of set 8  | mahebourg\n",
      "Searching record 31 of set 8  | warqla\n",
      "******************************\n",
      "Sorry couldn't find warqla\n",
      "******************************\n",
      "Searching record 32 of set 8  | vostok\n",
      "Searching record 33 of set 8  | barra patuca\n",
      "Searching record 34 of set 8  | chichicapam\n",
      "******************************\n",
      "Sorry couldn't find chichicapam\n",
      "******************************\n",
      "Searching record 35 of set 8  | narsaq\n",
      "Searching record 36 of set 8  | talnakh\n",
      "Searching record 37 of set 8  | impfondo\n",
      "Searching record 38 of set 8  | karaul\n",
      "******************************\n",
      "Sorry couldn't find karaul\n",
      "******************************\n",
      "Searching record 39 of set 8  | kargopol\n",
      "Searching record 40 of set 8  | goure\n",
      "Searching record 41 of set 8  | lorengau\n",
      "Searching record 42 of set 8  | logansport\n",
      "Searching record 43 of set 8  | avarua\n",
      "Searching record 44 of set 8  | ketchikan\n",
      "Searching record 45 of set 8  | mayo\n",
      "Searching record 46 of set 8  | palmer\n",
      "Searching record 47 of set 8  | prince rupert\n",
      "Searching record 48 of set 8  | ondjiva\n",
      "Searching record 49 of set 8  | yerbogachen\n",
      "Searching record 50 of set 8  | qaqortoq\n",
      "---------------------------------------------------------------------------\n",
      "Counter has reached 50, program will pause for 1 second before resuming\n",
      "---------------------------------------------------------------------------\n",
      "Searching record 1 of set 9  | mitsamiouli\n",
      "Searching record 2 of set 9  | nampula\n",
      "Searching record 3 of set 9  | ushuaia\n",
      "Searching record 4 of set 9  | krasnyy chikoy\n",
      "Searching record 5 of set 9  | hofn\n",
      "Searching record 6 of set 9  | moron\n",
      "Searching record 7 of set 9  | biloela\n",
      "Searching record 8 of set 9  | yar-sale\n",
      "Searching record 9 of set 9  | faya\n",
      "Searching record 10 of set 9  | auburn hills\n",
      "Searching record 11 of set 9  | cururupu\n",
      "Searching record 12 of set 9  | rochegda\n",
      "Searching record 13 of set 9  | nishihara\n",
      "Searching record 14 of set 9  | mataura\n",
      "Searching record 15 of set 9  | balaipungut\n",
      "Searching record 16 of set 9  | tortoli\n",
      "Searching record 17 of set 9  | magadan\n",
      "Searching record 18 of set 9  | kamakwie\n",
      "Searching record 19 of set 9  | inirida\n",
      "Searching record 20 of set 9  | nouadhibou\n",
      "Searching record 21 of set 9  | erenhot\n",
      "Searching record 22 of set 9  | katherine\n",
      "Searching record 23 of set 9  | punta arenas\n",
      "Searching record 24 of set 9  | emba\n",
      "Searching record 25 of set 9  | port hardy\n",
      "Searching record 26 of set 9  | hami\n",
      "Searching record 27 of set 9  | nanortalik\n",
      "Searching record 28 of set 9  | murgab\n",
      "Searching record 29 of set 9  | thompson\n",
      "Searching record 30 of set 9  | torbay\n",
      "Searching record 31 of set 9  | luba\n",
      "Searching record 32 of set 9  | belyy yar\n",
      "Searching record 33 of set 9  | illoqqortoormiut\n",
      "******************************\n",
      "Sorry couldn't find illoqqortoormiut\n",
      "******************************\n",
      "Searching record 34 of set 9  | matara\n",
      "Searching record 35 of set 9  | vaitupu\n",
      "******************************\n",
      "Sorry couldn't find vaitupu\n",
      "******************************\n",
      "Searching record 36 of set 9  | golden\n",
      "Searching record 37 of set 9  | sabha\n",
      "Searching record 38 of set 9  | bonavista\n",
      "Searching record 39 of set 9  | acapulco\n",
      "Searching record 40 of set 9  | swellendam\n",
      "Searching record 41 of set 9  | buraydah\n",
      "Searching record 42 of set 9  | sao joao da barra\n",
      "Searching record 43 of set 9  | quimper\n",
      "Searching record 44 of set 9  | khovu-aksy\n",
      "Searching record 45 of set 9  | jizan\n",
      "Searching record 46 of set 9  | san cristobal\n",
      "Searching record 47 of set 9  | aquidauana\n",
      "Searching record 48 of set 9  | yellowknife\n",
      "Searching record 49 of set 9  | chapais\n",
      "Searching record 50 of set 9  | lysva\n",
      "---------------------------------------------------------------------------\n",
      "Counter has reached 50, program will pause for 1 second before resuming\n",
      "---------------------------------------------------------------------------\n",
      "Searching record 1 of set 10  | gua musang\n",
      "Searching record 2 of set 10  | ha tinh\n",
      "Searching record 3 of set 10  | havre-saint-pierre\n",
      "Searching record 4 of set 10  | opelousas\n",
      "Searching record 5 of set 10  | tashara\n",
      "Searching record 6 of set 10  | tecpan\n",
      "Searching record 7 of set 10  | punta alta\n",
      "Searching record 8 of set 10  | vangaindrano\n",
      "Searching record 9 of set 10  | hermanus\n",
      "Searching record 10 of set 10  | dostpur\n",
      "Searching record 11 of set 10  | hovd\n"
     ]
    },
    {
     "name": "stdout",
     "output_type": "stream",
     "text": [
      "Searching record 12 of set 10  | iqaluit\n",
      "Searching record 13 of set 10  | tiznit\n",
      "Searching record 14 of set 10  | stornoway\n",
      "Searching record 15 of set 10  | lockhart\n",
      "Searching record 16 of set 10  | santiago de cuba\n",
      "Searching record 17 of set 10  | luderitz\n",
      "Searching record 18 of set 10  | cherskiy\n",
      "Searching record 19 of set 10  | samarai\n",
      "Searching record 20 of set 10  | san vicente de canete\n",
      "Searching record 21 of set 10  | shelburne\n",
      "Searching record 22 of set 10  | cullman\n",
      "Searching record 23 of set 10  | trincomalee\n",
      "Searching record 24 of set 10  | kununurra\n",
      "Searching record 25 of set 10  | geraldton\n",
      "Searching record 26 of set 10  | tubinskiy\n",
      "Searching record 27 of set 10  | shenjiamen\n",
      "Searching record 28 of set 10  | leninskoye\n",
      "Searching record 29 of set 10  | waingapu\n",
      "Searching record 30 of set 10  | mpika\n",
      "Searching record 31 of set 10  | haapiti\n",
      "Searching record 32 of set 10  | olafsvik\n",
      "Searching record 33 of set 10  | kaitangata\n",
      "Searching record 34 of set 10  | busselton\n",
      "Searching record 35 of set 10  | albany\n",
      "Searching record 36 of set 10  | biak\n",
      "Searching record 37 of set 10  | chapada dos guimaraes\n",
      "Searching record 38 of set 10  | kaeo\n",
      "Searching record 39 of set 10  | cumaribo\n",
      "******************************\n",
      "Sorry couldn't find cumaribo\n",
      "******************************\n",
      "Searching record 40 of set 10  | toccoa\n",
      "Searching record 41 of set 10  | anadyr\n",
      "Searching record 42 of set 10  | eskasem\n",
      "******************************\n",
      "Sorry couldn't find eskasem\n",
      "******************************\n",
      "Searching record 43 of set 10  | flin flon\n",
      "Searching record 44 of set 10  | zhigansk\n",
      "Searching record 45 of set 10  | padang\n",
      "Searching record 46 of set 10  | salinas\n",
      "Searching record 47 of set 10  | tarudant\n",
      "******************************\n",
      "Sorry couldn't find tarudant\n",
      "******************************\n",
      "Searching record 48 of set 10  | bambous virieux\n",
      "Searching record 49 of set 10  | imbituba\n",
      "Searching record 50 of set 10  | san jeronimo\n",
      "---------------------------------------------------------------------------\n",
      "Counter has reached 50, program will pause for 1 second before resuming\n",
      "---------------------------------------------------------------------------\n",
      "Searching record 1 of set 11  | esperance\n",
      "Searching record 2 of set 11  | rikitea\n",
      "Searching record 3 of set 11  | chavakkad\n",
      "Searching record 4 of set 11  | bolama\n",
      "Searching record 5 of set 11  | tasiilaq\n",
      "Searching record 6 of set 11  | bima\n",
      "Searching record 7 of set 11  | alyangula\n",
      "Searching record 8 of set 11  | kozhva\n",
      "Searching record 9 of set 11  | sokoni\n",
      "Searching record 10 of set 11  | jeremie\n",
      "Searching record 11 of set 11  | nabinagar\n",
      "Searching record 12 of set 11  | rodrigues alves\n",
      "Searching record 13 of set 11  | rudnogorsk\n",
      "Searching record 14 of set 11  | tsihombe\n",
      "******************************\n",
      "Sorry couldn't find tsihombe\n",
      "******************************\n",
      "Searching record 15 of set 11  | delta del tigre\n",
      "Searching record 16 of set 11  | tarnogskiy gorodok\n",
      "Searching record 17 of set 11  | merauke\n",
      "Searching record 18 of set 11  | hobart\n",
      "Searching record 19 of set 11  | estelle\n",
      "Searching record 20 of set 11  | mareeba\n",
      "Searching record 21 of set 11  | tire\n",
      "Searching record 22 of set 11  | dikson\n",
      "Searching record 23 of set 11  | cape town\n",
      "Searching record 24 of set 11  | palabuhanratu\n",
      "******************************\n",
      "Sorry couldn't find palabuhanratu\n",
      "******************************\n",
      "Searching record 25 of set 11  | rio claro\n",
      "Searching record 26 of set 11  | yeppoon\n",
      "Searching record 27 of set 11  | sobolevo\n",
      "Searching record 28 of set 11  | lebu\n",
      "Searching record 29 of set 11  | hohhot\n",
      "Searching record 30 of set 11  | port moresby\n",
      "Searching record 31 of set 11  | gweta\n",
      "Searching record 32 of set 11  | mao\n",
      "Searching record 33 of set 11  | sinnamary\n",
      "Searching record 34 of set 11  | ust-nera\n",
      "Searching record 35 of set 11  | caleta de carquin\n",
      "Searching record 36 of set 11  | aykhal\n",
      "Searching record 37 of set 11  | aksay\n",
      "Searching record 38 of set 11  | sakakah\n",
      "Searching record 39 of set 11  | luwuk\n",
      "Searching record 40 of set 11  | tagusao\n",
      "Searching record 41 of set 11  | luanda\n",
      "Searching record 42 of set 11  | mae hong son\n",
      "Searching record 43 of set 11  | inderborskiy\n",
      "******************************\n",
      "Sorry couldn't find inderborskiy\n",
      "******************************\n",
      "Searching record 44 of set 11  | la ronge\n",
      "Searching record 45 of set 11  | fujin\n",
      "Searching record 46 of set 11  | kualakapuas\n",
      "Searching record 47 of set 11  | asyut\n",
      "Searching record 48 of set 11  | gamba\n",
      "Searching record 49 of set 11  | ziyang\n",
      "Searching record 50 of set 11  | dong hoi\n",
      "---------------------------------------------------------------------------\n",
      "Counter has reached 50, program will pause for 1 second before resuming\n",
      "---------------------------------------------------------------------------\n",
      "Searching record 1 of set 12  | kindu\n",
      "Searching record 2 of set 12  | jabiru\n",
      "******************************\n",
      "Sorry couldn't find jabiru\n",
      "******************************\n",
      "Searching record 3 of set 12  | balkanabat\n",
      "Searching record 4 of set 12  | kadykchan\n",
      "******************************\n",
      "Sorry couldn't find kadykchan\n",
      "******************************\n",
      "Searching record 5 of set 12  | bilma\n",
      "Searching record 6 of set 12  | babanusah\n",
      "******************************\n",
      "Sorry couldn't find babanusah\n",
      "******************************\n",
      "Searching record 7 of set 12  | kodiak\n",
      "Searching record 8 of set 12  | new waterford\n",
      "Searching record 9 of set 12  | gao\n",
      "Searching record 10 of set 12  | honningsvag\n",
      "Searching record 11 of set 12  | casino\n",
      "Searching record 12 of set 12  | wagar\n",
      "Searching record 13 of set 12  | mergui\n",
      "******************************\n",
      "Sorry couldn't find mergui\n",
      "******************************\n",
      "Searching record 14 of set 12  | junnar\n",
      "Searching record 15 of set 12  | namibe\n",
      "Searching record 16 of set 12  | suoyarvi\n",
      "Searching record 17 of set 12  | bandundu\n",
      "Searching record 18 of set 12  | husavik\n",
      "Searching record 19 of set 12  | pozo colorado\n",
      "Searching record 20 of set 12  | kamenka\n",
      "Searching record 21 of set 12  | sundumbili\n",
      "Searching record 22 of set 12  | rio grande city\n",
      "Searching record 23 of set 12  | cockburn harbour\n",
      "******************************\n",
      "Sorry couldn't find cockburn harbour\n",
      "******************************\n",
      "Searching record 24 of set 12  | sungaipenuh\n",
      "Searching record 25 of set 12  | attawapiskat\n",
      "******************************\n",
      "Sorry couldn't find attawapiskat\n",
      "******************************\n",
      "Searching record 26 of set 12  | jibuti\n",
      "Searching record 27 of set 12  | banff\n",
      "Searching record 28 of set 12  | beringovskiy\n",
      "Searching record 29 of set 12  | gat\n",
      "Searching record 30 of set 12  | san carlos de bariloche\n",
      "Searching record 31 of set 12  | dunedin\n",
      "Searching record 32 of set 12  | carutapera\n",
      "Searching record 33 of set 12  | leningradskiy\n",
      "Searching record 34 of set 12  | kalyazin\n",
      "Searching record 35 of set 12  | srednekolymsk\n",
      "Searching record 36 of set 12  | nguiu\n",
      "******************************\n",
      "Sorry couldn't find nguiu\n",
      "******************************\n",
      "Searching record 37 of set 12  | faanui\n",
      "Searching record 38 of set 12  | martapura\n",
      "Searching record 39 of set 12  | pisco\n",
      "Searching record 40 of set 12  | awbari\n",
      "Searching record 41 of set 12  | clyde river\n",
      "Searching record 42 of set 12  | asau\n",
      "Searching record 43 of set 12  | bay roberts\n",
      "Searching record 44 of set 12  | tuatapere\n",
      "Searching record 45 of set 12  | kirakira\n",
      "Searching record 46 of set 12  | umm lajj\n",
      "Searching record 47 of set 12  | saint george\n",
      "Searching record 48 of set 12  | deputatskiy\n",
      "Searching record 49 of set 12  | saldanha\n",
      "Searching record 50 of set 12  | bredasdorp\n",
      "---------------------------------------------------------------------------\n",
      "Counter has reached 50, program will pause for 1 second before resuming\n",
      "---------------------------------------------------------------------------\n",
      "\n",
      "==============================\n",
      "Data Retrieval Complete\n",
      "==============================\n"
     ]
    }
   ],
   "source": [
    "counter=0\n",
    "record=1\n",
    "sets=1\n",
    "print(\"=\"*30)\n",
    "print(\"Begining Data Retrieval\")\n",
    "print(\"=\"*30)\n",
    "print()\n",
    "\n",
    "for index,row in cities.iterrows():\n",
    "    print(\"Searching record {} of set {}  | {}\".format(record,sets,row['Cities']))\n",
    "    url='http://api.openweathermap.org/data/2.5/weather?'\n",
    "    q=row['Cities']\n",
    "    params={'q':q, 'appid': weather_api_key,'units':'Imperial'}\n",
    "    response=requests.get(url,params=params).json()\n",
    "    try:\n",
    "        cities.loc[index,'Country']=response['sys']['country']\n",
    "        cities.loc[index,'Latitude'] = response['coord']['lat']\n",
    "        cities.loc[index,'Longitude'] = response['coord']['lon']\n",
    "        cities.loc[index,'Cloudiness'] = response['clouds']['all']\n",
    "        cities.loc[index,'Date'] = response['dt']\n",
    "        cities.loc[index,'Humidity'] = response['main']['humidity']  \n",
    "        cities.loc[index,'Max_Temp'] = response['main']['temp_max']\n",
    "        cities.loc[index,'Wind Speed'] = response['wind']['speed']\n",
    "    except KeyError:\n",
    "        print(\"*\"*30)\n",
    "        print(\"Sorry couldn't find {}\".format(row['Cities']))\n",
    "        print(\"*\"*30)\n",
    "        \n",
    "            \n",
    "    record+=1\n",
    "    if record ==51:\n",
    "        print(\"-\"*75)\n",
    "        print(\"Counter has reached 50, program will pause for 1 second before resuming\")\n",
    "        print(\"-\"*75)\n",
    "        record=1\n",
    "        sets+=1 \n",
    "        time.sleep(1)\n",
    "\n",
    "print()\n",
    "print(\"=\"*30)\n",
    "print(\"Data Retrieval Complete\")\n",
    "print(\"=\"*30)"
   ]
  },
  {
   "cell_type": "code",
   "execution_count": 16,
   "metadata": {},
   "outputs": [
    {
     "data": {
      "text/plain": [
       "(600, 9)"
      ]
     },
     "execution_count": 16,
     "metadata": {},
     "output_type": "execute_result"
    }
   ],
   "source": [
    "cities.shape"
   ]
  },
  {
   "cell_type": "code",
   "execution_count": 17,
   "metadata": {},
   "outputs": [],
   "source": [
    "df_cities=(cities[cities['Latitude']!=0])"
   ]
  },
  {
   "cell_type": "code",
   "execution_count": 18,
   "metadata": {},
   "outputs": [
    {
     "data": {
      "text/html": [
       "<div>\n",
       "<style scoped>\n",
       "    .dataframe tbody tr th:only-of-type {\n",
       "        vertical-align: middle;\n",
       "    }\n",
       "\n",
       "    .dataframe tbody tr th {\n",
       "        vertical-align: top;\n",
       "    }\n",
       "\n",
       "    .dataframe thead th {\n",
       "        text-align: right;\n",
       "    }\n",
       "</style>\n",
       "<table border=\"1\" class=\"dataframe\">\n",
       "  <thead>\n",
       "    <tr style=\"text-align: right;\">\n",
       "      <th></th>\n",
       "      <th>Cities</th>\n",
       "      <th>Country</th>\n",
       "      <th>Latitude</th>\n",
       "      <th>Longitude</th>\n",
       "      <th>Cloudiness</th>\n",
       "      <th>Date</th>\n",
       "      <th>Humidity</th>\n",
       "      <th>Max_Temp</th>\n",
       "      <th>Wind Speed</th>\n",
       "    </tr>\n",
       "  </thead>\n",
       "  <tbody>\n",
       "    <tr>\n",
       "      <th>0</th>\n",
       "      <td>taybad</td>\n",
       "      <td>IR</td>\n",
       "      <td>34.74</td>\n",
       "      <td>60.78</td>\n",
       "      <td>0</td>\n",
       "      <td>1600292876</td>\n",
       "      <td>33</td>\n",
       "      <td>63.37</td>\n",
       "      <td>13.13</td>\n",
       "    </tr>\n",
       "    <tr>\n",
       "      <th>1</th>\n",
       "      <td>port elizabeth</td>\n",
       "      <td>ZA</td>\n",
       "      <td>-33.92</td>\n",
       "      <td>25.57</td>\n",
       "      <td>3</td>\n",
       "      <td>1600292876</td>\n",
       "      <td>82</td>\n",
       "      <td>57.20</td>\n",
       "      <td>18.34</td>\n",
       "    </tr>\n",
       "    <tr>\n",
       "      <th>2</th>\n",
       "      <td>alofi</td>\n",
       "      <td>NU</td>\n",
       "      <td>-19.06</td>\n",
       "      <td>-169.92</td>\n",
       "      <td>75</td>\n",
       "      <td>1600292876</td>\n",
       "      <td>78</td>\n",
       "      <td>75.20</td>\n",
       "      <td>18.34</td>\n",
       "    </tr>\n",
       "    <tr>\n",
       "      <th>3</th>\n",
       "      <td>athabasca</td>\n",
       "      <td>CA</td>\n",
       "      <td>54.72</td>\n",
       "      <td>-113.29</td>\n",
       "      <td>2</td>\n",
       "      <td>1600292603</td>\n",
       "      <td>56</td>\n",
       "      <td>59.81</td>\n",
       "      <td>4.72</td>\n",
       "    </tr>\n",
       "    <tr>\n",
       "      <th>4</th>\n",
       "      <td>fort william</td>\n",
       "      <td>GB</td>\n",
       "      <td>56.82</td>\n",
       "      <td>-5.11</td>\n",
       "      <td>93</td>\n",
       "      <td>1600292876</td>\n",
       "      <td>83</td>\n",
       "      <td>54.00</td>\n",
       "      <td>3.15</td>\n",
       "    </tr>\n",
       "  </tbody>\n",
       "</table>\n",
       "</div>"
      ],
      "text/plain": [
       "           Cities Country  Latitude  Longitude  Cloudiness        Date  \\\n",
       "0          taybad      IR     34.74      60.78           0  1600292876   \n",
       "1  port elizabeth      ZA    -33.92      25.57           3  1600292876   \n",
       "2           alofi      NU    -19.06    -169.92          75  1600292876   \n",
       "3       athabasca      CA     54.72    -113.29           2  1600292603   \n",
       "4    fort william      GB     56.82      -5.11          93  1600292876   \n",
       "\n",
       "   Humidity  Max_Temp  Wind Speed  \n",
       "0        33     63.37       13.13  \n",
       "1        82     57.20       18.34  \n",
       "2        78     75.20       18.34  \n",
       "3        56     59.81        4.72  \n",
       "4        83     54.00        3.15  "
      ]
     },
     "execution_count": 18,
     "metadata": {},
     "output_type": "execute_result"
    }
   ],
   "source": [
    "df_cities.head()"
   ]
  },
  {
   "cell_type": "code",
   "execution_count": 19,
   "metadata": {},
   "outputs": [
    {
     "data": {
      "text/plain": [
       "(549, 9)"
      ]
     },
     "execution_count": 19,
     "metadata": {},
     "output_type": "execute_result"
    }
   ],
   "source": [
    "df_cities.shape"
   ]
  },
  {
   "cell_type": "code",
   "execution_count": 20,
   "metadata": {},
   "outputs": [],
   "source": [
    "# output_file=os.path.join('cities_df.csv')\n",
    "# df_cities.to_csv(output_file,index=False,header=True)"
   ]
  },
  {
   "cell_type": "code",
   "execution_count": 21,
   "metadata": {},
   "outputs": [],
   "source": [
    "#Creating Variables for Scatter Plots\n",
    "lat=df_cities['Latitude']\n",
    "humidity=df_cities['Humidity']\n",
    "cloudiness=df_cities['Cloudiness']\n",
    "wind_speed=df_cities['Wind Speed']\n",
    "temp=df_cities['Max_Temp']"
   ]
  },
  {
   "cell_type": "markdown",
   "metadata": {},
   "source": [
    "### LATITUDE VS TEMPERATURE"
   ]
  },
  {
   "cell_type": "code",
   "execution_count": 22,
   "metadata": {},
   "outputs": [
    {
     "data": {
      "text/plain": [
       "(-0.3388632829882345, 3.2273696203870974e-16)"
      ]
     },
     "execution_count": 22,
     "metadata": {},
     "output_type": "execute_result"
    },
    {
     "data": {
      "image/png": "[encoded data removed]",
      "text/plain": [
       "<Figure size 432x288 with 1 Axes>"
      ]
     },
     "metadata": {
      "needs_background": "light"
     },
     "output_type": "display_data"
    }
   ],
   "source": [
    "f1=plt.scatter(lat,temp)\n",
    "plt.ylabel('Max TEMPERATURE (F)')\n",
    "plt.xlabel('LATITUDE')\n",
    "plt.ylim(30,110)\n",
    "plt.title('Latitude vs Temperature Plot')\n",
    "corr=sts.pearsonr(temp,lat);\n",
    "corr\n",
    "\n",
    "#plt.savefig('LatvsTemp')"
   ]
  },
  {
   "cell_type": "markdown",
   "metadata": {},
   "source": [
    "### We can see that temperature rises as we move towards the equator and goes down as we move away"
   ]
  },
  {
   "cell_type": "markdown",
   "metadata": {},
   "source": [
    "### LATITUDE VS HUMIDITY"
   ]
  },
  {
   "cell_type": "code",
   "execution_count": 23,
   "metadata": {},
   "outputs": [
    {
     "data": {
      "text/plain": [
       "(0.018786942046775636, 0.6604966430749798)"
      ]
     },
     "execution_count": 23,
     "metadata": {},
     "output_type": "execute_result"
    },
    {
     "data": {
      "image/png": "[encoded data removed]",
      "text/plain": [
       "<Figure size 432x288 with 1 Axes>"
      ]
     },
     "metadata": {
      "needs_background": "light"
     },
     "output_type": "display_data"
    }
   ],
   "source": [
    "plt.scatter(lat,humidity)\n",
    "plt.ylabel('HUMIDITY (%)')\n",
    "plt.xlabel('LATITUDE')\n",
    "plt.title('LATITUDE vs HUMIDITY Plot')\n",
    "corr=sts.pearsonr(humidity,lat);\n",
    "corr\n",
    "#plt.savefig('LatvsHum')"
   ]
  },
  {
   "cell_type": "markdown",
   "metadata": {},
   "source": [
    "### Since p-value <<< , results are statistically significant, therfore it is difficult to determine relationship between latitude and humidity"
   ]
  },
  {
   "cell_type": "markdown",
   "metadata": {},
   "source": [
    "### LATITUDE VS CLOUDINESS"
   ]
  },
  {
   "cell_type": "code",
   "execution_count": 24,
   "metadata": {},
   "outputs": [
    {
     "data": {
      "text/plain": [
       "(0.14348196448445794, 0.0007470886284313711)"
      ]
     },
     "execution_count": 24,
     "metadata": {},
     "output_type": "execute_result"
    },
    {
     "data": {
      "image/png": "[encoded data removed]",
      "text/plain": [
       "<Figure size 432x288 with 1 Axes>"
      ]
     },
     "metadata": {
      "needs_background": "light"
     },
     "output_type": "display_data"
    }
   ],
   "source": [
    "plt.scatter(lat,cloudiness)\n",
    "plt.ylabel('CLOUDINESS (%)')\n",
    "plt.xlabel('LATITUDE')\n",
    "plt.title('LATTITUDE vs CLOUDINESS Plot')\n",
    "corr=sts.pearsonr(cloudiness,lat);\n",
    "corr\n",
    "#plt.savefig('LatvsCloud')"
   ]
  },
  {
   "cell_type": "markdown",
   "metadata": {},
   "source": [
    "### Cloudiness is evenly spread and symmetrical in patterns in the northen and southern hemisphere"
   ]
  },
  {
   "cell_type": "markdown",
   "metadata": {},
   "source": [
    "### LATITUDE VS WIND SPEED"
   ]
  },
  {
   "cell_type": "code",
   "execution_count": 25,
   "metadata": {},
   "outputs": [
    {
     "data": {
      "text/plain": [
       "(-0.055817151810992505, 0.19159507276787519)"
      ]
     },
     "execution_count": 25,
     "metadata": {},
     "output_type": "execute_result"
    },
    {
     "data": {
      "image/png": "[encoded data removed]",
      "text/plain": [
       "<Figure size 432x288 with 1 Axes>"
      ]
     },
     "metadata": {
      "needs_background": "light"
     },
     "output_type": "display_data"
    }
   ],
   "source": [
    "plt.scatter(lat,wind_speed)\n",
    "plt.xlabel('LATITUDE')\n",
    "plt.ylabel('WIND SPEED (MPH)')\n",
    "plt.title('LATITUDE vs WIND SPEED')\n",
    "corr=sts.pearsonr(wind_speed,lat);\n",
    "corr\n",
    "#plt.savefig('LatvsWind')"
   ]
  },
  {
   "cell_type": "markdown",
   "metadata": {},
   "source": [
    "###  Above code is analyzing wind speed across the northen and southern hemisphere"
   ]
  },
  {
   "cell_type": "code",
   "execution_count": 26,
   "metadata": {},
   "outputs": [],
   "source": [
    "#Separating NORTHEN AND SOUTHERN HEMISPHERES\n",
    "df_south=df_cities[df_cities['Latitude'] < 0]\n",
    "df_north=df_cities[df_cities['Latitude'] >= 0]"
   ]
  },
  {
   "cell_type": "code",
   "execution_count": 27,
   "metadata": {},
   "outputs": [],
   "source": [
    "#Generating variables for latitdues\n",
    "lat_s=df_south['Latitude']\n",
    "lat_n=df_north['Latitude']"
   ]
  },
  {
   "cell_type": "code",
   "execution_count": 28,
   "metadata": {},
   "outputs": [],
   "source": [
    "#Generating variables for required entities for regression\n",
    "temp_n=df_north['Max_Temp']\n",
    "temp_s=df_south['Max_Temp']\n",
    "hum_n=df_north['Humidity']\n",
    "hum_s=df_south['Humidity']\n",
    "cloud_n=df_north['Cloudiness']\n",
    "cloud_s=df_south['Cloudiness']\n",
    "wind_n=df_north['Wind Speed']\n",
    "wind_s=df_south['Wind Speed']"
   ]
  },
  {
   "cell_type": "markdown",
   "metadata": {},
   "source": [
    "### Regression Analysis"
   ]
  },
  {
   "cell_type": "markdown",
   "metadata": {},
   "source": [
    "### Latitude (N) vs Max Temp"
   ]
  },
  {
   "cell_type": "code",
   "execution_count": 29,
   "metadata": {},
   "outputs": [
    {
     "data": {
      "text/plain": [
       "'y = -0.65x + 90.59'"
      ]
     },
     "execution_count": 29,
     "metadata": {},
     "output_type": "execute_result"
    }
   ],
   "source": [
    "(slope,intercept,rvalue,pvalue,stderr)=linregress(lat_n.astype(float),temp_n.astype(float))\n",
    "\n",
    "regress_values = lat_n*slope +intercept\n",
    "\n",
    "line_eq= \"y = \" + str(round(slope,2)) + \"x + \"+ str(round(intercept,2))\n",
    "\n",
    "line_eq"
   ]
  },
  {
   "cell_type": "code",
   "execution_count": 30,
   "metadata": {},
   "outputs": [
    {
     "data": {
      "text/plain": [
       "Text(0, 0.5, 'Max Temp (F)')"
      ]
     },
     "execution_count": 30,
     "metadata": {},
     "output_type": "execute_result"
    },
    {
     "data": {
      "image/png": "[encoded data removed]",
      "text/plain": [
       "<Figure size 432x288 with 1 Axes>"
      ]
     },
     "metadata": {
      "needs_background": "light"
     },
     "output_type": "display_data"
    }
   ],
   "source": [
    "plt.scatter(lat_n,temp_n)\n",
    "plt.plot(lat_n,regress_values,\"red\")\n",
    "plt.annotate(line_eq,(7,42),color=\"green\",fontsize=15)\n",
    "plt.annotate(f\"R2 = {round(rvalue**2,3)}\",(7,35),fontsize=14,color=\"black\")\n",
    "plt.xlabel('Latitude')\n",
    "plt.ylabel('Max Temp (F)')"
   ]
  },
  {
   "cell_type": "markdown",
   "metadata": {},
   "source": [
    "### Temperature drops as we move away from the equator"
   ]
  },
  {
   "cell_type": "markdown",
   "metadata": {},
   "source": [
    "### Latitude (S) vs Max Temp"
   ]
  },
  {
   "cell_type": "code",
   "execution_count": 31,
   "metadata": {},
   "outputs": [
    {
     "data": {
      "text/plain": [
       "'y = 0.64x + 81.07'"
      ]
     },
     "execution_count": 31,
     "metadata": {},
     "output_type": "execute_result"
    }
   ],
   "source": [
    "(slope,intercept,rvalue,pvalue,stderr)=linregress(lat_s.astype(float),temp_s.astype(float))\n",
    "\n",
    "regress_values = lat_s*slope +intercept\n",
    "\n",
    "line_eq= \"y = \" + str(round(slope,2)) + \"x + \"+ str(round(intercept,2))\n",
    "\n",
    "line_eq"
   ]
  },
  {
   "cell_type": "code",
   "execution_count": 32,
   "metadata": {},
   "outputs": [
    {
     "data": {
      "text/plain": [
       "0.7596150034408823"
      ]
     },
     "execution_count": 32,
     "metadata": {},
     "output_type": "execute_result"
    }
   ],
   "source": [
    "rvalue"
   ]
  },
  {
   "cell_type": "code",
   "execution_count": 33,
   "metadata": {},
   "outputs": [
    {
     "data": {
      "text/plain": [
       "Text(0, 0.5, 'Max Temp (F)')"
      ]
     },
     "execution_count": 33,
     "metadata": {},
     "output_type": "execute_result"
    },
    {
     "data": {
      "image/png": "[encoded data removed]",
      "text/plain": [
       "<Figure size 432x288 with 1 Axes>"
      ]
     },
     "metadata": {
      "needs_background": "light"
     },
     "output_type": "display_data"
    }
   ],
   "source": [
    "plt.scatter(lat_s,temp_s)\n",
    "plt.plot(lat_s,regress_values,\"red\")\n",
    "plt.annotate(line_eq,(-25,52),color=\"green\",fontsize=15)\n",
    "plt.annotate(f\"R2 = {round(rvalue**2,3)}\",(-25,45),fontsize=14,color=\"black\")\n",
    "plt.xlabel('Latitude')\n",
    "plt.ylabel('Max Temp (F)')"
   ]
  },
  {
   "cell_type": "markdown",
   "metadata": {},
   "source": [
    "### Temperature rises as we move towards the equator"
   ]
  },
  {
   "cell_type": "markdown",
   "metadata": {},
   "source": [
    "### Latitude (N) vs Humidity"
   ]
  },
  {
   "cell_type": "code",
   "execution_count": 34,
   "metadata": {},
   "outputs": [
    {
     "data": {
      "text/plain": [
       "'y = 0.04x + 69.1'"
      ]
     },
     "execution_count": 34,
     "metadata": {},
     "output_type": "execute_result"
    }
   ],
   "source": [
    "(slope,intercept,rvalue,pvalue,stderr)=linregress(lat_n.astype(float),hum_n.astype(float))\n",
    "\n",
    "regress_values = lat_n*slope +intercept\n",
    "\n",
    "line_eq= \"y = \" + str(round(slope,2)) + \"x + \"+ str(round(intercept,2))\n",
    "\n",
    "line_eq"
   ]
  },
  {
   "cell_type": "code",
   "execution_count": 35,
   "metadata": {},
   "outputs": [
    {
     "data": {
      "text/plain": [
       "Text(0, 0.5, 'Humidity')"
      ]
     },
     "execution_count": 35,
     "metadata": {},
     "output_type": "execute_result"
    },
    {
     "data": {
      "image/png": "[encoded data removed]",
      "text/plain": [
       "<Figure size 432x288 with 1 Axes>"
      ]
     },
     "metadata": {
      "needs_background": "light"
     },
     "output_type": "display_data"
    }
   ],
   "source": [
    "plt.scatter(lat_n,hum_n)\n",
    "plt.plot(lat_n,regress_values,\"red\")\n",
    "plt.annotate(line_eq,(1,25),color=\"green\",fontsize=15)\n",
    "plt.annotate(f\"R2 = {round(rvalue**2,3)}\",(1,18),fontsize=14,color=\"black\")\n",
    "plt.xlabel('Latitude')\n",
    "plt.ylabel('Humidity')"
   ]
  },
  {
   "cell_type": "markdown",
   "metadata": {},
   "source": [
    "### Humidity very slightly rises or remains constant as we move away from the equator based on line equation"
   ]
  },
  {
   "cell_type": "markdown",
   "metadata": {},
   "source": [
    "### Latitude (S) vs Humidity"
   ]
  },
  {
   "cell_type": "code",
   "execution_count": 36,
   "metadata": {},
   "outputs": [
    {
     "data": {
      "text/plain": [
       "'y = 0.1x + 73.23'"
      ]
     },
     "execution_count": 36,
     "metadata": {},
     "output_type": "execute_result"
    }
   ],
   "source": [
    "(slope,intercept,rvalue,pvalue,stderr)=linregress(lat_s.astype(float),hum_s.astype(float))\n",
    "\n",
    "regress_values = lat_s*slope +intercept\n",
    "\n",
    "line_eq= \"y = \" + str(round(slope,2)) + \"x + \"+ str(round(intercept,2))\n",
    "\n",
    "line_eq"
   ]
  },
  {
   "cell_type": "code",
   "execution_count": 37,
   "metadata": {},
   "outputs": [
    {
     "data": {
      "text/plain": [
       "Text(0, 0.5, 'Humidity')"
      ]
     },
     "execution_count": 37,
     "metadata": {},
     "output_type": "execute_result"
    },
    {
     "data": {
      "image/png": "[encoded data removed]",
      "text/plain": [
       "<Figure size 432x288 with 1 Axes>"
      ]
     },
     "metadata": {
      "needs_background": "light"
     },
     "output_type": "display_data"
    }
   ],
   "source": [
    "plt.scatter(lat_s,hum_s)\n",
    "plt.plot(lat_s,regress_values,\"red\")\n",
    "plt.annotate(line_eq,(-55,25),color=\"green\",fontsize=15)\n",
    "plt.annotate(f\"R2 = {round(rvalue**2,3)}\",(-55,20),fontsize=14,color=\"black\")\n",
    "plt.xlabel('Latitude')\n",
    "plt.ylabel('Humidity')"
   ]
  },
  {
   "cell_type": "markdown",
   "metadata": {},
   "source": [
    "### Humidty reduces based on line equaiton as we move towards equator"
   ]
  },
  {
   "cell_type": "markdown",
   "metadata": {},
   "source": [
    "### Latitude(N) vs Cloudiness"
   ]
  },
  {
   "cell_type": "code",
   "execution_count": 38,
   "metadata": {},
   "outputs": [
    {
     "data": {
      "text/plain": [
       "'y = 0.3x + 42.0'"
      ]
     },
     "execution_count": 38,
     "metadata": {},
     "output_type": "execute_result"
    }
   ],
   "source": [
    "(slope,intercept,rvalue,pvalue,stderr)=linregress(lat_n.astype(float),cloud_n.astype(float))\n",
    "\n",
    "regress_values = lat_n*slope +intercept\n",
    "\n",
    "line_eq= \"y = \" + str(round(slope,2)) + \"x + \"+ str(round(intercept,2))\n",
    "\n",
    "line_eq"
   ]
  },
  {
   "cell_type": "code",
   "execution_count": 39,
   "metadata": {},
   "outputs": [
    {
     "data": {
      "text/plain": [
       "Text(0, 0.5, 'Cloudiness')"
      ]
     },
     "execution_count": 39,
     "metadata": {},
     "output_type": "execute_result"
    },
    {
     "data": {
      "image/png": "[encoded data removed]",
      "text/plain": [
       "<Figure size 432x288 with 1 Axes>"
      ]
     },
     "metadata": {
      "needs_background": "light"
     },
     "output_type": "display_data"
    }
   ],
   "source": [
    "plt.scatter(lat_n,cloud_n)\n",
    "plt.plot(lat_n,regress_values,\"red\")\n",
    "plt.annotate(line_eq,(20,63),color=\"green\",fontsize=15)\n",
    "plt.annotate(f\"R2 = {round(rvalue**2,3)}\",(20,59),fontsize=14,color=\"black\")\n",
    "plt.xlabel('Latitude')\n",
    "plt.ylabel('Cloudiness')"
   ]
  },
  {
   "cell_type": "markdown",
   "metadata": {},
   "source": [
    "### Cloudiness more or less remains constant, latitude has very little affect on it in the northen hemisphere"
   ]
  },
  {
   "cell_type": "markdown",
   "metadata": {},
   "source": [
    "### Latitude (S) vs Cloudiness"
   ]
  },
  {
   "cell_type": "code",
   "execution_count": 40,
   "metadata": {},
   "outputs": [
    {
     "data": {
      "text/plain": [
       "'y = -0.08x + 43.36'"
      ]
     },
     "execution_count": 40,
     "metadata": {},
     "output_type": "execute_result"
    }
   ],
   "source": [
    "(slope,intercept,rvalue,pvalue,stderr)=linregress(lat_s.astype(float),cloud_s.astype(float))\n",
    "\n",
    "regress_values = lat_s*slope +intercept\n",
    "\n",
    "line_eq= \"y = \" + str(round(slope,2)) + \"x + \"+ str(round(intercept,2))\n",
    "\n",
    "line_eq"
   ]
  },
  {
   "cell_type": "code",
   "execution_count": 41,
   "metadata": {},
   "outputs": [
    {
     "data": {
      "text/plain": [
       "Text(0, 0.5, 'Cloudiness')"
      ]
     },
     "execution_count": 41,
     "metadata": {},
     "output_type": "execute_result"
    },
    {
     "data": {
      "image/png": "[encoded data removed]",
      "text/plain": [
       "<Figure size 432x288 with 1 Axes>"
      ]
     },
     "metadata": {
      "needs_background": "light"
     },
     "output_type": "display_data"
    }
   ],
   "source": [
    "plt.scatter(lat_s,cloud_s)\n",
    "plt.plot(lat_s,regress_values,\"red\")\n",
    "plt.annotate(line_eq,(-50,45),color=\"green\",fontsize=15)\n",
    "plt.annotate(f\"R2 = {round(rvalue**2,3)}\",(-50,38),fontsize=14,color=\"black\")\n",
    "plt.xlabel('Latitude')\n",
    "plt.ylabel('Cloudiness')"
   ]
  },
  {
   "cell_type": "markdown",
   "metadata": {},
   "source": [
    "### Cloudiness tends to rise as we move towrards equator from the Southern Hemisphere"
   ]
  },
  {
   "cell_type": "markdown",
   "metadata": {},
   "source": [
    "### Latitude (N) vs Wind Speed"
   ]
  },
  {
   "cell_type": "code",
   "execution_count": 42,
   "metadata": {},
   "outputs": [
    {
     "data": {
      "text/plain": [
       "'y = 0.04x + 6.18'"
      ]
     },
     "execution_count": 42,
     "metadata": {},
     "output_type": "execute_result"
    }
   ],
   "source": [
    "(slope,intercept,rvalue,pvalue,stderr)=linregress(lat_n.astype(float),wind_n.astype(float))\n",
    "\n",
    "regress_values = lat_n*slope +intercept\n",
    "\n",
    "line_eq= \"y = \" + str(round(slope,2)) + \"x + \"+ str(round(intercept,2))\n",
    "\n",
    "line_eq"
   ]
  },
  {
   "cell_type": "code",
   "execution_count": 43,
   "metadata": {},
   "outputs": [
    {
     "data": {
      "text/plain": [
       "Text(0, 0.5, 'Wind Speed mph')"
      ]
     },
     "execution_count": 43,
     "metadata": {},
     "output_type": "execute_result"
    },
    {
     "data": {
      "image/png": "[encoded data removed]",
      "text/plain": [
       "<Figure size 432x288 with 1 Axes>"
      ]
     },
     "metadata": {
      "needs_background": "light"
     },
     "output_type": "display_data"
    }
   ],
   "source": [
    "plt.scatter(lat_n,wind_n)\n",
    "plt.plot(lat_n,regress_values,\"red\")\n",
    "plt.annotate(line_eq,(30,26),color=\"green\",fontsize=15)\n",
    "plt.annotate(f\"R2 = {round(rvalue**2,3)}\",(30,24),fontsize=14,color=\"black\")\n",
    "plt.xlabel('Latitude')\n",
    "plt.ylabel('Wind Speed mph')"
   ]
  },
  {
   "cell_type": "markdown",
   "metadata": {},
   "source": [
    "### As per the line eq- latitude hardly contributes to the wind speed in the northen hemisphere"
   ]
  },
  {
   "cell_type": "markdown",
   "metadata": {},
   "source": [
    "### Latitude (S) vs Wind Speed"
   ]
  },
  {
   "cell_type": "code",
   "execution_count": 44,
   "metadata": {},
   "outputs": [
    {
     "data": {
      "text/plain": [
       "'y = -0.07x + 7.37'"
      ]
     },
     "execution_count": 44,
     "metadata": {},
     "output_type": "execute_result"
    }
   ],
   "source": [
    "(slope,intercept,rvalue,pvalue,stderr)=linregress(lat_s.astype(float),wind_s.astype(float))\n",
    "\n",
    "regress_values = lat_s*slope +intercept\n",
    "\n",
    "line_eq= \"y = \" + str(round(slope,2)) + \"x + \"+ str(round(intercept,2))\n",
    "\n",
    "line_eq"
   ]
  },
  {
   "cell_type": "code",
   "execution_count": 45,
   "metadata": {},
   "outputs": [
    {
     "data": {
      "text/plain": [
       "Text(0, 0.5, 'Wind Speed mph')"
      ]
     },
     "execution_count": 45,
     "metadata": {},
     "output_type": "execute_result"
    },
    {
     "data": {
      "image/png": "[encoded data removed]",
      "text/plain": [
       "<Figure size 432x288 with 1 Axes>"
      ]
     },
     "metadata": {
      "needs_background": "light"
     },
     "output_type": "display_data"
    }
   ],
   "source": [
    "plt.scatter(lat_s,wind_s)\n",
    "plt.plot(lat_s,regress_values,\"red\")\n",
    "plt.annotate(line_eq,(-50,20),color=\"green\",fontsize=15)\n",
    "plt.annotate(f\"R2 = {round(rvalue**2,3)}\",(-50,16),fontsize=14,color=\"black\")\n",
    "plt.xlabel('Latitude')\n",
    "plt.ylabel('Wind Speed mph')"
   ]
  },
  {
   "cell_type": "markdown",
   "metadata": {},
   "source": [
    "### Wind speed is greater away from the equator in the southern hemisphere"
   ]
  },
  {
   "cell_type": "code",
   "execution_count": null,
   "metadata": {},
   "outputs": [],
   "source": []
  }
 ],
 "metadata": {
  "kernelspec": {
   "display_name": "Python 3",
   "language": "python",
   "name": "python3"
  },
  "language_info": {
   "codemirror_mode": {
    "name": "ipython",
    "version": 3
   },
   "file_extension": ".py",
   "mimetype": "text/x-python",
   "name": "python",
   "nbconvert_exporter": "python",
   "pygments_lexer": "ipython3",
   "version": "3.7.3"
  }
 },
 "nbformat": 4,
 "nbformat_minor": 2
}
